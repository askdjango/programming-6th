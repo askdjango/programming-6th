{
 "cells": [
  {
   "cell_type": "code",
   "execution_count": 41,
   "metadata": {
    "collapsed": false
   },
   "outputs": [
    {
     "name": "stdout",
     "output_type": "stream",
     "text": [
      "1\n",
      "2\n"
     ]
    }
   ],
   "source": [
    "A = [\n",
    "    [1,2],\n",
    "    [3,4]\n",
    "]\n",
    "\n",
    "B = [\n",
    "    [5,6],\n",
    "    [7,8]\n",
    "]\n",
    "\n",
    "       \n",
    "result = [\n",
    "    [0,0],\n",
    "    [0,0]\n",
    "]\n",
    "\n",
    "print(A[0][0])\n",
    "print(A[0][1])"
   ]
  },
  {
   "cell_type": "code",
   "execution_count": 42,
   "metadata": {
    "collapsed": false
   },
   "outputs": [
    {
     "name": "stdout",
     "output_type": "stream",
     "text": [
      "[19, 22]\n",
      "[43, 50]\n"
     ]
    }
   ],
   "source": [
    "for i in range(len(A)):\n",
    "    for j in range(len(B[0])):\n",
    "        for k in range(len(B)):\n",
    "            result[i][j] += A[i][k] * B[k][j]\n",
    "\n",
    "        \n",
    "for x in result:\n",
    "    print(x)"
   ]
  },
  {
   "cell_type": "markdown",
   "metadata": {},
   "source": [
    "## 에피소드 목록 크롤링"
   ]
  },
  {
   "cell_type": "code",
   "execution_count": 24,
   "metadata": {
    "collapsed": false
   },
   "outputs": [
    {
     "name": "stdout",
     "output_type": "stream",
     "text": [
      "[<td class=\"title\">\n",
      "<a href=\"/bestChallenge/detail.nhn?titleId=681150&amp;no=31\" onclick=\"clickcr(this,'lst.title','681150','31',event)\">기부의 맛 포텐업</a>\n",
      "</td>, <td class=\"title\">\n",
      "<a href=\"/bestChallenge/detail.nhn?titleId=681150&amp;no=30\" onclick=\"clickcr(this,'lst.title','681150','30',event)\">엄마의 본능 김</a>\n",
      "</td>, <td class=\"title\">\n",
      "<a href=\"/bestChallenge/detail.nhn?titleId=681150&amp;no=29\" onclick=\"clickcr(this,'lst.title','681150','29',event)\">다신 맛 볼수없는 토란국</a>\n",
      "</td>, <td class=\"title\">\n",
      "<a href=\"/bestChallenge/detail.nhn?titleId=681150&amp;no=28\" onclick=\"clickcr(this,'lst.title','681150','28',event)\">꿈 많던 시절 나폴리탄 스파게티</a>\n",
      "</td>, <td class=\"title\">\n",
      "<a href=\"/bestChallenge/detail.nhn?titleId=681150&amp;no=27\" onclick=\"clickcr(this,'lst.title','681150','27',event)\">봄은 옵니다 냉이국</a>\n",
      "</td>, <td class=\"title\">\n",
      "<a href=\"/bestChallenge/detail.nhn?titleId=681150&amp;no=26\" onclick=\"clickcr(this,'lst.title','681150','26',event)\">가슴아픈 사치 카푸치노</a>\n",
      "</td>, <td class=\"title\">\n",
      "<a href=\"/bestChallenge/detail.nhn?titleId=681150&amp;no=25\" onclick=\"clickcr(this,'lst.title','681150','25',event)\">마음의 평정심 고구마맛탕</a>\n",
      "</td>, <td class=\"title\">\n",
      "<a href=\"/bestChallenge/detail.nhn?titleId=681150&amp;no=24\" onclick=\"clickcr(this,'lst.title','681150','24',event)\">섣부른 판단은 그만 청국장</a>\n",
      "</td>, <td class=\"title\">\n",
      "<a href=\"/bestChallenge/detail.nhn?titleId=681150&amp;no=23\" onclick=\"clickcr(this,'lst.title','681150','23',event)\">마음을 풀어주는 어묵탕</a>\n",
      "</td>, <td class=\"title\">\n",
      "<a href=\"/bestChallenge/detail.nhn?titleId=681150&amp;no=22\" onclick=\"clickcr(this,'lst.title','681150','22',event)\">여수, 여행의 맛</a>\n",
      "</td>]\n",
      "[<td class=\"title\">\n",
      "<a href=\"/bestChallenge/detail.nhn?titleId=681150&amp;no=21\" onclick=\"clickcr(this,'lst.title','681150','21',event)\">휴재 공지</a>\n",
      "</td>, <td class=\"title\">\n",
      "<a href=\"/bestChallenge/detail.nhn?titleId=681150&amp;no=20\" onclick=\"clickcr(this,'lst.title','681150','20',event)\">그때 그시절의 맛 두부김치</a>\n",
      "</td>, <td class=\"title\">\n",
      "<a href=\"/bestChallenge/detail.nhn?titleId=681150&amp;no=19\" onclick=\"clickcr(this,'lst.title','681150','19',event)\">응원의 맛 가츠동</a>\n",
      "</td>, <td class=\"title\">\n",
      "<a href=\"/bestChallenge/detail.nhn?titleId=681150&amp;no=18\" onclick=\"clickcr(this,'lst.title','681150','18',event)\">여유의 맛 구운 귤</a>\n",
      "</td>, <td class=\"title\">\n",
      "<a href=\"/bestChallenge/detail.nhn?titleId=681150&amp;no=17\" onclick=\"clickcr(this,'lst.title','681150','17',event)\">훌훌 털어내자 쏘맥</a>\n",
      "</td>, <td class=\"title\">\n",
      "<a href=\"/bestChallenge/detail.nhn?titleId=681150&amp;no=16\" onclick=\"clickcr(this,'lst.title','681150','16',event)\">전성기의 맛 닭볶음탕</a>\n",
      "</td>, <td class=\"title\">\n",
      "<a href=\"/bestChallenge/detail.nhn?titleId=681150&amp;no=15\" onclick=\"clickcr(this,'lst.title','681150','15',event)\">비교할 필요없는 돼지목살스테이크</a>\n",
      "</td>, <td class=\"title\">\n",
      "<a href=\"/bestChallenge/detail.nhn?titleId=681150&amp;no=14\" onclick=\"clickcr(this,'lst.title','681150','14',event)\">자극적 행복 비빔국수</a>\n",
      "</td>, <td class=\"title\">\n",
      "<a href=\"/bestChallenge/detail.nhn?titleId=681150&amp;no=13\" onclick=\"clickcr(this,'lst.title','681150','13',event)\">위로의 맛 참치야채죽</a>\n",
      "</td>, <td class=\"title\">\n",
      "<a href=\"/bestChallenge/detail.nhn?titleId=681150&amp;no=12\" onclick=\"clickcr(this,'lst.title','681150','12',event)\">도전의 맛 고추장크림파스타</a>\n",
      "</td>]\n",
      "[<td class=\"title\">\n",
      "<a href=\"/bestChallenge/detail.nhn?titleId=681150&amp;no=11\" onclick=\"clickcr(this,'lst.title','681150','11',event)\">웃음짓는 맛 건푸레이크</a>\n",
      "</td>, <td class=\"title\">\n",
      "<a href=\"/bestChallenge/detail.nhn?titleId=681150&amp;no=10\" onclick=\"clickcr(this,'lst.title','681150','10',event)\">일상의 맛 김치볶음밥</a>\n",
      "</td>, <td class=\"title\">\n",
      "<a href=\"/bestChallenge/detail.nhn?titleId=681150&amp;no=9\" onclick=\"clickcr(this,'lst.title','681150','9',event)\">노력의 맛 손칼국수</a>\n",
      "</td>, <td class=\"title\">\n",
      "<a href=\"/bestChallenge/detail.nhn?titleId=681150&amp;no=8\" onclick=\"clickcr(this,'lst.title','681150','8',event)\">도전의 맛 병어조림</a>\n",
      "</td>, <td class=\"title\">\n",
      "<a href=\"/bestChallenge/detail.nhn?titleId=681150&amp;no=7\" onclick=\"clickcr(this,'lst.title','681150','7',event)\">마음까지 해장 콩나물국</a>\n",
      "</td>, <td class=\"title\">\n",
      "<a href=\"/bestChallenge/detail.nhn?titleId=681150&amp;no=6\" onclick=\"clickcr(this,'lst.title','681150','6',event)\">주말의 맛 오므라이스</a>\n",
      "</td>, <td class=\"title\">\n",
      "<a href=\"/bestChallenge/detail.nhn?titleId=681150&amp;no=5\" onclick=\"clickcr(this,'lst.title','681150','5',event)\">아빠의 맛 돼지갈비</a>\n",
      "</td>, <td class=\"title\">\n",
      "<a href=\"/bestChallenge/detail.nhn?titleId=681150&amp;no=4\" onclick=\"clickcr(this,'lst.title','681150','4',event)\">경험해야 알수있는 맛 가지볶음</a>\n",
      "</td>, <td class=\"title\">\n",
      "<a href=\"/bestChallenge/detail.nhn?titleId=681150&amp;no=3\" onclick=\"clickcr(this,'lst.title','681150','3',event)\">몸보신 라면</a>\n",
      "</td>, <td class=\"title\">\n",
      "<a href=\"/bestChallenge/detail.nhn?titleId=681150&amp;no=2\" onclick=\"clickcr(this,'lst.title','681150','2',event)\">갓 지은 냄비밥</a>\n",
      "</td>]\n",
      "[<td class=\"title\">\n",
      "<a href=\"/bestChallenge/detail.nhn?titleId=681150&amp;no=1\" onclick=\"clickcr(this,'lst.title','681150','1',event)\">간장계란밥</a>\n",
      "</td>]\n"
     ]
    }
   ],
   "source": [
    "import os\n",
    "import requests\n",
    "\n",
    "#with open('zzum5_titles', 'wt') as f:\n",
    " #  f.write(names)  \n",
    "\n",
    "from bs4 import BeautifulSoup\n",
    "    \n",
    "for i in range(4):\n",
    "    epi_url = \"http://comic.naver.com/bestChallenge/list.nhn?titleId=681150&page={}\".format(i+1)\n",
    "    html= requests.get(epi_url).text\n",
    "    soup = BeautifulSoup(html, 'html.parser')\n",
    "    \n",
    "    #thum_url = img_tag['src']\n",
    "    titles = soup.select('.title')\n",
    "    \n",
    "    print(titles)"
   ]
  },
  {
   "cell_type": "code",
   "execution_count": null,
   "metadata": {
    "collapsed": true
   },
   "outputs": [],
   "source": []
  }
 ],
 "metadata": {
  "kernelspec": {
   "display_name": "Python 3",
   "language": "python",
   "name": "python3"
  },
  "language_info": {
   "codemirror_mode": {
    "name": "ipython",
    "version": 3
   },
   "file_extension": ".py",
   "mimetype": "text/x-python",
   "name": "python",
   "nbconvert_exporter": "python",
   "pygments_lexer": "ipython3",
   "version": "3.6.0"
  }
 },
 "nbformat": 4,
 "nbformat_minor": 2
}
