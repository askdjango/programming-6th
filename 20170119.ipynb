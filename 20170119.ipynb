{
 "cells": [
  {
   "cell_type": "markdown",
   "metadata": {},
   "source": [
    "# 행렬 곱"
   ]
  },
  {
   "cell_type": "code",
   "execution_count": 1,
   "metadata": {
    "collapsed": true
   },
   "outputs": [],
   "source": [
    "arr1 = [\n",
    "    [1, 2],\n",
    "    [3, 4],\n",
    "]"
   ]
  },
  {
   "cell_type": "code",
   "execution_count": 2,
   "metadata": {
    "collapsed": true
   },
   "outputs": [],
   "source": [
    "arr2 = [\n",
    "    [5, 6],\n",
    "    [7, 8],\n",
    "]"
   ]
  },
  {
   "cell_type": "code",
   "execution_count": 4,
   "metadata": {
    "collapsed": false
   },
   "outputs": [
    {
     "data": {
      "text/plain": [
       "[(5, 7), (6, 8)]"
      ]
     },
     "execution_count": 4,
     "metadata": {},
     "output_type": "execute_result"
    }
   ],
   "source": [
    "list(zip(*arr2))\n",
    "\n",
    "# zip([5, 6], [7, 8]) # generator"
   ]
  },
  {
   "cell_type": "code",
   "execution_count": 6,
   "metadata": {
    "collapsed": false
   },
   "outputs": [
    {
     "name": "stdout",
     "output_type": "stream",
     "text": [
      "a x\n",
      "b y\n",
      "c z\n",
      "a x\n",
      "b y\n",
      "c z\n",
      "----\n",
      "[['a', 'b', 'c'], ['x', 'y', 'z']]\n",
      "a x\n",
      "b y\n",
      "c z\n"
     ]
    }
   ],
   "source": [
    "mylist1 = ['a', 'b', 'c']\n",
    "mylist2 = ['x', 'y', 'z']\n",
    "\n",
    "for i in range(len(mylist1)):\n",
    "    v1, v2 = mylist1[i], mylist2[i]\n",
    "    print(v1, v2)\n",
    "\n",
    "for (v1, v2) in zip(mylist1, mylist2):\n",
    "    print(v1, v2)\n",
    "\n",
    "print('----')\n",
    "mylist = [mylist1, mylist2]\n",
    "print(mylist)\n",
    "\n",
    "for (v1, v2) in zip(*mylist):\n",
    "    print(v1, v2)"
   ]
  },
  {
   "cell_type": "code",
   "execution_count": 8,
   "metadata": {
    "collapsed": false
   },
   "outputs": [
    {
     "data": {
      "text/plain": [
       "[[19, 22], [43, 50]]"
      ]
     },
     "execution_count": 8,
     "metadata": {},
     "output_type": "execute_result"
    }
   ],
   "source": [
    "result_list = []\n",
    "for row1 in arr1:\n",
    "    row_list = []\n",
    "    for row2 in zip(*arr2):\n",
    "        result = sum(i*j for i, j in zip(row1, row2))\n",
    "        row_list.append(result)\n",
    "    result_list.append(row_list)\n",
    "result_list"
   ]
  },
  {
   "cell_type": "code",
   "execution_count": 14,
   "metadata": {
    "collapsed": false
   },
   "outputs": [
    {
     "data": {
      "text/plain": [
       "[[19, 22], [43, 50]]"
      ]
     },
     "execution_count": 14,
     "metadata": {},
     "output_type": "execute_result"
    }
   ],
   "source": [
    "[[sum(i*j for i, j in zip(row1, row2))\n",
    "      for row2 in zip(*arr2)]\n",
    "     for row1 in arr1]"
   ]
  },
  {
   "cell_type": "code",
   "execution_count": null,
   "metadata": {
    "collapsed": true
   },
   "outputs": [],
   "source": []
  }
 ],
 "metadata": {
  "anaconda-cloud": {},
  "kernelspec": {
   "display_name": "Python [default]",
   "language": "python",
   "name": "python3"
  },
  "language_info": {
   "codemirror_mode": {
    "name": "ipython",
    "version": 3
   },
   "file_extension": ".py",
   "mimetype": "text/x-python",
   "name": "python",
   "nbconvert_exporter": "python",
   "pygments_lexer": "ipython3",
   "version": "3.5.2"
  }
 },
 "nbformat": 4,
 "nbformat_minor": 1
}
