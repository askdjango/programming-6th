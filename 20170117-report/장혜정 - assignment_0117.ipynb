{
 "cells": [
  {
   "cell_type": "markdown",
   "metadata": {},
   "source": [
    "# 행렬곱셈"
   ]
  },
  {
   "cell_type": "code",
   "execution_count": 19,
   "metadata": {
    "collapsed": false
   },
   "outputs": [],
   "source": [
    "def mul(M, N): \n",
    "    return [ [ sum([m*n in zip(Mrow, Ncol) ]) for Ncol in zip(*N) ] for Mrow in M ] "
   ]
  },
  {
   "cell_type": "markdown",
   "metadata": {},
   "source": [
    "# 웹툰 이미지 가져오기 "
   ]
  },
  {
   "cell_type": "code",
   "execution_count": 7,
   "metadata": {
    "collapsed": false
   },
   "outputs": [
    {
     "name": "stdout",
     "output_type": "stream",
     "text": [
      "이미 존재 : 20170116223211_31c72b205ffdb67e136314b4eb00cef6_IMAG01_1.jpg\n",
      "이미 존재 : 20170116223211_31c72b205ffdb67e136314b4eb00cef6_IMAG01_2.jpg\n",
      "이미 존재 : 20170116223211_31c72b205ffdb67e136314b4eb00cef6_IMAG01_3.jpg\n",
      "이미 존재 : 20170116223211_31c72b205ffdb67e136314b4eb00cef6_IMAG01_4.jpg\n",
      "이미 존재 : 20170116223211_31c72b205ffdb67e136314b4eb00cef6_IMAG01_5.jpg\n",
      "이미 존재 : 20170116223211_31c72b205ffdb67e136314b4eb00cef6_IMAG01_6.jpg\n",
      "이미 존재 : 20170116223211_31c72b205ffdb67e136314b4eb00cef6_IMAG01_7.jpg\n",
      "이미 존재 : 20170116223211_31c72b205ffdb67e136314b4eb00cef6_IMAG01_8.jpg\n",
      "이미 존재 : 20170116223211_31c72b205ffdb67e136314b4eb00cef6_IMAG01_9.jpg\n",
      "이미 존재 : 20170116223211_31c72b205ffdb67e136314b4eb00cef6_IMAG01_10.jpg\n",
      "이미 존재 : 20170116223211_31c72b205ffdb67e136314b4eb00cef6_IMAG01_11.jpg\n",
      "이미 존재 : 20170116223211_31c72b205ffdb67e136314b4eb00cef6_IMAG01_12.jpg\n",
      "이미 존재 : 20170116223211_31c72b205ffdb67e136314b4eb00cef6_IMAG01_13.jpg\n",
      "이미 존재 : 20170116223211_31c72b205ffdb67e136314b4eb00cef6_IMAG01_14.jpg\n",
      "이미 존재 : 20170116223211_31c72b205ffdb67e136314b4eb00cef6_IMAG01_15.jpg\n",
      "이미 존재 : 20170116223211_31c72b205ffdb67e136314b4eb00cef6_IMAG01_16.jpg\n",
      "이미 존재 : 20170116223211_31c72b205ffdb67e136314b4eb00cef6_IMAG01_17.jpg\n",
      "이미 존재 : 20170116223211_31c72b205ffdb67e136314b4eb00cef6_IMAG01_18.jpg\n",
      "이미 존재 : 20170116223211_31c72b205ffdb67e136314b4eb00cef6_IMAG01_19.jpg\n",
      "이미 존재 : 20170116223211_31c72b205ffdb67e136314b4eb00cef6_IMAG01_20.jpg\n",
      "이미 존재 : 20170116223211_31c72b205ffdb67e136314b4eb00cef6_IMAG01_21.jpg\n",
      "이미 존재 : 20170116223211_31c72b205ffdb67e136314b4eb00cef6_IMAG01_22.jpg\n",
      "이미 존재 : 20170116223211_31c72b205ffdb67e136314b4eb00cef6_IMAG01_23.jpg\n",
      "이미 존재 : 20170116223211_31c72b205ffdb67e136314b4eb00cef6_IMAG01_24.jpg\n",
      "이미 존재 : 20170116223211_31c72b205ffdb67e136314b4eb00cef6_IMAG01_25.jpg\n",
      "이미 존재 : 20170116223211_31c72b205ffdb67e136314b4eb00cef6_IMAG01_26.jpg\n",
      "이미 존재 : 20170116223211_31c72b205ffdb67e136314b4eb00cef6_IMAG01_27.jpg\n",
      "이미 존재 : 20170116223211_31c72b205ffdb67e136314b4eb00cef6_IMAG01_28.jpg\n",
      "이미 존재 : 20170116223211_31c72b205ffdb67e136314b4eb00cef6_IMAG01_29.jpg\n",
      "이미 존재 : 20170116223211_31c72b205ffdb67e136314b4eb00cef6_IMAG01_30.jpg\n",
      "이미 존재 : 20170116223211_31c72b205ffdb67e136314b4eb00cef6_IMAG01_31.jpg\n",
      "이미 존재 : 20170116223211_31c72b205ffdb67e136314b4eb00cef6_IMAG01_32.jpg\n",
      "이미 존재 : 20170116223211_31c72b205ffdb67e136314b4eb00cef6_IMAG01_33.jpg\n",
      "이미 존재 : 20170116223211_31c72b205ffdb67e136314b4eb00cef6_IMAG01_34.jpg\n",
      "이미 존재 : 20170116223211_31c72b205ffdb67e136314b4eb00cef6_IMAG01_35.jpg\n",
      "이미 존재 : 20170116223211_31c72b205ffdb67e136314b4eb00cef6_IMAG01_36.jpg\n",
      "이미 존재 : 20170116223211_31c72b205ffdb67e136314b4eb00cef6_IMAG01_37.jpg\n",
      "이미 존재 : 20170116223211_31c72b205ffdb67e136314b4eb00cef6_IMAG01_38.jpg\n",
      "이미 존재 : 20170116223211_31c72b205ffdb67e136314b4eb00cef6_IMAG01_39.jpg\n",
      "이미 존재 : 20170116223211_31c72b205ffdb67e136314b4eb00cef6_IMAG01_40.jpg\n",
      "이미 존재 : 20170116223211_31c72b205ffdb67e136314b4eb00cef6_IMAG01_41.jpg\n"
     ]
    }
   ],
   "source": [
    "import requests\n",
    "import os\n",
    "from bs4 import BeautifulSoup\n",
    "html = requests.get(\"http://comic.naver.com/webtoon/detail.nhn?titleId=690502&no=5&weekday=tue\").text\n",
    "soup = BeautifulSoup(html, 'html.parser') \n",
    "ep_url = \"http://comic.naver.com/webtoon/detail.nhn?titleId=690502&no=5&weekday=tue\"\n",
    "\n",
    "for idx, img_tag in enumerate(soup.select(\".wt_viewer img\"), 1):\n",
    "    img_url = img_tag['src']\n",
    "    \n",
    "    filename = os.path.basename(img_url) \n",
    "    filepath = os.path.join(\"data\", \"사이다\", filename) \n",
    "    dirpath = os.path.dirname(filepath) \n",
    "    if not os.path.exists(dirpath):\n",
    "        os.makedirs(dirpath)\n",
    "    if os.path.exists(filepath):\n",
    "        print(\"이미 존재 :\", filename) \n",
    "    else:\n",
    "        print(\"다운받을 것이오.\", filename) \n",
    "    headers = {\n",
    "            'Referer': ep_url\n",
    "        }\n",
    "    image_data = requests.get(img_url, headers=headers).content\n",
    "    with open(filepath, 'wb') as f:\n",
    "        f.write(image_data) "
   ]
  },
  {
   "cell_type": "markdown",
   "metadata": {},
   "source": [
    "# 이미지 합치기 "
   ]
  },
  {
   "cell_type": "code",
   "execution_count": 16,
   "metadata": {
    "collapsed": true
   },
   "outputs": [],
   "source": [
    "import glob\n",
    "from PIL import Image\n",
    "import os\n",
    "\n",
    "def calculate_size(files):\n",
    "    size_width = []\n",
    "    size_height = []\n",
    "    file_list = []\n",
    "    for file in files:\n",
    "        image = Image.open(file)\n",
    "        size_width.append(image.size[0]) # size[0]은 가로\n",
    "        size_height.append(image.size[1]) # size[1] 은 세로\n",
    "        file_list.append(image)\n",
    "\n",
    "    total_height = size_height[1] * len(files) # 한 이미지당 세로 길이\n",
    "    total_width = size_width[1] # 가로 길이\n",
    "    height_size = size_height[1] # 총 세로 길이\n",
    "\n",
    "    canvas = Image.new(\"RGB\", (total_width, 65000), (256, 256, 256)) # 캔버스 생성\n",
    "    y_start = 0\n",
    "    for index in range(len(file_list)):\n",
    "        area = (0, y_start, total_width, y_start+file_list[index].size[1]) \n",
    "        y_start += file_list[index].size[1]\n",
    "        canvas.paste(file_list[index], area)\n",
    "    canvas.save(\"result.jpg\")\n",
    "\n",
    "target_dir = \"C:\\dev\\data\\사이다\"\n",
    "files = glob.glob(target_dir + \"\\*.jpg\")\n",
    "files.sort(key = os.path.getmtime)\n",
    "calculate_size(files)  "
   ]
  },
  {
   "cell_type": "markdown",
   "metadata": {},
   "source": [
    "# 에피소드 목록, 썸네일 긁어오기"
   ]
  },
  {
   "cell_type": "code",
   "execution_count": 6,
   "metadata": {
    "collapsed": false
   },
   "outputs": [],
   "source": [
    "import requests\n",
    "import json\n",
    "import os\n",
    "from bs4 import BeautifulSoup\n",
    "\n",
    "for i in range(7):\n",
    "    url = \"http://comic.naver.com/webtoon/list.nhn?titleId=679519&weekday=thu&page={}\".format(i+1)\n",
    "    html = requests.get(url).text\n",
    "    soup = BeautifulSoup(html, 'html.parser')\n",
    "    for episode_tag in soup.select('.viewList img'):\n",
    "        img_url = episode_tag['src']\n",
    "        thumbnails = os.path.basename(img_url)\n",
    "        title = episode_tag['alt']\n",
    "        filepath = os.path.join(\"webtoon\", title, thumbnails)\n",
    "        dirpath = os.path.dirname(filepath)\n",
    "        if not os.path.exists(dirpath):\n",
    "            os.makedirs(dirpath)\n",
    "        headers = {'Referer' : url}\n",
    "        image_data = requests.get(img_url, headers = headers).content\n",
    "        with open(filepath, 'wb') as f:\n",
    "            f.write(image_data) "
   ]
  }
 ],
 "metadata": {
  "anaconda-cloud": {},
  "kernelspec": {
   "display_name": "Python [default]",
   "language": "python",
   "name": "python3"
  },
  "language_info": {
   "codemirror_mode": {
    "name": "ipython",
    "version": 3
   },
   "file_extension": ".py",
   "mimetype": "text/x-python",
   "name": "python",
   "nbconvert_exporter": "python",
   "pygments_lexer": "ipython3",
   "version": "3.5.2"
  }
 },
 "nbformat": 4,
 "nbformat_minor": 1
}
