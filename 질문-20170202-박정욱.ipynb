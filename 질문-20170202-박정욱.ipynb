{
 "cells": [
  {
   "cell_type": "markdown",
   "metadata": {},
   "source": [
    "## 대입정보포털에서 전문대학 페이지 크롤링"
   ]
  },
  {
   "cell_type": "code",
   "execution_count": 1,
   "metadata": {
    "collapsed": true
   },
   "outputs": [],
   "source": [
    "import requests\n",
    "from bs4 import BeautifulSoup"
   ]
  },
  {
   "cell_type": "code",
   "execution_count": 2,
   "metadata": {
    "collapsed": true
   },
   "outputs": [],
   "source": [
    "univ_url_list = [\n",
    "    \"http://adiga.kr/PageLinkAll.do?link=/kcue/ast/eip/eis/inf/univinfjncll/eipUinfMainJncll.do&p_menu_id=PG-EIP-03501&univ_cd=0000514\",\n",
    "    \"http://adiga.kr/PageLinkAll.do?link=/kcue/ast/eip/eis/inf/univinfjncll/eipUinfMainJncll.do&p_menu_id=PG-EIP-03501&univ_cd=0002639\",\n",
    "    \"http://adiga.kr/PageLinkAll.do?link=/kcue/ast/eip/eis/inf/univinfjncll/eipUinfMainJncll.do&p_menu_id=PG-EIP-03501&univ_cd=0000410\",\n",
    "    \"http://adiga.kr/PageLinkAll.do?link=/kcue/ast/eip/eis/inf/univinfjncll/eipUinfMainJncll.do&p_menu_id=PG-EIP-03501&univ_cd=0000405\",\n",
    "]"
   ]
  },
  {
   "cell_type": "code",
   "execution_count": 3,
   "metadata": {
    "collapsed": false
   },
   "outputs": [
    {
     "name": "stdout",
     "output_type": "stream",
     "text": [
      "try http://adiga.kr/PageLinkAll.do?link=/kcue/ast/eip/eis/inf/univinfjncll/eipUinfMainJncll.do&p_menu_id=PG-EIP-03501&univ_cd=0000514\n",
      "retry\n",
      "try http://adiga.kr/PageLinkAll.do?link=/kcue/ast/eip/eis/inf/univinfjncll/eipUinfMainJncll.do&p_menu_id=PG-EIP-03501&univ_cd=0000514\n",
      "try http://adiga.kr/PageLinkAll.do?link=/kcue/ast/eip/eis/inf/univinfjncll/eipUinfMainJncll.do&p_menu_id=PG-EIP-03501&univ_cd=0002639\n",
      "try http://adiga.kr/PageLinkAll.do?link=/kcue/ast/eip/eis/inf/univinfjncll/eipUinfMainJncll.do&p_menu_id=PG-EIP-03501&univ_cd=0000410\n",
      "try http://adiga.kr/PageLinkAll.do?link=/kcue/ast/eip/eis/inf/univinfjncll/eipUinfMainJncll.do&p_menu_id=PG-EIP-03501&univ_cd=0000405\n"
     ]
    }
   ],
   "source": [
    "max_retry = 3\n",
    "\n",
    "univ_list = []\n",
    "\n",
    "with requests.Session() as session:\n",
    "    for univ_url in univ_url_list:\n",
    "        for retry in range(max_retry):\n",
    "            print('try {}'.format(univ_url))\n",
    "            html = session.get(univ_url).text\n",
    "            if '정확하지 않거나' in html:\n",
    "                print('retry')\n",
    "                continue\n",
    "\n",
    "            soup = BeautifulSoup(html, 'html.parser')\n",
    "            logo_url = soup.select('img[src*=UNIV_LOGO]')[0]['src']\n",
    "            \n",
    "            label = soup.select('.s_box dt span')[0].text\n",
    "            label = ' '.join(label.strip().split())\n",
    "            \n",
    "            univ_list.append((label, logo_url))\n",
    "\n",
    "            break\n",
    "        else:\n",
    "            print('failed.')"
   ]
  },
  {
   "cell_type": "code",
   "execution_count": 4,
   "metadata": {
    "collapsed": false
   },
   "outputs": [
    {
     "data": {
      "text/plain": [
       "[('강릉영동대학교 [본교]',\n",
       "  'http://iphak.kcce.or.kr/file/UNIV_LOGO/2015_73102000_1428396470670.jpg'),\n",
       " ('강원도립대학 [본교]',\n",
       "  'http://iphak.kcce.or.kr/file/UNIV_LOGO/2016_72001000_1461204213264.jpg'),\n",
       " ('가톨릭상지대학교 [본교]',\n",
       "  'http://iphak.kcce.or.kr/file/UNIV_LOGO/2016_73001000_1467015341436.bmp'),\n",
       " ('경북도립대학교 [본교]',\n",
       "  'http://iphak.kcce.or.kr/file/UNIV_LOGO/2013_72005000_gpc5.jpg')]"
      ]
     },
     "execution_count": 4,
     "metadata": {},
     "output_type": "execute_result"
    }
   ],
   "source": [
    "univ_list"
   ]
  },
  {
   "cell_type": "code",
   "execution_count": 5,
   "metadata": {
    "collapsed": false
   },
   "outputs": [
    {
     "data": {
      "text/html": [
       "<img src=\"http://iphak.kcce.or.kr/file/UNIV_LOGO/2013_72005000_gpc5.jpg\"/>"
      ],
      "text/plain": [
       "<IPython.core.display.Image object>"
      ]
     },
     "execution_count": 5,
     "metadata": {},
     "output_type": "execute_result"
    }
   ],
   "source": [
    "from IPython.display import Image\n",
    "Image(url=\"http://iphak.kcce.or.kr/file/UNIV_LOGO/2013_72005000_gpc5.jpg\")"
   ]
  },
  {
   "cell_type": "code",
   "execution_count": null,
   "metadata": {
    "collapsed": true
   },
   "outputs": [],
   "source": []
  }
 ],
 "metadata": {
  "anaconda-cloud": {},
  "kernelspec": {
   "display_name": "Python [default]",
   "language": "python",
   "name": "python3"
  },
  "language_info": {
   "codemirror_mode": {
    "name": "ipython",
    "version": 3
   },
   "file_extension": ".py",
   "mimetype": "text/x-python",
   "name": "python",
   "nbconvert_exporter": "python",
   "pygments_lexer": "ipython3",
   "version": "3.5.2"
  }
 },
 "nbformat": 4,
 "nbformat_minor": 1
}
