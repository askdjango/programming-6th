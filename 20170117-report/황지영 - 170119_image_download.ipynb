{
 "cells": [
  {
   "cell_type": "code",
   "execution_count": 8,
   "metadata": {
    "collapsed": false
   },
   "outputs": [
    {
     "name": "stdout",
     "output_type": "stream",
     "text": [
      "다운로드 http://www.assembly.go.kr/photo/9770933.jpg 093\n"
     ]
    }
   ],
   "source": [
    "#-*- coding: utf-8 -*-\n",
    "import re # 정규표현식\n",
    "import os\n",
    "import requests\n",
    "from bs4 import BeautifulSoup\n",
    "from PIL import Image\n",
    "\n",
    "per_url = 'http://www.assembly.go.kr/assm/memact/congressman/memCond/memCondListAjax.do?s_poly_cd=101182&rowPerPage=300#'\n",
    "response = requests.get(per_url)\n",
    "\n",
    "if response.encoding is None:\n",
    "    response.encoding = 'utf-8'\n",
    "\n",
    "per_html = response.text\n",
    "soup = BeautifulSoup(per_html, 'html.parser')\n",
    "\n",
    "for image in soup.select('.img a img'):\n",
    "    # person_id = info.a.get('href')\n",
    "    # num = str(person_id).split(\"'\")\n",
    "    image_url = 'http://www.assembly.go.kr' + image['src']\n",
    "    filename = image['src'].split('/')[2].split('.')[0][3:6]\n",
    "    filepath = os.path.join('assembly_image', filename)\n",
    "    dirpath = os.path.dirname(filepath)\n",
    "    \n",
    "    if not os.path.exists(dirpath):\n",
    "        os.makedirs(dirpath)\n",
    "        \n",
    "    if os.path.exists(filepath):\n",
    "        print('이미 존재', filename)\n",
    "    else:\n",
    "        print('다운로드', image_url, filename)\n",
    "\n",
    "    headers = {\n",
    "            'Referer': per_url,\n",
    "        }\n",
    "\n",
    "    image_download = requests.get(image_url, headers=headers).content\n",
    "    with open(filename, 'wb') as f:\n",
    "        f.write(image_download)\n",
    "\n",
    "        # stream\n",
    "        open_image = Image.open(filename)\n",
    "        # open_image.thumbnail((220,220))\n",
    "        open_image.crop((0,0,220,220))\n",
    "#         open_image.show()\n",
    "        open_image.save(filename + \".png\")\n",
    "\n",
    "        #resize_image.save(filename + \".png\")\n",
    "#         f.write(open_image + '.png')\n",
    "    break\n",
    "\n",
    "# print(info)\n"
   ]
  },
  {
   "cell_type": "code",
   "execution_count": 4,
   "metadata": {
    "collapsed": false
   },
   "outputs": [
    {
     "name": "stdout",
     "output_type": "stream",
     "text": [
      "Object `resize` not found.\n"
     ]
    }
   ],
   "source": [
    "resize?"
   ]
  },
  {
   "cell_type": "code",
   "execution_count": null,
   "metadata": {
    "collapsed": true
   },
   "outputs": [],
   "source": []
  }
 ],
 "metadata": {
  "kernelspec": {
   "display_name": "Python 3",
   "language": "python",
   "name": "python3"
  },
  "language_info": {
   "codemirror_mode": {
    "name": "ipython",
    "version": 3
   },
   "file_extension": ".py",
   "mimetype": "text/x-python",
   "name": "python",
   "nbconvert_exporter": "python",
   "pygments_lexer": "ipython3",
   "version": "3.5.2"
  }
 },
 "nbformat": 4,
 "nbformat_minor": 2
}
