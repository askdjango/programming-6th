{
 "cells": [
  {
   "cell_type": "code",
   "execution_count": 17,
   "metadata": {
    "collapsed": true
   },
   "outputs": [],
   "source": [
    "a= [[1,2],\n",
    "   [3,4]]\n",
    "\n",
    "b=[[2,3],\n",
    "  [4,5]]"
   ]
  },
  {
   "cell_type": "code",
   "execution_count": 36,
   "metadata": {
    "collapsed": false
   },
   "outputs": [
    {
     "name": "stdout",
     "output_type": "stream",
     "text": [
      "[1, 2]\n",
      "(2, 4)\n",
      "[10]\n",
      "(3, 5)\n",
      "[10, 13]\n",
      "[3, 4]\n",
      "(2, 4)\n",
      "[22]\n",
      "(3, 5)\n",
      "[22, 29]\n"
     ]
    }
   ],
   "source": [
    "list2=[]\n",
    "for row in a:\n",
    "    print(row)\n",
    "    list1=[]\n",
    "    for column in zip(*b):\n",
    "        print(column)\n",
    "        total = 0\n",
    "        for idx in range(len(a)):\n",
    "            total += row[idx]*column[idx]\n",
    "        list1.append(total)\n",
    "        print(list1)\n",
    "    list2.append(list1)\n",
    "            \n",
    "             \n",
    "    "
   ]
  },
  {
   "cell_type": "code",
   "execution_count": 37,
   "metadata": {
    "collapsed": false
   },
   "outputs": [
    {
     "data": {
      "text/plain": [
       "[[10, 13], [22, 29]]"
      ]
     },
     "execution_count": 37,
     "metadata": {},
     "output_type": "execute_result"
    }
   ],
   "source": [
    "list2"
   ]
  },
  {
   "cell_type": "code",
   "execution_count": 38,
   "metadata": {
    "collapsed": true
   },
   "outputs": [],
   "source": [
    "def matrix(A, B):\n",
    "    \n",
    "    result = []\n",
    "    for row in A:\n",
    "        vector = []\n",
    "        for column in zip(*B):\n",
    "            element = 0\n",
    "            for idx in range(len(B)):\n",
    "                element += row[idx] * column[idx]\n",
    "            vector.append(element)\n",
    "        result.append(vector)\n",
    "    \n",
    "    return result\n"
   ]
  },
  {
   "cell_type": "code",
   "execution_count": 39,
   "metadata": {
    "collapsed": false
   },
   "outputs": [],
   "source": [
    "A = [\n",
    "    [1,2],\n",
    "    [2,3],\n",
    "    [3,4]\n",
    "]\n",
    "\n",
    "B = [\n",
    "    [4,5,6],\n",
    "    [7,8,9]\n",
    "]\n"
   ]
  },
  {
   "cell_type": "code",
   "execution_count": 41,
   "metadata": {
    "collapsed": false
   },
   "outputs": [
    {
     "data": {
      "text/plain": [
       "[[18, 21, 24], [29, 34, 39], [40, 47, 54]]"
      ]
     },
     "execution_count": 41,
     "metadata": {},
     "output_type": "execute_result"
    }
   ],
   "source": [
    "matrix(A, B)"
   ]
  },
  {
   "cell_type": "code",
   "execution_count": 42,
   "metadata": {
    "collapsed": true
   },
   "outputs": [],
   "source": [
    "C=[\n",
    "    [4,5,6],\n",
    "    [7,8,9]\n",
    "]\n",
    "\n",
    "D= [\n",
    "    [1,2],\n",
    "    [2,3],\n",
    "    [3,4]\n",
    "]"
   ]
  },
  {
   "cell_type": "code",
   "execution_count": 43,
   "metadata": {
    "collapsed": false
   },
   "outputs": [
    {
     "data": {
      "text/plain": [
       "[[32, 47], [50, 74]]"
      ]
     },
     "execution_count": 43,
     "metadata": {},
     "output_type": "execute_result"
    }
   ],
   "source": [
    "matrix(C, D)"
   ]
  },
  {
   "cell_type": "code",
   "execution_count": 44,
   "metadata": {
    "collapsed": true
   },
   "outputs": [],
   "source": [
    "def matrix_2(A, B):\n",
    "    \n",
    "    result = []\n",
    "    for row in A:\n",
    "        for column in zip(*B):\n",
    "            [ row[idx] * column[idx] for idx in range(len(B)) ]\n",
    "        result.append(vector)\n",
    "    \n",
    "    return result"
   ]
  },
  {
   "cell_type": "code",
   "execution_count": null,
   "metadata": {
    "collapsed": true
   },
   "outputs": [],
   "source": []
  }
 ],
 "metadata": {
  "anaconda-cloud": {},
  "kernelspec": {
   "display_name": "Python [conda root]",
   "language": "python",
   "name": "conda-root-py"
  },
  "language_info": {
   "codemirror_mode": {
    "name": "ipython",
    "version": 3
   },
   "file_extension": ".py",
   "mimetype": "text/x-python",
   "name": "python",
   "nbconvert_exporter": "python",
   "pygments_lexer": "ipython3",
   "version": "3.5.2"
  }
 },
 "nbformat": 4,
 "nbformat_minor": 1
}
