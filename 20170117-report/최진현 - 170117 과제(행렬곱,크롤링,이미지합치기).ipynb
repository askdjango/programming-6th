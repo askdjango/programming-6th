{
 "cells": [
  {
   "cell_type": "code",
   "execution_count": 1,
   "metadata": {
    "collapsed": true
   },
   "outputs": [],
   "source": [
    "## 행렬 곱"
   ]
  },
  {
   "cell_type": "code",
   "execution_count": 1,
   "metadata": {
    "collapsed": false
   },
   "outputs": [],
   "source": [
    "X=[[1,2],[3,4],[5,6]]\n",
    "Y=[[1,2,3],[4,5,6]]"
   ]
  },
  {
   "cell_type": "code",
   "execution_count": 2,
   "metadata": {
    "collapsed": false
   },
   "outputs": [],
   "source": [
    "answer = [[sum(a*b for a, b in zip(X_row,Y_col)) for Y_col in zip(*Y)] for X_row in X]"
   ]
  },
  {
   "cell_type": "code",
   "execution_count": 3,
   "metadata": {
    "collapsed": false
   },
   "outputs": [
    {
     "data": {
      "text/plain": [
       "[[9, 12, 15], [19, 26, 33], [29, 40, 51]]"
      ]
     },
     "execution_count": 3,
     "metadata": {},
     "output_type": "execute_result"
    }
   ],
   "source": [
    "answer"
   ]
  },
  {
   "cell_type": "code",
   "execution_count": 4,
   "metadata": {
    "collapsed": true
   },
   "outputs": [],
   "source": [
    "## 크롤링"
   ]
  },
  {
   "cell_type": "code",
   "execution_count": 63,
   "metadata": {
    "collapsed": false
   },
   "outputs": [
    {
     "name": "stdout",
     "output_type": "stream",
     "text": [
      "http://thumb.comic.naver.net/webtoon/662774/73/thumbnail_202x120_c736c777-41b9-47c2-9093-4b40c73f5937.jpg\n",
      "이미 존재: 71화 - 들개 무리(13화)\n",
      "http://static.naver.net/comic/images/2012/ico_toonup.png\n",
      "이미 존재: UP\n",
      "http://thumb.comic.naver.net/webtoon/662774/72/inst_thumbnail_20170110115835.jpg\n",
      "이미 존재: 70화 - 들개 무리(12화)\n",
      "http://thumb.comic.naver.net/webtoon/662774/71/inst_thumbnail_20170103151153.jpg\n",
      "이미 존재: 69화 - 들개 무리(11화)\n",
      "http://thumb.comic.naver.net/webtoon/662774/70/inst_thumbnail_20161227145153.jpg\n",
      "이미 존재: 68화 - 들개 무리(10화)\n",
      "http://thumb.comic.naver.net/webtoon/662774/69/inst_thumbnail_20161220161107.jpg\n",
      "이미 존재: 67화 - 들개 무리(9화)\n",
      "http://thumb.comic.naver.net/webtoon/662774/68/inst_thumbnail_20161213162310.jpg\n",
      "이미 존재: 66화 - 들개 무리(8화)\n",
      "http://thumb.comic.naver.net/webtoon/662774/67/inst_thumbnail_20161206145710.jpg\n",
      "이미 존재: 65화 - 들개 무리(7화)\n",
      "http://thumb.comic.naver.net/webtoon/662774/66/inst_thumbnail_20161205173725.jpg\n",
      "이미 존재: 64화 - 들개 무리(6화)\n",
      "http://thumb.comic.naver.net/webtoon/662774/65/inst_thumbnail_20161122164640.jpg\n",
      "이미 존재: 63화 - 들개 무리(5화)\n",
      "http://thumb.comic.naver.net/webtoon/662774/64/inst_thumbnail_20161115182156.jpg\n",
      "이미 존재: 62화 - 들개 무리(4화)\n",
      "http://thumb.comic.naver.net/webtoon/662774/63/inst_thumbnail_20161108172738.jpg\n",
      "이미 존재: 61화 - 들개 무리(3화)\n",
      "http://thumb.comic.naver.net/webtoon/662774/62/inst_thumbnail_20161101162246.jpg\n",
      "이미 존재: 60화 - 들개 무리(2화)\n",
      "http://thumb.comic.naver.net/webtoon/662774/61/inst_thumbnail_20161025164636.jpg\n",
      "이미 존재: 59화 - 들개 무리(1화)\n",
      "http://thumb.comic.naver.net/webtoon/662774/60/inst_thumbnail_20161018183129.jpg\n",
      "이미 존재: 58화 - 파문 (波紋) 4화\n",
      "http://thumb.comic.naver.net/webtoon/662774/59/inst_thumbnail_20161011184416.jpg\n",
      "이미 존재: 57화 - 파문 (波紋) 3화\n",
      "http://thumb.comic.naver.net/webtoon/662774/58/inst_thumbnail_20161004175537.jpg\n",
      "이미 존재: 56화 - 파문 (波紋) 2화\n",
      "http://thumb.comic.naver.net/webtoon/662774/57/inst_thumbnail_20160927153105.jpg\n",
      "이미 존재: 휴재공지\n",
      "http://thumb.comic.naver.net/webtoon/662774/56/inst_thumbnail_20160920184152.jpg\n",
      "이미 존재: 55화 - 파문 (波紋)\n",
      "http://thumb.comic.naver.net/webtoon/662774/55/inst_thumbnail_20160913144421.jpg\n",
      "이미 존재: 54화 - 철사자 도겸(19)\n",
      "http://thumb.comic.naver.net/webtoon/662774/54/inst_thumbnail_20160906180319.jpg\n",
      "이미 존재: 53화 - 철사자 도겸(18)\n",
      "http://thumb.comic.naver.net/webtoon/662774/53/inst_thumbnail_20160829175551.jpg\n",
      "이미 존재: 52화 - 철사자 도겸(17)\n",
      "http://thumb.comic.naver.net/webtoon/662774/52/inst_thumbnail_20160823180639.jpg\n",
      "이미 존재: 51화 - 철사자 도겸(16)\n",
      "http://thumb.comic.naver.net/webtoon/662774/51/inst_thumbnail_20160816183141.jpg\n",
      "이미 존재: 50화 - 철사자 도겸(15)\n",
      "http://thumb.comic.naver.net/webtoon/662774/50/inst_thumbnail_20160809161740.jpg\n",
      "이미 존재: 49화 - 철사자 도겸(14)\n",
      "http://thumb.comic.naver.net/webtoon/662774/49/inst_thumbnail_20160802174043.jpg\n",
      "이미 존재: 48화 - 철사자 도겸(13)\n",
      "http://thumb.comic.naver.net/webtoon/662774/48/inst_thumbnail_20160726171313.jpg\n",
      "이미 존재: 47화 - 철사자 도겸(12)\n",
      "http://thumb.comic.naver.net/webtoon/662774/47/inst_thumbnail_20160719164738.jpg\n",
      "이미 존재: 46화 - 철사자 도겸(11)\n",
      "http://thumb.comic.naver.net/webtoon/662774/46/inst_thumbnail_20160712165329.jpg\n",
      "이미 존재: 45화 - 철사자 도겸(10)\n",
      "http://thumb.comic.naver.net/webtoon/662774/45/inst_thumbnail_20160705172311.jpg\n",
      "이미 존재: 44화 - 철사자 도겸(9)\n",
      "http://thumb.comic.naver.net/webtoon/662774/44/inst_thumbnail_20160628163913.jpg\n",
      "이미 존재: 43화 - 철사자 도겸(8)\n",
      "http://thumb.comic.naver.net/webtoon/662774/43/inst_thumbnail_20160621110143.jpg\n",
      "이미 존재: 42화 - 철사자 도겸(7)\n",
      "http://thumb.comic.naver.net/webtoon/662774/42/inst_thumbnail_20160614123945.jpg\n",
      "이미 존재: 41화 - 철사자 도겸(6)\n",
      "http://thumb.comic.naver.net/webtoon/662774/41/inst_thumbnail_20160607172434.jpg\n",
      "이미 존재: 40화 - 철사자 도겸(5)\n",
      "http://thumb.comic.naver.net/webtoon/662774/40/inst_thumbnail_20160531155518.jpg\n",
      "이미 존재: 39화 - 철사자 도겸(4)\n",
      "http://thumb.comic.naver.net/webtoon/662774/39/inst_thumbnail_20160524113951.jpg\n",
      "이미 존재: 38화 - 철사자 도겸(3)\n",
      "http://thumb.comic.naver.net/webtoon/662774/38/inst_thumbnail_20160517155200.jpg\n",
      "이미 존재: 37화 - 철사자 도겸(2)\n",
      "http://thumb.comic.naver.net/webtoon/662774/37/inst_thumbnail_20160510150912.jpg\n",
      "이미 존재: 36화 - 철사자 도겸(1)\n",
      "http://thumb.comic.naver.net/webtoon/662774/36/inst_thumbnail_20160503102257.jpg\n",
      "이미 존재: 35화 - 백마곡(16)\n",
      "http://thumb.comic.naver.net/webtoon/662774/35/inst_thumbnail_20160426170337.jpg\n",
      "이미 존재: 34화 - 백마곡(15)\n",
      "http://thumb.comic.naver.net/webtoon/662774/34/inst_thumbnail_20160419111256.jpg\n",
      "이미 존재: 33화 - 백마곡(14)\n",
      "http://thumb.comic.naver.net/webtoon/662774/33/inst_thumbnail_20160407115029.jpg\n",
      "이미 존재: 32화 - 백마곡(13)\n",
      "http://thumb.comic.naver.net/webtoon/662774/32/inst_thumbnail_20160405103245.jpg\n",
      "이미 존재: 31화 - 백마곡(12)\n",
      "http://thumb.comic.naver.net/webtoon/662774/31/inst_thumbnail_20160329172151.jpg\n",
      "이미 존재: 30화 - 백마곡(11)\n",
      "http://thumb.comic.naver.net/webtoon/662774/30/inst_thumbnail_20160322141250.jpg\n",
      "이미 존재: 29화 - 백마곡(10)\n",
      "http://thumb.comic.naver.net/webtoon/662774/29/inst_thumbnail_20160315224216.jpg\n",
      "이미 존재: 28화 - 백마곡(9)\n",
      "http://thumb.comic.naver.net/webtoon/662774/28/inst_thumbnail_20160308164023.jpg\n",
      "이미 존재: 27화 - 백마곡(8)\n",
      "http://thumb.comic.naver.net/webtoon/662774/27/inst_thumbnail_20160229180137.jpg\n",
      "이미 존재: 26화 - 백마곡(7)\n",
      "http://thumb.comic.naver.net/webtoon/662774/26/inst_thumbnail_20160223115452.jpg\n",
      "이미 존재: 25화 - 백마곡(6)\n",
      "http://thumb.comic.naver.net/webtoon/662774/25/inst_thumbnail_20160216164007.jpg\n",
      "이미 존재: 24화 - 백마곡(5)\n",
      "http://thumb.comic.naver.net/webtoon/662774/24/inst_thumbnail_20160204205926.jpg\n",
      "이미 존재: 23화 - 백마곡(4)\n",
      "http://thumb.comic.naver.net/webtoon/662774/23/inst_thumbnail_20160202165636.jpg\n",
      "이미 존재: 22화 - 백마곡(3)\n",
      "http://thumb.comic.naver.net/webtoon/662774/22/inst_thumbnail_20160126183314.jpg\n",
      "이미 존재: 21화 - 백마곡(2)\n",
      "http://thumb.comic.naver.net/webtoon/662774/21/inst_thumbnail_20160118165453.jpg\n",
      "이미 존재: 20화 - 백마곡(1)\n",
      "http://thumb.comic.naver.net/webtoon/662774/20/inst_thumbnail_20160112181637.jpg\n",
      "이미 존재: 19화 - 홍안의 검귀 소 진홍(마지막회)\n",
      "http://thumb.comic.naver.net/webtoon/662774/19/inst_thumbnail_20160105112201.jpg\n",
      "이미 존재: 18화 - 홍안의 검귀 소 진홍(8)\n",
      "http://thumb.comic.naver.net/webtoon/662774/18/inst_thumbnail_20151229120956.jpg\n",
      "이미 존재: 17화 - 홍안의 검귀 소 진홍(7)\n",
      "http://thumb.comic.naver.net/webtoon/662774/17/inst_thumbnail_20151222110114.jpg\n",
      "이미 존재: 16화 - 홍안의 검귀 소 진홍(6)\n",
      "http://thumb.comic.naver.net/webtoon/662774/16/inst_thumbnail_20151215111633.jpg\n",
      "이미 존재: 15화 - 홍안의 검귀 소 진홍(5)\n",
      "http://thumb.comic.naver.net/webtoon/662774/15/inst_thumbnail_20151208160217.jpg\n",
      "이미 존재: 14화 - 홍안의 검귀 소 진홍(4)\n",
      "http://thumb.comic.naver.net/webtoon/662774/14/inst_thumbnail_20151201114632.jpg\n",
      "이미 존재: 13화 - 홍안의 검귀 소 진홍(3)\n",
      "http://thumb.comic.naver.net/webtoon/662774/13/inst_thumbnail_20151124110142.jpg\n",
      "이미 존재: 12화 - 홍안의 검귀 소 진홍(2)\n",
      "http://thumb.comic.naver.net/webtoon/662774/12/inst_thumbnail_20151117121735.jpg\n",
      "이미 존재: 11화 - 홍안의 검귀 소 진홍(1)\n",
      "http://thumb.comic.naver.net/webtoon/662774/11/inst_thumbnail_20151110121122.jpg\n",
      "이미 존재: 10화 - 송예린(3)\n",
      "http://thumb.comic.naver.net/webtoon/662774/10/inst_thumbnail_20151103105021.jpg\n",
      "이미 존재: 9화 - 송예린(2)\n",
      "http://thumb.comic.naver.net/webtoon/662774/9/inst_thumbnail_20151027105718.jpg\n",
      "이미 존재: 8화 - 송예린(1)\n",
      "http://thumb.comic.naver.net/webtoon/662774/8/inst_thumbnail_20151020111541.jpg\n",
      "이미 존재: 7화 - 가위 바위 보(4)\n",
      "http://thumb.comic.naver.net/webtoon/662774/7/inst_thumbnail_20151013114720.jpg\n",
      "이미 존재: 6화 - 가위 바위 보(3)\n",
      "http://thumb.comic.naver.net/webtoon/662774/6/inst_thumbnail_20151005171343.jpg\n",
      "이미 존재: 5화 - 가위 바위 보(2)\n",
      "http://thumb.comic.naver.net/webtoon/662774/5/inst_thumbnail_20150924172415.jpg\n",
      "이미 존재: 4화 - 가위 바위 보(1)\n",
      "http://thumb.comic.naver.net/webtoon/662774/4/inst_thumbnail_20150922121512.jpg\n",
      "이미 존재: 3화 - 요화단주 흑란\n",
      "http://thumb.comic.naver.net/webtoon/662774/3/inst_thumbnail_20150915154330.jpg\n",
      "이미 존재: 2화 - 미녀 송초향\n",
      "http://thumb.comic.naver.net/webtoon/662774/2/inst_thumbnail_20150915103434.jpg\n",
      "다운받을 것이오 1화 - 1년 후...\n"
     ]
    },
    {
     "ename": "FileNotFoundError",
     "evalue": "[Errno 2] No such file or directory: '고수\\\\1화 - 1년 후...\\\\inst_thumbnail_20150915103434.jpg'",
     "output_type": "error",
     "traceback": [
      "\u001b[0;31m---------------------------------------------------------------------------\u001b[0m",
      "\u001b[0;31mFileNotFoundError\u001b[0m                         Traceback (most recent call last)",
      "\u001b[0;32m<ipython-input-63-12b6e9cdd3b1>\u001b[0m in \u001b[0;36m<module>\u001b[0;34m()\u001b[0m\n\u001b[1;32m     28\u001b[0m         \u001b[1;31m#filename = '{}.jpg'.format(idx)\u001b[0m\u001b[1;33m\u001b[0m\u001b[1;33m\u001b[0m\u001b[0m\n\u001b[1;32m     29\u001b[0m         \u001b[1;31m#print(filename)\u001b[0m\u001b[1;33m\u001b[0m\u001b[1;33m\u001b[0m\u001b[0m\n\u001b[0;32m---> 30\u001b[0;31m         \u001b[1;32mwith\u001b[0m \u001b[0mopen\u001b[0m\u001b[1;33m(\u001b[0m\u001b[0mfilepath\u001b[0m\u001b[1;33m,\u001b[0m \u001b[1;34m'wb'\u001b[0m\u001b[1;33m)\u001b[0m \u001b[1;32mas\u001b[0m \u001b[0mf\u001b[0m\u001b[1;33m:\u001b[0m\u001b[1;33m\u001b[0m\u001b[0m\n\u001b[0m\u001b[1;32m     31\u001b[0m             \u001b[0mf\u001b[0m\u001b[1;33m.\u001b[0m\u001b[0mwrite\u001b[0m\u001b[1;33m(\u001b[0m\u001b[0mimage_data\u001b[0m\u001b[1;33m)\u001b[0m\u001b[1;33m\u001b[0m\u001b[0m\n",
      "\u001b[0;31mFileNotFoundError\u001b[0m: [Errno 2] No such file or directory: '고수\\\\1화 - 1년 후...\\\\inst_thumbnail_20150915103434.jpg'"
     ]
    }
   ],
   "source": [
    "for i in range(1,10):\n",
    "    ep_url='http://comic.naver.com/webtoon/list.nhn?titleId=662774&weekday=wed&page={}'.format(i)\n",
    "    import requests\n",
    "    html = requests.get(ep_url).text\n",
    "    import os\n",
    "    from bs4 import BeautifulSoup\n",
    "    soup = BeautifulSoup(html, 'html.parser')\n",
    "    for idx, title_tag in enumerate(soup.select(\".viewList img\"), 1):\n",
    "        img_url = title_tag['src']\n",
    "        title_url = title_tag['alt']\n",
    "        print(img_url)\n",
    "        #ep_url, img_url\n",
    "        filename = os.path.basename(title_url)\n",
    "        imgfilename = os.path.basename(img_url)\n",
    "        filepath = os.path.join('고수','{}'.format(filename),imgfilename)\n",
    "        dirpath = os.path.dirname(filepath)\n",
    "        if not os.path.exists(dirpath):\n",
    "            os.makedirs(dirpath)\n",
    "        if os.path.exists(filepath):\n",
    "            print(\"이미 존재:\", filename)\n",
    "        else:\n",
    "            print('다운받을 것이오', filename)\n",
    "        headers = {\n",
    "            'Referer': ep_url,\n",
    "            #'User-Agent': '',\n",
    "        }\n",
    "        image_data = requests.get(img_url, headers=headers).content\n",
    "        #filename = '{}.jpg'.format(idx)\n",
    "        #print(filename)\n",
    "        with open(filepath, 'wb') as f:\n",
    "            f.write(image_data)"
   ]
  },
  {
   "cell_type": "code",
   "execution_count": 2,
   "metadata": {
    "collapsed": true
   },
   "outputs": [],
   "source": [
    "## 이미지 합치기"
   ]
  },
  {
   "cell_type": "code",
   "execution_count": null,
   "metadata": {
    "collapsed": true
   },
   "outputs": [],
   "source": [
    "ep_url='http://comic.naver.com/webtoon/detail.nhn?titleId=662774&no=72&weekday=wed'\n",
    "import requests\n",
    "html = requests.get(ep_url).text\n",
    "import os\n",
    "from bs4 import BeautifulSoup\n",
    "soup = BeautifulSoup(html, 'html.parser')\n",
    "for idx, img_tag in enumerate(soup.select(\".wt_viewer img\"), 1):\n",
    "    img_url = img_tag['src']\n",
    "    \n",
    "    #ep_url, img_url\n",
    "    filename = os.path.basename(img_url)\n",
    "    filepath = os.path.join('data','고수',filename)\n",
    "    dirpath = os.path.dirname(filepath)\n",
    "    if not os.path.exists(dirpath):\n",
    "        os.makedirs(dirpath)\n",
    "    \n",
    "    if os.path.exists(filepath):\n",
    "        print(\"이미 존재:\", filename)\n",
    "    else:\n",
    "        print('다운받을 것이오', filename)\n",
    "    \n",
    "    headers = {\n",
    "        'Referer': ep_url,\n",
    "        #'User-Agent': '',\n",
    "    }\n",
    "    # TODO: 이미지 캐싱을 적용할 수도 있음.\n",
    "    image_data = requests.get(img_url, headers=headers).content\n",
    "    #filename = '{}.jpg'.format(idx)\n",
    "    #print(filename)\n",
    "    with open(filepath, 'wb') as f:\n",
    "        f.write(image_data)"
   ]
  },
  {
   "cell_type": "code",
   "execution_count": null,
   "metadata": {
    "collapsed": true
   },
   "outputs": [],
   "source": [
    "import glob\n",
    "import os\n",
    "from PIL import Image\n",
    "\n",
    "def calculateSize(files):\n",
    "    size_x=[]\n",
    "    size_y=[]\n",
    "    for file in files:\n",
    "        image = Image.open(file)\n",
    "        size_x.append(image.size[0])\n",
    "        size_y.append(image.size[1])\n",
    "    total_y_size=sum(size_y)\n",
    "    return size_x[0], total_y_size, size_y\n",
    "def resizeTomin(files):\n",
    "    file_list=[]\n",
    "    for file in files:\n",
    "        image = Image.open(file)\n",
    "        file_list.append(image)\n",
    "    return file_list\n",
    "def imageMerge(file_list, size_x, total_y_size):\n",
    "    new_image_1 = Image.new(\"RGB\",(size_x,65000),(255,255,255))\n",
    "    new_image_2 = Image.new(\"RGB\",(size_x,65000),(255,255,255))\n",
    "    size_y=0\n",
    "    for index in range(0,42):        \n",
    "        area = (0,size_y,size_x,size_y+file_list[index].size[1])\n",
    "        size_y += file_list[index].size[1]\n",
    "        new_image_1.paste(file_list[index],area)\n",
    "    new_image_1.save(\"result_1.jpg\")\n",
    "    size_y=0\n",
    "    for index in range(42,len(file_list)):        \n",
    "        area = (0,size_y,size_x,size_y+file_list[index].size[1])\n",
    "        size_y += file_list[index].size[1]\n",
    "        new_image_2.paste(file_list[index],area)\n",
    "    new_image_2.save(\"result_2.jpg\")\n",
    "\n",
    "target_dir = 'C:\\pythoncode\\data\\고수'\n",
    "files = glob.glob(target_dir+\"\\*.jpg\")\n",
    "files.sort(key=os.path.getmtime)\n",
    "\n",
    "size_x, total_y_size, size_y = calculateSize(files)\n",
    "file_list = resizeTomin(files)\n",
    "imageMerge(file_list, size_x, total_y_size)"
   ]
  }
 ],
 "metadata": {
  "anaconda-cloud": {},
  "kernelspec": {
   "display_name": "Python [conda root]",
   "language": "python",
   "name": "conda-root-py"
  },
  "language_info": {
   "codemirror_mode": {
    "name": "ipython",
    "version": 3
   },
   "file_extension": ".py",
   "mimetype": "text/x-python",
   "name": "python",
   "nbconvert_exporter": "python",
   "pygments_lexer": "ipython3",
   "version": "3.5.2"
  }
 },
 "nbformat": 4,
 "nbformat_minor": 1
}
