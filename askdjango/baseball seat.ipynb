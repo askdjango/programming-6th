{
 "cells": [
  {
   "cell_type": "code",
   "execution_count": 1,
   "metadata": {
    "collapsed": true
   },
   "outputs": [],
   "source": [
    "from baseball.models import Block, Seat"
   ]
  },
  {
   "cell_type": "code",
   "execution_count": 2,
   "metadata": {
    "collapsed": true
   },
   "outputs": [],
   "source": [
    "block = Block.objects.first()"
   ]
  },
  {
   "cell_type": "code",
   "execution_count": 4,
   "metadata": {
    "collapsed": false
   },
   "outputs": [
    {
     "data": {
      "text/plain": [
       "(320, {'baseball.Seat': 320})"
      ]
     },
     "execution_count": 4,
     "metadata": {},
     "output_type": "execute_result"
    }
   ],
   "source": [
    "block.seat_set.all().delete()"
   ]
  },
  {
   "cell_type": "code",
   "execution_count": 5,
   "metadata": {
    "collapsed": true
   },
   "outputs": [],
   "source": [
    "seat_meta = \"\"\"\n",
    "  XXXX       XXX\n",
    "  OOOO       OOO\n",
    "  OOOO       OOO\n",
    "  OOOO       OOO\n",
    "  OOOO       OOO\n",
    "  OOOO       OOO\n",
    " OOOOOXXXXXXXOOO\n",
    " OOOOOOOOOOOOOOO\n",
    " OOOOOOOOOOOOOOO\n",
    " OOOOOOOOOOOOOOO\n",
    " OOOOOOOOOOOOOOO\n",
    " OOOOOOOOOOOOOOO\n",
    " OOOOOOOOOOOOOOO\n",
    "OOOOOOOOOOOOOOOO\n",
    "OOOOOOOOOOOOOOOO\n",
    "OOOOOOOOOOOOOOOO\n",
    "OOOOOOOOOOOOOOOO\n",
    "OOOOOOOOOOOOOOOO\n",
    "OOOOOOOOOOOOOOOO\n",
    "OOOOOOOOOOOOOOOO\"\"\""
   ]
  },
  {
   "cell_type": "code",
   "execution_count": 7,
   "metadata": {
    "collapsed": false
   },
   "outputs": [],
   "source": [
    "\n",
    "for row_idx, line in enumerate(seat_meta.splitlines(), -1):\n",
    "    for col_idx, value in enumerate(tuple(line)):\n",
    "        if value in ('O', 'X'):\n",
    "            condition = {'block': block, 'row': row_idx, 'col': col_idx}\n",
    "            qs = Seat.objects.filter(**condition)\n",
    "            if not qs.exists():\n",
    "                condition['is_blind'] = (value == 'X')\n",
    "                seat = Seat.objects.create(**condition)\n",
    "                print('created seat : {}'.format(seat))\n"
   ]
  },
  {
   "cell_type": "code",
   "execution_count": null,
   "metadata": {
    "collapsed": true
   },
   "outputs": [],
   "source": []
  },
  {
   "cell_type": "code",
   "execution_count": null,
   "metadata": {
    "collapsed": true
   },
   "outputs": [],
   "source": []
  }
 ],
 "metadata": {
  "anaconda-cloud": {},
  "kernelspec": {
   "display_name": "Django Shell-Plus",
   "language": "python",
   "name": "python3"
  },
  "language_info": {
   "codemirror_mode": {
    "name": "ipython",
    "version": 3
   },
   "file_extension": ".py",
   "mimetype": "text/x-python",
   "name": "python",
   "nbconvert_exporter": "python",
   "pygments_lexer": "ipython3",
   "version": "3.5.2"
  }
 },
 "nbformat": 4,
 "nbformat_minor": 1
}
