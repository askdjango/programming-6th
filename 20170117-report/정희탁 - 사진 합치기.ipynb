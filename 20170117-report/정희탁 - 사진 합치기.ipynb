{
 "cells": [
  {
   "cell_type": "code",
   "execution_count": 49,
   "metadata": {
    "collapsed": true
   },
   "outputs": [],
   "source": [
    "import os\n",
    "from PIL import Image\n",
    "\n",
    "import requests\n",
    "import glob"
   ]
  },
  {
   "cell_type": "code",
   "execution_count": 50,
   "metadata": {
    "collapsed": true
   },
   "outputs": [],
   "source": [
    "target_dir='data/패션128화/'"
   ]
  },
  {
   "cell_type": "code",
   "execution_count": 51,
   "metadata": {
    "collapsed": false,
    "scrolled": true
   },
   "outputs": [],
   "source": [
    "files=glob.glob(target_dir+'*.*')\n"
   ]
  },
  {
   "cell_type": "code",
   "execution_count": null,
   "metadata": {
    "collapsed": false
   },
   "outputs": [],
   "source": []
  },
  {
   "cell_type": "code",
   "execution_count": 52,
   "metadata": {
    "collapsed": false
   },
   "outputs": [],
   "source": [
    "def size_list(files):\n",
    "    size_x_list=[]\n",
    "    size_y_list=[]\n",
    "    for file in files:\n",
    "        image=Image.open(file) #이미지 파일 오픈 이미지 객체 생성\n",
    "        size_x_list.append(image.size[0]) # 가로 크기\n",
    "        size_y_list.append(image.size[1]) # 세로 크기\n",
    "    print(size_x_list,size_y_list)\n",
    "    return size_x_list,size_y_list,"
   ]
  },
  {
   "cell_type": "code",
   "execution_count": 53,
   "metadata": {
    "collapsed": false
   },
   "outputs": [
    {
     "name": "stdout",
     "output_type": "stream",
     "text": [
      "[630, 630, 630, 630, 630, 630, 630, 630, 630, 630, 630, 630, 630, 630, 630, 630, 630, 630, 630, 630, 630, 630, 630, 630, 630, 630, 630] [2000, 1040, 1000, 2892, 1252, 2566, 1702, 1860, 2016, 1788, 1100, 2388, 1636, 2408, 1872, 1983, 2153, 2336, 1709, 1547, 1968, 2212, 2144, 2088, 1892, 1927, 1725]\n"
     ]
    }
   ],
   "source": [
    "size_x_list,size_y_list=size_list(files)"
   ]
  },
  {
   "cell_type": "code",
   "execution_count": 56,
   "metadata": {
    "collapsed": true
   },
   "outputs": [],
   "source": [
    "def imageMerge(files,size_x_list,size_y_list):\n",
    "    new_image=Image.new('RGB',(size_x_list[0],sum(size_y_list)),(256,256,256)) # 가로 세로 총사이즈\n",
    "    y_state=0\n",
    "    for index in range(len(files)):\n",
    "        area=(0,y_state,size_x_list[index],size_y_list[index]+y_state)\n",
    "        new_image.paste(Image.open(files[index]),area)\n",
    "        y_state+=size_y_list[index]\n",
    "#         print(area)\n",
    "    new_image.save('웹툰.png')\n",
    "    "
   ]
  },
  {
   "cell_type": "code",
   "execution_count": 57,
   "metadata": {
    "collapsed": false
   },
   "outputs": [],
   "source": [
    "imageMerge(files,size_x_list,size_y_list)"
   ]
  },
  {
   "cell_type": "code",
   "execution_count": null,
   "metadata": {
    "collapsed": true
   },
   "outputs": [],
   "source": []
  }
 ],
 "metadata": {
  "anaconda-cloud": {},
  "kernelspec": {
   "display_name": "Python [default]",
   "language": "python",
   "name": "python3"
  },
  "language_info": {
   "codemirror_mode": {
    "name": "ipython",
    "version": 3
   },
   "file_extension": ".py",
   "mimetype": "text/x-python",
   "name": "python",
   "nbconvert_exporter": "python",
   "pygments_lexer": "ipython3",
   "version": "3.5.2"
  }
 },
 "nbformat": 4,
 "nbformat_minor": 1
}
