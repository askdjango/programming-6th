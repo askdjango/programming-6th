{
 "cells": [
  {
   "cell_type": "code",
   "execution_count": 15,
   "metadata": {
    "collapsed": true
   },
   "outputs": [],
   "source": [
    "def muti_matrix(A, B) :\n",
    "    if len(A[0]) != len(B) :\n",
    "        print('곱할 수 없는 행렬입니다.')\n",
    "    else :\n",
    "        answer = []\n",
    "        for i in range(len(A)) :\n",
    "            row = []\n",
    "            for j in range(len(B[0])) :\n",
    "                sum_wonso = 0\n",
    "                for k in range(len(B)) :\n",
    "                    sum_wonso += A[i][k] * B[k][j]\n",
    "                row.append(sum_wonso)\n",
    "            answer.append(row)\n",
    "        return answer"
   ]
  },
  {
   "cell_type": "code",
   "execution_count": 16,
   "metadata": {
    "collapsed": true
   },
   "outputs": [],
   "source": [
    "A = [[1, 2], [3, 4]]\n",
    "B = [[5, 6], [8, 9]]"
   ]
  },
  {
   "cell_type": "code",
   "execution_count": 17,
   "metadata": {
    "collapsed": false
   },
   "outputs": [
    {
     "data": {
      "text/plain": [
       "[[21, 24], [47, 54]]"
      ]
     },
     "execution_count": 17,
     "metadata": {},
     "output_type": "execute_result"
    }
   ],
   "source": [
    "muti_matrix(A, B)"
   ]
  },
  {
   "cell_type": "code",
   "execution_count": null,
   "metadata": {
    "collapsed": true
   },
   "outputs": [],
   "source": []
  }
 ],
 "metadata": {
  "kernelspec": {
   "display_name": "Python [Root]",
   "language": "python",
   "name": "Python [Root]"
  },
  "language_info": {
   "codemirror_mode": {
    "name": "ipython",
    "version": 3
   },
   "file_extension": ".py",
   "mimetype": "text/x-python",
   "name": "python",
   "nbconvert_exporter": "python",
   "pygments_lexer": "ipython3",
   "version": "3.5.2"
  }
 },
 "nbformat": 4,
 "nbformat_minor": 2
}
