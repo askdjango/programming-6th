{
 "cells": [
  {
   "cell_type": "code",
   "execution_count": 1,
   "metadata": {
    "collapsed": false
   },
   "outputs": [
    {
     "data": {
      "text/plain": [
       "webtoon.models.Webtoon"
      ]
     },
     "execution_count": 1,
     "metadata": {},
     "output_type": "execute_result"
    }
   ],
   "source": [
    "Webtoon"
   ]
  },
  {
   "cell_type": "code",
   "execution_count": 2,
   "metadata": {
    "collapsed": false
   },
   "outputs": [
    {
     "data": {
      "text/plain": [
       "(175, {'webtoon.Webtoon': 175})"
      ]
     },
     "execution_count": 2,
     "metadata": {},
     "output_type": "execute_result"
    }
   ],
   "source": [
    "Webtoon.objects.all().delete()"
   ]
  },
  {
   "cell_type": "code",
   "execution_count": 3,
   "metadata": {
    "collapsed": false
   },
   "outputs": [
    {
     "name": "stdout",
     "output_type": "stream",
     "text": [
      "created 대학일기\n",
      "created 신의 탑\n",
      "created 뷰티풀 군바리\n",
      "created 윈드브레이커\n",
      "created 소녀의 세계\n",
      "created 평범한 8반\n",
      "created 여중생A\n",
      "created 마이너스의 손\n",
      "created 이상하고 아름다운\n",
      "created 윈터우즈\n",
      "created 꿈의 기업\n",
      "created 하루 3컷\n",
      "created MZ\n",
      "created 가우스전자 시즌3\n",
      "created 마루한 - 구현동화전\n",
      "created 부부생활\n",
      "created 생활의참견\n",
      "created 탈(TAL)\n",
      "created 동토의 여명\n",
      "created 히어로메이커\n",
      "created 팀피닉스\n",
      "created 에코히어로\n",
      "created 노블레스\n",
      "created 마음의소리\n",
      "created 하이브3\n",
      "created 오!주예수여\n",
      "created 완벽한 허니문\n",
      "created 2017 사이다를 부탁해!\n",
      "created 투명한 동거\n",
      "created 슈퍼 시크릿\n",
      "created 놓지마 정신줄 시즌2\n",
      "created 신도림\n",
      "created 공감.jpg\n",
      "created 제로게임\n",
      "created 윌유메리미\n",
      "created 차원이 다른 만화\n",
      "created 열정호구\n",
      "created 덴마\n",
      "created 모태솔로수용소 시즌2\n",
      "created 하루 3컷\n",
      "created 첩보의 별 시즌2\n",
      "created 신의 언어\n",
      "created 가우스전자 시즌3\n",
      "created 미라클! 용사님\n",
      "created 에이머\n",
      "created 패밀리 사이즈\n",
      "created 심연의 하늘 시즌4\n",
      "created 기로\n",
      "created 안동 간고디\n",
      "created 복학왕\n",
      "created 연놈\n",
      "created 고수\n",
      "created 유미의 세포들\n",
      "created 헬퍼 2 : 킬베로스\n",
      "created 2017 사이다를 부탁해!\n",
      "created 이기자, 그린\n",
      "created 조선왕조실톡\n",
      "created 잡다한컷\n",
      "created 하루 3컷\n",
      "created 이런 영웅은 싫어\n",
      "created 돌아온 럭키짱\n",
      "created 언덕 위의 제임스\n",
      "created 가우스전자 시즌3\n",
      "created 지금 이 순간 마법처럼\n",
      "created 당신만 몰라!\n",
      "created 녹두전\n",
      "created 나는 귀머거리다\n",
      "created 웃지 않는 개그반 시즌3\n",
      "created 대작\n",
      "created 블랙수트\n",
      "created 부산스러운 웹툰\n",
      "created Penguin loves Mev\n",
      "created 씬커\n",
      "created 연애혁명\n",
      "created 대학일기\n",
      "created 기기괴괴\n",
      "created 찌질의 역사\n",
      "created 최강전설 강해효\n",
      "created 치즈인더트랩 4부\n",
      "created 문유\n",
      "created 가담항설\n",
      "created 아일랜드 2부\n",
      "created 우리집에 곰이 이사왔다\n",
      "created 하루 3컷\n",
      "created 서북의 저승사자\n",
      "created 가우스전자 시즌3\n",
      "created 참치와 돌고래\n",
      "created 평범한 전학생들\n",
      "created 마술사\n",
      "created 에피소드칵테일\n",
      "created 파도의 주인\n",
      "created 백귀야행지\n",
      "created 전자오락수호대\n",
      "created 킬더킹\n",
      "created 천국의 신화 6부\n",
      "created 특수 영능력 수사반\n",
      "created 동네변호사 조들호 시즌2\n",
      "created 외모지상주의\n",
      "created 한번 더 해요\n",
      "created 갓 오브 하이스쿨\n",
      "created 밥 먹고 갈래요?\n",
      "created 2017 사이다를 부탁해!\n",
      "created 결계녀\n",
      "created 공대생 너무만화\n",
      "created 더 게이머\n",
      "created 테러맨\n",
      "created 잡다한컷\n",
      "created 덴마\n",
      "created 골든 체인지\n",
      "created 아테나 컴플렉스\n",
      "created 낮에 뜨는 달\n",
      "created 하루 3컷\n",
      "created 가우스전자 시즌3\n",
      "created 오즈랜드\n",
      "created 청년창업 기프트카툰\n",
      "created 조선좀비실록\n",
      "created 이별만화 완성도\n",
      "created Penguin loves Mev\n",
      "created 킬러 김빵빵\n",
      "created 몽홀\n",
      "created 원티드\n",
      "created 시노딕\n",
      "created 진눈깨비 소년\n",
      "created 프리드로우\n",
      "created 내 ID는 강남미인!\n",
      "created 유미의 세포들\n",
      "created 금수저\n",
      "created 공복의 저녁식사\n",
      "created 부활남\n",
      "created 호랑이형님\n",
      "created 나노리스트\n",
      "created 대가리\n",
      "created 놓지마 정신줄 시즌2\n",
      "created 귀각시\n",
      "created 야부리맨\n",
      "created 공감.jpg\n",
      "created 언터처블\n",
      "created 윌유메리미\n",
      "created 하루 3컷\n",
      "created 첩보의 별 시즌2\n",
      "created 은주의 방 2\n",
      "created 갸오오와 사랑꾼들\n",
      "created 구름의 이동속도\n",
      "created 나는 귀머거리다\n",
      "created 생활의참견\n",
      "created 트럼프\n",
      "created 숲 속의 미마\n",
      "created 나이트런\n",
      "created 네버랜 연대기\n",
      "created 스피릿 핑거스\n",
      "created 구구까까\n",
      "created 2017 사이다를 부탁해!\n",
      "created 군인RPG\n",
      "created 열렙전사\n",
      "created 컨트롤제트\n",
      "created 다이스(DICE)\n",
      "created 달수 이야기\n",
      "created 감염자\n",
      "created 연애의 정령\n",
      "created 마스크걸\n",
      "created 조선왕조실톡\n",
      "created 덴마\n",
      "created 도망자\n",
      "created 하루 3컷\n",
      "created 오늘도 핸드메이드!\n",
      "created 심심한 마왕\n",
      "created 우리들은 푸르다\n",
      "created 귀도호가록\n",
      "created 패밀리 사이즈\n",
      "created 원 뿔러스 원\n",
      "created 마법스크롤상인 지오\n",
      "created 바로잡는 순애보\n",
      "created 인챈트-나람이야기\n",
      "created 호랭총각\n"
     ]
    }
   ],
   "source": [
    "import requests\n",
    "from bs4 import BeautifulSoup\n",
    "\n",
    "url = \"http://comic.naver.com/webtoon/weekday.nhn\"\n",
    "html = requests.get(url).text\n",
    "soup = BeautifulSoup(html, 'html.parser')\n",
    "\n",
    "for a_tag in soup.select('.daily_all li a'):\n",
    "    try:\n",
    "        title = a_tag['title']\n",
    "        Webtoon.objects.create(title=title)\n",
    "        print('created', title)\n",
    "    except KeyError:\n",
    "        pass\n"
   ]
  },
  {
   "cell_type": "code",
   "execution_count": 4,
   "metadata": {
    "collapsed": false
   },
   "outputs": [
    {
     "data": {
      "text/plain": [
       "174"
      ]
     },
     "execution_count": 4,
     "metadata": {},
     "output_type": "execute_result"
    }
   ],
   "source": [
    "Webtoon.objects.all().count()"
   ]
  },
  {
   "cell_type": "code",
   "execution_count": 16,
   "metadata": {
    "collapsed": false
   },
   "outputs": [
    {
     "data": {
      "text/plain": [
       "<QuerySet [<Webtoon: Webtoon object>]>"
      ]
     },
     "execution_count": 16,
     "metadata": {},
     "output_type": "execute_result"
    }
   ],
   "source": [
    "Webtoon.objects.filter(id__gt=100, id__lte=400).filter(title='고수')  # 100<id<=200 and title='고수'"
   ]
  },
  {
   "cell_type": "code",
   "execution_count": 17,
   "metadata": {
    "collapsed": false
   },
   "outputs": [
    {
     "data": {
      "text/plain": [
       "<QuerySet [<Webtoon: Webtoon object>]>"
      ]
     },
     "execution_count": 17,
     "metadata": {},
     "output_type": "execute_result"
    }
   ],
   "source": [
    "Webtoon.objects.filter(id__gt=100, id__lte=400).filter(title__contains='고수')  # 100<id<=200 and title 필드에 '고수' 포함"
   ]
  },
  {
   "cell_type": "code",
   "execution_count": 18,
   "metadata": {
    "collapsed": false
   },
   "outputs": [
    {
     "data": {
      "text/plain": [
       "<QuerySet [<Webtoon: Webtoon object>]>"
      ]
     },
     "execution_count": 18,
     "metadata": {},
     "output_type": "execute_result"
    }
   ],
   "source": [
    "Webtoon.objects.filter(id__gt=100, id__lte=400).filter(title__icontains='고수')  # 100<id<=200 and title 필드에 '고수' 포함 (대소문자 무시))"
   ]
  },
  {
   "cell_type": "code",
   "execution_count": 19,
   "metadata": {
    "collapsed": false
   },
   "outputs": [
    {
     "data": {
      "text/plain": [
       "227"
      ]
     },
     "execution_count": 19,
     "metadata": {},
     "output_type": "execute_result"
    }
   ],
   "source": [
    "Webtoon.objects.get(title__icontains='고수').id"
   ]
  },
  {
   "cell_type": "markdown",
   "metadata": {},
   "source": [
    "## 특정 조건내 첫번째 인스턴스 획득"
   ]
  },
  {
   "cell_type": "code",
   "execution_count": 25,
   "metadata": {
    "collapsed": false
   },
   "outputs": [
    {
     "ename": "IndexError",
     "evalue": "list index out of range",
     "output_type": "error",
     "traceback": [
      "\u001b[0;31m---------------------------------------------------------------------------\u001b[0m",
      "\u001b[0;31mIndexError\u001b[0m                                Traceback (most recent call last)",
      "\u001b[0;32m<ipython-input-25-ab68cf84d28d>\u001b[0m in \u001b[0;36m<module>\u001b[0;34m()\u001b[0m\n\u001b[0;32m----> 1\u001b[0;31m \u001b[0mWebtoon\u001b[0m\u001b[0;34m.\u001b[0m\u001b[0mobjects\u001b[0m\u001b[0;34m.\u001b[0m\u001b[0mfilter\u001b[0m\u001b[0;34m(\u001b[0m\u001b[0mid__gte\u001b[0m\u001b[0;34m=\u001b[0m\u001b[0;36m200\u001b[0m\u001b[0;34m)\u001b[0m\u001b[0;34m.\u001b[0m\u001b[0mfilter\u001b[0m\u001b[0;34m(\u001b[0m\u001b[0mtitle__startswith\u001b[0m\u001b[0;34m=\u001b[0m\u001b[0;34m'효랑'\u001b[0m\u001b[0;34m)\u001b[0m\u001b[0;34m[\u001b[0m\u001b[0;36m0\u001b[0m\u001b[0;34m]\u001b[0m\u001b[0;34m\u001b[0m\u001b[0m\n\u001b[0m",
      "\u001b[0;32m/Users/allieus/anaconda/lib/python3.5/site-packages/django/db/models/query.py\u001b[0m in \u001b[0;36m__getitem__\u001b[0;34m(self, k)\u001b[0m\n\u001b[1;32m    293\u001b[0m         \u001b[0mqs\u001b[0m \u001b[0;34m=\u001b[0m \u001b[0mself\u001b[0m\u001b[0;34m.\u001b[0m\u001b[0m_clone\u001b[0m\u001b[0;34m(\u001b[0m\u001b[0;34m)\u001b[0m\u001b[0;34m\u001b[0m\u001b[0m\n\u001b[1;32m    294\u001b[0m         \u001b[0mqs\u001b[0m\u001b[0;34m.\u001b[0m\u001b[0mquery\u001b[0m\u001b[0;34m.\u001b[0m\u001b[0mset_limits\u001b[0m\u001b[0;34m(\u001b[0m\u001b[0mk\u001b[0m\u001b[0;34m,\u001b[0m \u001b[0mk\u001b[0m \u001b[0;34m+\u001b[0m \u001b[0;36m1\u001b[0m\u001b[0;34m)\u001b[0m\u001b[0;34m\u001b[0m\u001b[0m\n\u001b[0;32m--> 295\u001b[0;31m         \u001b[0;32mreturn\u001b[0m \u001b[0mlist\u001b[0m\u001b[0;34m(\u001b[0m\u001b[0mqs\u001b[0m\u001b[0;34m)\u001b[0m\u001b[0;34m[\u001b[0m\u001b[0;36m0\u001b[0m\u001b[0;34m]\u001b[0m\u001b[0;34m\u001b[0m\u001b[0m\n\u001b[0m\u001b[1;32m    296\u001b[0m \u001b[0;34m\u001b[0m\u001b[0m\n\u001b[1;32m    297\u001b[0m     \u001b[0;32mdef\u001b[0m \u001b[0m__and__\u001b[0m\u001b[0;34m(\u001b[0m\u001b[0mself\u001b[0m\u001b[0;34m,\u001b[0m \u001b[0mother\u001b[0m\u001b[0;34m)\u001b[0m\u001b[0;34m:\u001b[0m\u001b[0;34m\u001b[0m\u001b[0m\n",
      "\u001b[0;31mIndexError\u001b[0m: list index out of range"
     ]
    }
   ],
   "source": [
    "Webtoon.objects.filter(id__gte=200).filter(title__startswith='효랑')[0]"
   ]
  },
  {
   "cell_type": "code",
   "execution_count": 26,
   "metadata": {
    "collapsed": true
   },
   "outputs": [],
   "source": [
    "Webtoon.objects.filter(id__gte=200).filter(title__startswith='효랑').first()"
   ]
  },
  {
   "cell_type": "markdown",
   "metadata": {
    "collapsed": true
   },
   "source": [
    "## ForeignKey"
   ]
  },
  {
   "cell_type": "code",
   "execution_count": 1,
   "metadata": {
    "collapsed": true
   },
   "outputs": [],
   "source": [
    "from blog.models import Post, Comment"
   ]
  },
  {
   "cell_type": "code",
   "execution_count": 2,
   "metadata": {
    "collapsed": true
   },
   "outputs": [],
   "source": [
    "post = Post.objects.first()"
   ]
  },
  {
   "cell_type": "code",
   "execution_count": 3,
   "metadata": {
    "collapsed": false
   },
   "outputs": [
    {
     "data": {
      "text/plain": [
       "<Post: 제주도의 바닷바람>"
      ]
     },
     "execution_count": 3,
     "metadata": {},
     "output_type": "execute_result"
    }
   ],
   "source": [
    "post"
   ]
  },
  {
   "cell_type": "code",
   "execution_count": 6,
   "metadata": {
    "collapsed": false
   },
   "outputs": [],
   "source": [
    "comment_list = Comment.objects.filter(post=post)"
   ]
  },
  {
   "cell_type": "code",
   "execution_count": 8,
   "metadata": {
    "collapsed": false
   },
   "outputs": [
    {
     "name": "stdout",
     "output_type": "stream",
     "text": [
      "제주도다 !!!\r\n",
      "\r\n",
      "ㅋㅋㅋ\n"
     ]
    }
   ],
   "source": [
    "for comment in comment_list:\n",
    "    print(comment.message)"
   ]
  },
  {
   "cell_type": "code",
   "execution_count": 13,
   "metadata": {
    "collapsed": false
   },
   "outputs": [
    {
     "data": {
      "text/plain": [
       "<QuerySet [<Comment: Comment object>]>"
      ]
     },
     "execution_count": 13,
     "metadata": {},
     "output_type": "execute_result"
    }
   ],
   "source": [
    "# Comment.objects.filter(post_id=post.id)\n",
    "Comment.objects.filter(post=post)"
   ]
  },
  {
   "cell_type": "code",
   "execution_count": null,
   "metadata": {
    "collapsed": true
   },
   "outputs": [],
   "source": []
  }
 ],
 "metadata": {
  "anaconda-cloud": {},
  "kernelspec": {
   "display_name": "Django Shell-Plus",
   "language": "python",
   "name": "django_extensions"
  },
  "language_info": {
   "codemirror_mode": {
    "name": "ipython",
    "version": 3
   },
   "file_extension": ".py",
   "mimetype": "text/x-python",
   "name": "python",
   "nbconvert_exporter": "python",
   "pygments_lexer": "ipython3",
   "version": "3.5.2"
  }
 },
 "nbformat": 4,
 "nbformat_minor": 1
}
