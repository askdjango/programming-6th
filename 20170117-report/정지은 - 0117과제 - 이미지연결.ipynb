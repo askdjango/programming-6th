{
 "cells": [
  {
   "cell_type": "code",
   "execution_count": 1,
   "metadata": {
    "collapsed": true
   },
   "outputs": [],
   "source": [
    "import glob\n",
    "from PIL import Image"
   ]
  },
  {
   "cell_type": "code",
   "execution_count": 22,
   "metadata": {
    "collapsed": false
   },
   "outputs": [],
   "source": [
    "target_dir = \"C:\\\\dev\\\\maum_sori\\\\\""
   ]
  },
  {
   "cell_type": "code",
   "execution_count": 25,
   "metadata": {
    "collapsed": true
   },
   "outputs": [],
   "source": [
    "files = glob.glob(target_dir + '*.jpg')"
   ]
  },
  {
   "cell_type": "code",
   "execution_count": 26,
   "metadata": {
    "collapsed": false
   },
   "outputs": [
    {
     "data": {
      "text/plain": [
       "30"
      ]
     },
     "execution_count": 26,
     "metadata": {},
     "output_type": "execute_result"
    }
   ],
   "source": [
    "len(files) # 파일 갯수 30"
   ]
  },
  {
   "cell_type": "code",
   "execution_count": 84,
   "metadata": {
    "collapsed": false
   },
   "outputs": [],
   "source": [
    "files.sort(key = lambda i : len(i))"
   ]
  },
  {
   "cell_type": "code",
   "execution_count": 85,
   "metadata": {
    "collapsed": false
   },
   "outputs": [
    {
     "data": {
      "text/plain": [
       "['C:\\\\dev\\\\maum_sori\\\\20170116170452_92c71edc7eddaf0be63021e1f3fca6e3_IMAG01_1.jpg',\n",
       " 'C:\\\\dev\\\\maum_sori\\\\20170116170452_92c71edc7eddaf0be63021e1f3fca6e3_IMAG01_2.jpg',\n",
       " 'C:\\\\dev\\\\maum_sori\\\\20170116170452_92c71edc7eddaf0be63021e1f3fca6e3_IMAG01_3.jpg',\n",
       " 'C:\\\\dev\\\\maum_sori\\\\20170116170452_92c71edc7eddaf0be63021e1f3fca6e3_IMAG01_4.jpg',\n",
       " 'C:\\\\dev\\\\maum_sori\\\\20170116170452_92c71edc7eddaf0be63021e1f3fca6e3_IMAG01_5.jpg',\n",
       " 'C:\\\\dev\\\\maum_sori\\\\20170116170452_92c71edc7eddaf0be63021e1f3fca6e3_IMAG01_6.jpg',\n",
       " 'C:\\\\dev\\\\maum_sori\\\\20170116170452_92c71edc7eddaf0be63021e1f3fca6e3_IMAG01_7.jpg',\n",
       " 'C:\\\\dev\\\\maum_sori\\\\20170116170452_92c71edc7eddaf0be63021e1f3fca6e3_IMAG01_8.jpg',\n",
       " 'C:\\\\dev\\\\maum_sori\\\\20170116170452_92c71edc7eddaf0be63021e1f3fca6e3_IMAG01_9.jpg',\n",
       " 'C:\\\\dev\\\\maum_sori\\\\20170116170452_92c71edc7eddaf0be63021e1f3fca6e3_IMAG01_10.jpg',\n",
       " 'C:\\\\dev\\\\maum_sori\\\\20170116170452_92c71edc7eddaf0be63021e1f3fca6e3_IMAG01_11.jpg',\n",
       " 'C:\\\\dev\\\\maum_sori\\\\20170116170452_92c71edc7eddaf0be63021e1f3fca6e3_IMAG01_12.jpg',\n",
       " 'C:\\\\dev\\\\maum_sori\\\\20170116170452_92c71edc7eddaf0be63021e1f3fca6e3_IMAG01_13.jpg',\n",
       " 'C:\\\\dev\\\\maum_sori\\\\20170116170452_92c71edc7eddaf0be63021e1f3fca6e3_IMAG01_14.jpg',\n",
       " 'C:\\\\dev\\\\maum_sori\\\\20170116170452_92c71edc7eddaf0be63021e1f3fca6e3_IMAG01_15.jpg',\n",
       " 'C:\\\\dev\\\\maum_sori\\\\20170116170452_92c71edc7eddaf0be63021e1f3fca6e3_IMAG01_16.jpg',\n",
       " 'C:\\\\dev\\\\maum_sori\\\\20170116170452_92c71edc7eddaf0be63021e1f3fca6e3_IMAG01_17.jpg',\n",
       " 'C:\\\\dev\\\\maum_sori\\\\20170116170452_92c71edc7eddaf0be63021e1f3fca6e3_IMAG01_18.jpg',\n",
       " 'C:\\\\dev\\\\maum_sori\\\\20170116170452_92c71edc7eddaf0be63021e1f3fca6e3_IMAG01_19.jpg',\n",
       " 'C:\\\\dev\\\\maum_sori\\\\20170116170452_92c71edc7eddaf0be63021e1f3fca6e3_IMAG01_20.jpg',\n",
       " 'C:\\\\dev\\\\maum_sori\\\\20170116170452_92c71edc7eddaf0be63021e1f3fca6e3_IMAG01_21.jpg',\n",
       " 'C:\\\\dev\\\\maum_sori\\\\20170116170452_92c71edc7eddaf0be63021e1f3fca6e3_IMAG01_22.jpg',\n",
       " 'C:\\\\dev\\\\maum_sori\\\\20170116170452_92c71edc7eddaf0be63021e1f3fca6e3_IMAG01_23.jpg',\n",
       " 'C:\\\\dev\\\\maum_sori\\\\20170116170452_92c71edc7eddaf0be63021e1f3fca6e3_IMAG01_24.jpg',\n",
       " 'C:\\\\dev\\\\maum_sori\\\\20170116170452_92c71edc7eddaf0be63021e1f3fca6e3_IMAG01_25.jpg',\n",
       " 'C:\\\\dev\\\\maum_sori\\\\20170116170452_92c71edc7eddaf0be63021e1f3fca6e3_IMAG01_26.jpg',\n",
       " 'C:\\\\dev\\\\maum_sori\\\\20170116170452_92c71edc7eddaf0be63021e1f3fca6e3_IMAG01_27.jpg',\n",
       " 'C:\\\\dev\\\\maum_sori\\\\20170116170452_92c71edc7eddaf0be63021e1f3fca6e3_IMAG01_28.jpg',\n",
       " 'C:\\\\dev\\\\maum_sori\\\\20170116170452_92c71edc7eddaf0be63021e1f3fca6e3_IMAG01_29.jpg',\n",
       " 'C:\\\\dev\\\\maum_sori\\\\20170116170452_92c71edc7eddaf0be63021e1f3fca6e3_IMAG01_30.jpg']"
      ]
     },
     "execution_count": 85,
     "metadata": {},
     "output_type": "execute_result"
    }
   ],
   "source": [
    "files"
   ]
  },
  {
   "cell_type": "code",
   "execution_count": 86,
   "metadata": {
    "collapsed": false
   },
   "outputs": [
    {
     "name": "stdout",
     "output_type": "stream",
     "text": [
      "가로 최대 길이 600\n",
      "세로 최대 길이 1600\n"
     ]
    }
   ],
   "source": [
    "size_x = []\n",
    "size_y = []\n",
    "\n",
    "for file in files :\n",
    "    img = Image.open(file)\n",
    "    size_x.append(img.size[0])\n",
    "    size_y.append(img.size[1])\n",
    "\n",
    "print('가로 최대 길이', max(size_x))\n",
    "print('세로 최대 길이', max(size_y))"
   ]
  },
  {
   "cell_type": "markdown",
   "metadata": {},
   "source": [
    "* 따라서 우리가 만들 캔버스 가로 길이 = 600 / 캔버스 세로 길이 = 1600 * 30 = 48000\n",
    "* 모두 출력해보면 모든 사진의 크기가 같음을 알 수 있다"
   ]
  },
  {
   "cell_type": "code",
   "execution_count": 87,
   "metadata": {
    "collapsed": false
   },
   "outputs": [],
   "source": [
    "canvas = Image.new(\"RGB\", (600, 48000), (255, 255, 255))"
   ]
  },
  {
   "cell_type": "code",
   "execution_count": 88,
   "metadata": {
    "collapsed": false
   },
   "outputs": [],
   "source": [
    "start = 0\n",
    "\n",
    "for index in range(len(files)) :\n",
    "    area = (0, start, 600, start + 1600)\n",
    "    canvas.paste(Image.open(files[index]), area)\n",
    "    start += 1600"
   ]
  },
  {
   "cell_type": "code",
   "execution_count": 89,
   "metadata": {
    "collapsed": true
   },
   "outputs": [],
   "source": [
    "canvas.show()"
   ]
  },
  {
   "cell_type": "code",
   "execution_count": 90,
   "metadata": {
    "collapsed": true
   },
   "outputs": [],
   "source": [
    "canvas.save('마음의 소리.jpg')"
   ]
  },
  {
   "cell_type": "code",
   "execution_count": null,
   "metadata": {
    "collapsed": true
   },
   "outputs": [],
   "source": []
  }
 ],
 "metadata": {
  "anaconda-cloud": {},
  "kernelspec": {
   "display_name": "Python [Root]",
   "language": "python",
   "name": "Python [Root]"
  },
  "language_info": {
   "codemirror_mode": {
    "name": "ipython",
    "version": 3
   },
   "file_extension": ".py",
   "mimetype": "text/x-python",
   "name": "python",
   "nbconvert_exporter": "python",
   "pygments_lexer": "ipython3",
   "version": "3.5.2"
  }
 },
 "nbformat": 4,
 "nbformat_minor": 2
}
