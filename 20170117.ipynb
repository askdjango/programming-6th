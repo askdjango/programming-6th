{
 "cells": [
  {
   "cell_type": "code",
   "execution_count": 1,
   "metadata": {
    "collapsed": true
   },
   "outputs": [],
   "source": [
    "import django"
   ]
  },
  {
   "cell_type": "code",
   "execution_count": 2,
   "metadata": {
    "collapsed": false
   },
   "outputs": [
    {
     "data": {
      "text/plain": [
       "(1, 10, 4, 'final', 0)"
      ]
     },
     "execution_count": 2,
     "metadata": {},
     "output_type": "execute_result"
    }
   ],
   "source": [
    "django.VERSION"
   ]
  },
  {
   "cell_type": "code",
   "execution_count": 3,
   "metadata": {
    "collapsed": false
   },
   "outputs": [
    {
     "data": {
      "text/plain": [
       "'/Users/allieus/anaconda/lib/python3.5/site-packages/django/__init__.py'"
      ]
     },
     "execution_count": 3,
     "metadata": {},
     "output_type": "execute_result"
    }
   ],
   "source": [
    "django.__file__"
   ]
  },
  {
   "cell_type": "code",
   "execution_count": 4,
   "metadata": {
    "collapsed": false
   },
   "outputs": [
    {
     "data": {
      "text/plain": [
       "['',\n",
       " '/Users/allieus/anaconda/lib/python35.zip',\n",
       " '/Users/allieus/anaconda/lib/python3.5',\n",
       " '/Users/allieus/anaconda/lib/python3.5/plat-darwin',\n",
       " '/Users/allieus/anaconda/lib/python3.5/lib-dynload',\n",
       " '/Users/allieus/anaconda/lib/python3.5/site-packages',\n",
       " '/Users/allieus/anaconda/lib/python3.5/site-packages/Sphinx-1.4.6-py3.5.egg',\n",
       " '/Users/allieus/anaconda/lib/python3.5/site-packages/aeosa',\n",
       " '/Users/allieus/tools/voc',\n",
       " '/Users/allieus/anaconda/lib/python3.5/site-packages/setuptools-27.2.0-py3.5.egg',\n",
       " '/Users/allieus/anaconda/lib/python3.5/site-packages/IPython/extensions',\n",
       " '/Users/allieus/.ipython']"
      ]
     },
     "execution_count": 4,
     "metadata": {},
     "output_type": "execute_result"
    }
   ],
   "source": [
    "import sys\n",
    "sys.path"
   ]
  },
  {
   "cell_type": "code",
   "execution_count": 5,
   "metadata": {
    "collapsed": false
   },
   "outputs": [
    {
     "ename": "ImportError",
     "evalue": "No module named 'askdjango'",
     "output_type": "error",
     "traceback": [
      "\u001b[0;31m---------------------------------------------------------------------------\u001b[0m",
      "\u001b[0;31mImportError\u001b[0m                               Traceback (most recent call last)",
      "\u001b[0;32m<ipython-input-5-df46ddc29e78>\u001b[0m in \u001b[0;36m<module>\u001b[0;34m()\u001b[0m\n\u001b[0;32m----> 1\u001b[0;31m \u001b[0;32mimport\u001b[0m \u001b[0maskdjango\u001b[0m\u001b[0;34m\u001b[0m\u001b[0m\n\u001b[0m",
      "\u001b[0;31mImportError\u001b[0m: No module named 'askdjango'"
     ]
    }
   ],
   "source": [
    "import askdjango"
   ]
  },
  {
   "cell_type": "markdown",
   "metadata": {},
   "source": [
    "## range와 xrange"
   ]
  },
  {
   "cell_type": "code",
   "execution_count": 6,
   "metadata": {
    "collapsed": true
   },
   "outputs": [],
   "source": [
    "def myrange(start, stop):\n",
    "    mylist = []\n",
    "    while start < stop:\n",
    "        mylist.append(start)\n",
    "        start += 1\n",
    "    return mylist"
   ]
  },
  {
   "cell_type": "code",
   "execution_count": 7,
   "metadata": {
    "collapsed": false
   },
   "outputs": [
    {
     "data": {
      "text/plain": [
       "[1, 2, 3, 4, 5, 6, 7, 8, 9]"
      ]
     },
     "execution_count": 7,
     "metadata": {},
     "output_type": "execute_result"
    }
   ],
   "source": [
    "myrange(1, 10)"
   ]
  },
  {
   "cell_type": "code",
   "execution_count": 8,
   "metadata": {
    "collapsed": false
   },
   "outputs": [
    {
     "name": "stdout",
     "output_type": "stream",
     "text": [
      "1 2 3 4 5 6 7 8 9 "
     ]
    }
   ],
   "source": [
    "for i in myrange(1, 10):\n",
    "    print(i, end=' ')"
   ]
  },
  {
   "cell_type": "code",
   "execution_count": 10,
   "metadata": {
    "collapsed": false
   },
   "outputs": [
    {
     "name": "stdout",
     "output_type": "stream",
     "text": [
      "1\n"
     ]
    }
   ],
   "source": [
    "for i in myrange(1, 100000000):\n",
    "    print(i)\n",
    "    break"
   ]
  },
  {
   "cell_type": "code",
   "execution_count": 13,
   "metadata": {
    "collapsed": true
   },
   "outputs": [],
   "source": [
    "def myxrange(start, stop):\n",
    "    while start < stop:\n",
    "        yield start\n",
    "        start += 1"
   ]
  },
  {
   "cell_type": "code",
   "execution_count": 14,
   "metadata": {
    "collapsed": false
   },
   "outputs": [
    {
     "name": "stdout",
     "output_type": "stream",
     "text": [
      "1 2 3 4 5 6 7 8 9 "
     ]
    }
   ],
   "source": [
    "for i in myxrange(1, 10):\n",
    "    print(i, end=' ')"
   ]
  },
  {
   "cell_type": "code",
   "execution_count": 16,
   "metadata": {
    "collapsed": false
   },
   "outputs": [
    {
     "name": "stdout",
     "output_type": "stream",
     "text": [
      "1\n"
     ]
    }
   ],
   "source": [
    "for i in myxrange(1, 10000000000000):\n",
    "    print(i)\n",
    "    break"
   ]
  },
  {
   "cell_type": "markdown",
   "metadata": {},
   "source": [
    "## Co-Routine"
   ]
  },
  {
   "cell_type": "code",
   "execution_count": 17,
   "metadata": {
    "collapsed": true
   },
   "outputs": [],
   "source": [
    "def to_3():  # Generator 정의\n",
    "    print(\"to_3 이 시작되었습니다.\")\n",
    "    yield 1\n",
    "    yield 2\n",
    "    yield 3\n",
    "    print(\"to_3 이 종료되었습니다.\")\n",
    "    raise StopIteration"
   ]
  },
  {
   "cell_type": "code",
   "execution_count": 24,
   "metadata": {
    "collapsed": false
   },
   "outputs": [],
   "source": [
    "gen1 = to_3()  # 새로운 Generator Object 생성"
   ]
  },
  {
   "cell_type": "code",
   "execution_count": 25,
   "metadata": {
    "collapsed": true
   },
   "outputs": [],
   "source": [
    "gen2 = to_3()"
   ]
  },
  {
   "cell_type": "code",
   "execution_count": 26,
   "metadata": {
    "collapsed": false
   },
   "outputs": [
    {
     "name": "stdout",
     "output_type": "stream",
     "text": [
      "to_3 이 시작되었습니다.\n"
     ]
    },
    {
     "data": {
      "text/plain": [
       "1"
      ]
     },
     "execution_count": 26,
     "metadata": {},
     "output_type": "execute_result"
    }
   ],
   "source": [
    "next(gen1)"
   ]
  },
  {
   "cell_type": "code",
   "execution_count": 27,
   "metadata": {
    "collapsed": false
   },
   "outputs": [
    {
     "data": {
      "text/plain": [
       "2"
      ]
     },
     "execution_count": 27,
     "metadata": {},
     "output_type": "execute_result"
    }
   ],
   "source": [
    "next(gen1)"
   ]
  },
  {
   "cell_type": "code",
   "execution_count": 28,
   "metadata": {
    "collapsed": false
   },
   "outputs": [
    {
     "data": {
      "text/plain": [
       "3"
      ]
     },
     "execution_count": 28,
     "metadata": {},
     "output_type": "execute_result"
    }
   ],
   "source": [
    "next(gen1)"
   ]
  },
  {
   "cell_type": "code",
   "execution_count": 29,
   "metadata": {
    "collapsed": false
   },
   "outputs": [
    {
     "name": "stdout",
     "output_type": "stream",
     "text": [
      "to_3 이 종료되었습니다.\n"
     ]
    },
    {
     "ename": "StopIteration",
     "evalue": "",
     "output_type": "error",
     "traceback": [
      "\u001b[0;31m---------------------------------------------------------------------------\u001b[0m",
      "\u001b[0;31mStopIteration\u001b[0m                             Traceback (most recent call last)",
      "\u001b[0;32m<ipython-input-29-7eaff1435d6d>\u001b[0m in \u001b[0;36m<module>\u001b[0;34m()\u001b[0m\n\u001b[0;32m----> 1\u001b[0;31m \u001b[0mnext\u001b[0m\u001b[0;34m(\u001b[0m\u001b[0mgen1\u001b[0m\u001b[0;34m)\u001b[0m\u001b[0;34m\u001b[0m\u001b[0m\n\u001b[0m",
      "\u001b[0;31mStopIteration\u001b[0m: "
     ]
    }
   ],
   "source": [
    "next(gen1)"
   ]
  },
  {
   "cell_type": "code",
   "execution_count": 30,
   "metadata": {
    "collapsed": false
   },
   "outputs": [
    {
     "name": "stdout",
     "output_type": "stream",
     "text": [
      "to_3 이 시작되었습니다.\n"
     ]
    },
    {
     "data": {
      "text/plain": [
       "1"
      ]
     },
     "execution_count": 30,
     "metadata": {},
     "output_type": "execute_result"
    }
   ],
   "source": [
    "next(gen2)"
   ]
  },
  {
   "cell_type": "code",
   "execution_count": 32,
   "metadata": {
    "collapsed": false
   },
   "outputs": [
    {
     "data": {
      "text/plain": [
       "2"
      ]
     },
     "execution_count": 32,
     "metadata": {},
     "output_type": "execute_result"
    }
   ],
   "source": [
    "next(gen2)"
   ]
  },
  {
   "cell_type": "code",
   "execution_count": 33,
   "metadata": {
    "collapsed": false
   },
   "outputs": [
    {
     "data": {
      "text/plain": [
       "3"
      ]
     },
     "execution_count": 33,
     "metadata": {},
     "output_type": "execute_result"
    }
   ],
   "source": [
    "next(gen2)"
   ]
  },
  {
   "cell_type": "code",
   "execution_count": 34,
   "metadata": {
    "collapsed": false
   },
   "outputs": [
    {
     "name": "stdout",
     "output_type": "stream",
     "text": [
      "to_3 이 종료되었습니다.\n"
     ]
    },
    {
     "ename": "StopIteration",
     "evalue": "",
     "output_type": "error",
     "traceback": [
      "\u001b[0;31m---------------------------------------------------------------------------\u001b[0m",
      "\u001b[0;31mStopIteration\u001b[0m                             Traceback (most recent call last)",
      "\u001b[0;32m<ipython-input-34-9d92b52a15f6>\u001b[0m in \u001b[0;36m<module>\u001b[0;34m()\u001b[0m\n\u001b[0;32m----> 1\u001b[0;31m \u001b[0mnext\u001b[0m\u001b[0;34m(\u001b[0m\u001b[0mgen2\u001b[0m\u001b[0;34m)\u001b[0m\u001b[0;34m\u001b[0m\u001b[0m\n\u001b[0m",
      "\u001b[0;31mStopIteration\u001b[0m: "
     ]
    }
   ],
   "source": [
    "next(gen2)"
   ]
  },
  {
   "cell_type": "code",
   "execution_count": 35,
   "metadata": {
    "collapsed": false
   },
   "outputs": [
    {
     "name": "stdout",
     "output_type": "stream",
     "text": [
      "to_3 이 시작되었습니다.\n",
      "1\n",
      "2\n",
      "3\n",
      "to_3 이 종료되었습니다.\n"
     ]
    }
   ],
   "source": [
    "gen4 = to_3()\n",
    "for i in gen4:\n",
    "    print(i)"
   ]
  },
  {
   "cell_type": "code",
   "execution_count": 36,
   "metadata": {
    "collapsed": false
   },
   "outputs": [
    {
     "name": "stdout",
     "output_type": "stream",
     "text": [
      "to_3 이 시작되었습니다.\n",
      "1\n",
      "2\n",
      "3\n",
      "to_3 이 종료되었습니다.\n"
     ]
    }
   ],
   "source": [
    "for i in to_3():\n",
    "    print(i)"
   ]
  },
  {
   "cell_type": "code",
   "execution_count": 37,
   "metadata": {
    "collapsed": false
   },
   "outputs": [
    {
     "name": "stdout",
     "output_type": "stream",
     "text": [
      "to_3 이 시작되었습니다.\n",
      "to_3 이 종료되었습니다.\n"
     ]
    },
    {
     "data": {
      "text/plain": [
       "[1, 2, 3]"
      ]
     },
     "execution_count": 37,
     "metadata": {},
     "output_type": "execute_result"
    }
   ],
   "source": [
    "list(to_3())"
   ]
  },
  {
   "cell_type": "code",
   "execution_count": 38,
   "metadata": {
    "collapsed": false
   },
   "outputs": [
    {
     "name": "stdout",
     "output_type": "stream",
     "text": [
      "to_3 이 시작되었습니다.\n",
      "to_3 이 종료되었습니다.\n"
     ]
    },
    {
     "data": {
      "text/plain": [
       "(1, 2, 3)"
      ]
     },
     "execution_count": 38,
     "metadata": {},
     "output_type": "execute_result"
    }
   ],
   "source": [
    "tuple(to_3())"
   ]
  },
  {
   "cell_type": "code",
   "execution_count": 39,
   "metadata": {
    "collapsed": false
   },
   "outputs": [
    {
     "name": "stdout",
     "output_type": "stream",
     "text": [
      "to_3 이 시작되었습니다.\n",
      "to_3 이 종료되었습니다.\n"
     ]
    },
    {
     "data": {
      "text/plain": [
       "{1, 2, 3}"
      ]
     },
     "execution_count": 39,
     "metadata": {},
     "output_type": "execute_result"
    }
   ],
   "source": [
    "set(to_3())"
   ]
  },
  {
   "cell_type": "code",
   "execution_count": 41,
   "metadata": {
    "collapsed": false
   },
   "outputs": [
    {
     "data": {
      "text/plain": [
       "range(0, 10)"
      ]
     },
     "execution_count": 41,
     "metadata": {},
     "output_type": "execute_result"
    }
   ],
   "source": [
    "range(10)  # Generator"
   ]
  },
  {
   "cell_type": "code",
   "execution_count": 42,
   "metadata": {
    "collapsed": false
   },
   "outputs": [
    {
     "data": {
      "text/plain": [
       "[0, 1, 2, 3, 4, 5, 6, 7, 8, 9]"
      ]
     },
     "execution_count": 42,
     "metadata": {},
     "output_type": "execute_result"
    }
   ],
   "source": [
    "list(range(10))"
   ]
  },
  {
   "cell_type": "code",
   "execution_count": 43,
   "metadata": {
    "collapsed": true
   },
   "outputs": [],
   "source": [
    "def mygen1():\n",
    "    yield ('a', 1)\n",
    "    yield ('b', 2)\n",
    "    yield ('c', 3)"
   ]
  },
  {
   "cell_type": "code",
   "execution_count": 44,
   "metadata": {
    "collapsed": false
   },
   "outputs": [
    {
     "data": {
      "text/plain": [
       "{'a': 1, 'b': 2, 'c': 3}"
      ]
     },
     "execution_count": 44,
     "metadata": {},
     "output_type": "execute_result"
    }
   ],
   "source": [
    "dict(mygen1())"
   ]
  },
  {
   "cell_type": "markdown",
   "metadata": {},
   "source": [
    "## Comprehension"
   ]
  },
  {
   "cell_type": "code",
   "execution_count": 45,
   "metadata": {
    "collapsed": false
   },
   "outputs": [
    {
     "data": {
      "text/plain": [
       "[1, 4, 9, 16, 25, 36, 49, 64, 81, 100]"
      ]
     },
     "execution_count": 45,
     "metadata": {},
     "output_type": "execute_result"
    }
   ],
   "source": [
    "mylist = []\n",
    "for i in range(1, 11):\n",
    "    mylist.append(i**2)\n",
    "mylist"
   ]
  },
  {
   "cell_type": "code",
   "execution_count": 46,
   "metadata": {
    "collapsed": false
   },
   "outputs": [
    {
     "data": {
      "text/plain": [
       "[1, 4, 9, 16, 25, 36, 49, 64, 81, 100]"
      ]
     },
     "execution_count": 46,
     "metadata": {},
     "output_type": "execute_result"
    }
   ],
   "source": [
    "[i**2 for i in range(1, 11)]"
   ]
  },
  {
   "cell_type": "code",
   "execution_count": 47,
   "metadata": {
    "collapsed": false
   },
   "outputs": [
    {
     "data": {
      "text/plain": [
       "[4, 16, 36, 64, 100]"
      ]
     },
     "execution_count": 47,
     "metadata": {},
     "output_type": "execute_result"
    }
   ],
   "source": [
    "mylist = []\n",
    "for i in range(1, 11):\n",
    "    if i % 2 == 0:\n",
    "        mylist.append(i**2)\n",
    "mylist"
   ]
  },
  {
   "cell_type": "code",
   "execution_count": 49,
   "metadata": {
    "collapsed": false
   },
   "outputs": [
    {
     "data": {
      "text/plain": [
       "[4, 16, 36, 64, 100]"
      ]
     },
     "execution_count": 49,
     "metadata": {},
     "output_type": "execute_result"
    }
   ],
   "source": [
    "[i**2 for i in range(1, 11) if i % 2 == 0]"
   ]
  },
  {
   "cell_type": "markdown",
   "metadata": {},
   "source": [
    "## 다양한 빌트인 함수"
   ]
  },
  {
   "cell_type": "code",
   "execution_count": 52,
   "metadata": {
    "collapsed": false
   },
   "outputs": [],
   "source": [
    "map?"
   ]
  },
  {
   "cell_type": "code",
   "execution_count": 53,
   "metadata": {
    "collapsed": false
   },
   "outputs": [],
   "source": [
    "filter?"
   ]
  },
  {
   "cell_type": "code",
   "execution_count": 59,
   "metadata": {
    "collapsed": false
   },
   "outputs": [
    {
     "data": {
      "text/plain": [
       "[1, 4, 9, 16, 25, 36, 49, 64, 81, 100]"
      ]
     },
     "execution_count": 59,
     "metadata": {},
     "output_type": "execute_result"
    }
   ],
   "source": [
    "def fn(value):\n",
    "    return value ** 2\n",
    "\n",
    "list(map(fn, [1, 2, 3, 4, 5, 6, 7, 8, 9, 10]))"
   ]
  },
  {
   "cell_type": "code",
   "execution_count": 61,
   "metadata": {
    "collapsed": false
   },
   "outputs": [
    {
     "data": {
      "text/plain": [
       "[4, 16, 36, 64, 100]"
      ]
     },
     "execution_count": 61,
     "metadata": {},
     "output_type": "execute_result"
    }
   ],
   "source": [
    "list(filter(lambda i: i%2==0, map(fn, [1, 2, 3, 4, 5, 6, 7, 8, 9, 10])))"
   ]
  },
  {
   "cell_type": "code",
   "execution_count": 62,
   "metadata": {
    "collapsed": false
   },
   "outputs": [
    {
     "data": {
      "text/plain": [
       "[0,\n",
       " 1,\n",
       " 2,\n",
       " 3,\n",
       " 4,\n",
       " 0,\n",
       " 1,\n",
       " 2,\n",
       " 3,\n",
       " 4,\n",
       " 0,\n",
       " 1,\n",
       " 2,\n",
       " 3,\n",
       " 4,\n",
       " 0,\n",
       " 1,\n",
       " 2,\n",
       " 3,\n",
       " 4,\n",
       " 0,\n",
       " 1,\n",
       " 2,\n",
       " 3,\n",
       " 4,\n",
       " 0,\n",
       " 1,\n",
       " 2,\n",
       " 3,\n",
       " 4,\n",
       " 0,\n",
       " 1,\n",
       " 2,\n",
       " 3,\n",
       " 4,\n",
       " 0,\n",
       " 1,\n",
       " 2,\n",
       " 3,\n",
       " 4,\n",
       " 0,\n",
       " 1,\n",
       " 2,\n",
       " 3,\n",
       " 4,\n",
       " 0,\n",
       " 1,\n",
       " 2,\n",
       " 3,\n",
       " 4,\n",
       " 0,\n",
       " 1,\n",
       " 2,\n",
       " 3,\n",
       " 4,\n",
       " 0,\n",
       " 1,\n",
       " 2,\n",
       " 3,\n",
       " 4,\n",
       " 0,\n",
       " 1,\n",
       " 2,\n",
       " 3,\n",
       " 4,\n",
       " 0,\n",
       " 1,\n",
       " 2,\n",
       " 3,\n",
       " 4,\n",
       " 0,\n",
       " 1,\n",
       " 2,\n",
       " 3,\n",
       " 4,\n",
       " 0,\n",
       " 1,\n",
       " 2,\n",
       " 3,\n",
       " 4,\n",
       " 0,\n",
       " 1,\n",
       " 2,\n",
       " 3,\n",
       " 4,\n",
       " 0,\n",
       " 1,\n",
       " 2,\n",
       " 3,\n",
       " 4,\n",
       " 0,\n",
       " 1,\n",
       " 2,\n",
       " 3,\n",
       " 4,\n",
       " 0,\n",
       " 1,\n",
       " 2,\n",
       " 3,\n",
       " 4]"
      ]
     },
     "execution_count": 62,
     "metadata": {},
     "output_type": "execute_result"
    }
   ],
   "source": [
    "[i%5 for i in range(100)]"
   ]
  },
  {
   "cell_type": "code",
   "execution_count": 63,
   "metadata": {
    "collapsed": false
   },
   "outputs": [
    {
     "data": {
      "text/plain": [
       "{0, 1, 2, 3, 4}"
      ]
     },
     "execution_count": 63,
     "metadata": {},
     "output_type": "execute_result"
    }
   ],
   "source": [
    "{i%5 for i in range(100)}"
   ]
  },
  {
   "cell_type": "code",
   "execution_count": 64,
   "metadata": {
    "collapsed": false
   },
   "outputs": [
    {
     "data": {
      "text/plain": [
       "{0: 0,\n",
       " 1: 1,\n",
       " 2: 2,\n",
       " 3: 3,\n",
       " 4: 4,\n",
       " 5: 0,\n",
       " 6: 1,\n",
       " 7: 2,\n",
       " 8: 3,\n",
       " 9: 4,\n",
       " 10: 0,\n",
       " 11: 1,\n",
       " 12: 2,\n",
       " 13: 3,\n",
       " 14: 4,\n",
       " 15: 0,\n",
       " 16: 1,\n",
       " 17: 2,\n",
       " 18: 3,\n",
       " 19: 4,\n",
       " 20: 0,\n",
       " 21: 1,\n",
       " 22: 2,\n",
       " 23: 3,\n",
       " 24: 4,\n",
       " 25: 0,\n",
       " 26: 1,\n",
       " 27: 2,\n",
       " 28: 3,\n",
       " 29: 4,\n",
       " 30: 0,\n",
       " 31: 1,\n",
       " 32: 2,\n",
       " 33: 3,\n",
       " 34: 4,\n",
       " 35: 0,\n",
       " 36: 1,\n",
       " 37: 2,\n",
       " 38: 3,\n",
       " 39: 4,\n",
       " 40: 0,\n",
       " 41: 1,\n",
       " 42: 2,\n",
       " 43: 3,\n",
       " 44: 4,\n",
       " 45: 0,\n",
       " 46: 1,\n",
       " 47: 2,\n",
       " 48: 3,\n",
       " 49: 4,\n",
       " 50: 0,\n",
       " 51: 1,\n",
       " 52: 2,\n",
       " 53: 3,\n",
       " 54: 4,\n",
       " 55: 0,\n",
       " 56: 1,\n",
       " 57: 2,\n",
       " 58: 3,\n",
       " 59: 4,\n",
       " 60: 0,\n",
       " 61: 1,\n",
       " 62: 2,\n",
       " 63: 3,\n",
       " 64: 4,\n",
       " 65: 0,\n",
       " 66: 1,\n",
       " 67: 2,\n",
       " 68: 3,\n",
       " 69: 4,\n",
       " 70: 0,\n",
       " 71: 1,\n",
       " 72: 2,\n",
       " 73: 3,\n",
       " 74: 4,\n",
       " 75: 0,\n",
       " 76: 1,\n",
       " 77: 2,\n",
       " 78: 3,\n",
       " 79: 4,\n",
       " 80: 0,\n",
       " 81: 1,\n",
       " 82: 2,\n",
       " 83: 3,\n",
       " 84: 4,\n",
       " 85: 0,\n",
       " 86: 1,\n",
       " 87: 2,\n",
       " 88: 3,\n",
       " 89: 4,\n",
       " 90: 0,\n",
       " 91: 1,\n",
       " 92: 2,\n",
       " 93: 3,\n",
       " 94: 4,\n",
       " 95: 0,\n",
       " 96: 1,\n",
       " 97: 2,\n",
       " 98: 3,\n",
       " 99: 4}"
      ]
     },
     "execution_count": 64,
     "metadata": {},
     "output_type": "execute_result"
    }
   ],
   "source": [
    "{i:i%5 for i in range(100)}"
   ]
  },
  {
   "cell_type": "code",
   "execution_count": 65,
   "metadata": {
    "collapsed": false
   },
   "outputs": [
    {
     "data": {
      "text/plain": [
       "{0: 95, 1: 96, 2: 97, 3: 98, 4: 99}"
      ]
     },
     "execution_count": 65,
     "metadata": {},
     "output_type": "execute_result"
    }
   ],
   "source": [
    "{i%5:i for i in range(100)}"
   ]
  },
  {
   "cell_type": "code",
   "execution_count": 66,
   "metadata": {
    "collapsed": false
   },
   "outputs": [
    {
     "data": {
      "text/plain": [
       "<generator object <genexpr> at 0x106cc7fc0>"
      ]
     },
     "execution_count": 66,
     "metadata": {},
     "output_type": "execute_result"
    }
   ],
   "source": [
    "(i for i in range(100))"
   ]
  },
  {
   "cell_type": "code",
   "execution_count": 70,
   "metadata": {
    "collapsed": false
   },
   "outputs": [
    {
     "data": {
      "text/plain": [
       "<map at 0x106e05be0>"
      ]
     },
     "execution_count": 70,
     "metadata": {},
     "output_type": "execute_result"
    }
   ],
   "source": [
    "map(lambda i: i**2, range(100))"
   ]
  },
  {
   "cell_type": "code",
   "execution_count": 71,
   "metadata": {
    "collapsed": false
   },
   "outputs": [
    {
     "data": {
      "text/plain": [
       "<generator object <genexpr> at 0x106dc1830>"
      ]
     },
     "execution_count": 71,
     "metadata": {},
     "output_type": "execute_result"
    }
   ],
   "source": [
    "(i**2 for i in range(100))"
   ]
  },
  {
   "cell_type": "markdown",
   "metadata": {},
   "source": [
    "## itertools.islice"
   ]
  },
  {
   "cell_type": "code",
   "execution_count": 77,
   "metadata": {
    "collapsed": true
   },
   "outputs": [],
   "source": [
    "def fib():\n",
    "    x, y = 1, 1\n",
    "    while True:\n",
    "        yield x\n",
    "        x, y = y, x + y"
   ]
  },
  {
   "cell_type": "code",
   "execution_count": 78,
   "metadata": {
    "collapsed": false
   },
   "outputs": [
    {
     "ename": "TypeError",
     "evalue": "'generator' object is not subscriptable",
     "output_type": "error",
     "traceback": [
      "\u001b[0;31m---------------------------------------------------------------------------\u001b[0m",
      "\u001b[0;31mTypeError\u001b[0m                                 Traceback (most recent call last)",
      "\u001b[0;32m<ipython-input-78-3a5b17b3e62e>\u001b[0m in \u001b[0;36m<module>\u001b[0;34m()\u001b[0m\n\u001b[0;32m----> 1\u001b[0;31m \u001b[0mfib\u001b[0m\u001b[0;34m(\u001b[0m\u001b[0;34m)\u001b[0m\u001b[0;34m[\u001b[0m\u001b[0;34m:\u001b[0m\u001b[0;36m10\u001b[0m\u001b[0;34m]\u001b[0m\u001b[0;34m\u001b[0m\u001b[0m\n\u001b[0m",
      "\u001b[0;31mTypeError\u001b[0m: 'generator' object is not subscriptable"
     ]
    }
   ],
   "source": [
    "fib()[:10]"
   ]
  },
  {
   "cell_type": "code",
   "execution_count": 73,
   "metadata": {
    "collapsed": true
   },
   "outputs": [],
   "source": [
    "from itertools import islice"
   ]
  },
  {
   "cell_type": "code",
   "execution_count": 81,
   "metadata": {
    "collapsed": false
   },
   "outputs": [
    {
     "data": {
      "text/plain": [
       "[1, 1, 2, 3, 5, 8, 13, 21, 34, 55]"
      ]
     },
     "execution_count": 81,
     "metadata": {},
     "output_type": "execute_result"
    }
   ],
   "source": [
    "list(islice(fib(), 10))"
   ]
  },
  {
   "cell_type": "code",
   "execution_count": 79,
   "metadata": {
    "collapsed": true
   },
   "outputs": [],
   "source": [
    "islice?"
   ]
  },
  {
   "cell_type": "markdown",
   "metadata": {},
   "source": [
    "## memoize adv"
   ]
  },
  {
   "cell_type": "code",
   "execution_count": 84,
   "metadata": {
    "collapsed": true
   },
   "outputs": [],
   "source": [
    "import time\n",
    "\n",
    "def memoize(fn):\n",
    "    cached = {}\n",
    "    def wrap(*args):\n",
    "        key = args\n",
    "        if key not in cached:\n",
    "            cached[key] = fn(*args)\n",
    "        return cached[key]\n",
    "    return wrap\n",
    "\n",
    "@memoize\n",
    "def mysum(x, y):\n",
    "    time.sleep(1)\n",
    "    return x + y\n",
    "\n",
    "@memoize\n",
    "def mysum3(x, y, z):\n",
    "    time.sleep(1)\n",
    "    return x + y + z\n",
    "\n",
    "@memoize\n",
    "def mysum4(x, y, z, a):\n",
    "    time.sleep(1)\n",
    "    return x + y + z + z\n",
    "\n",
    "@memoize\n",
    "def mymultiply(x, y):\n",
    "    time.sleep(1)\n",
    "    return x * y\n"
   ]
  },
  {
   "cell_type": "code",
   "execution_count": 85,
   "metadata": {
    "collapsed": false
   },
   "outputs": [
    {
     "name": "stdout",
     "output_type": "stream",
     "text": [
      "6\n",
      "6\n",
      "6\n"
     ]
    }
   ],
   "source": [
    "print(mysum3(1, 2, 3))\n",
    "print(mysum3(1, 2, 3))\n",
    "print(mysum3(1, 2, 3))"
   ]
  },
  {
   "cell_type": "code",
   "execution_count": 86,
   "metadata": {
    "collapsed": false
   },
   "outputs": [
    {
     "name": "stdout",
     "output_type": "stream",
     "text": [
      "9\n",
      "9\n",
      "9\n"
     ]
    }
   ],
   "source": [
    "print(mysum4(1, 2, 3, 4))\n",
    "print(mysum4(1, 2, 3, 4))\n",
    "print(mysum4(1, 2, 3, 4))"
   ]
  },
  {
   "cell_type": "markdown",
   "metadata": {},
   "source": [
    "## 네이버 웹툰, 특정 에피소드 이미지 크롤링"
   ]
  },
  {
   "cell_type": "code",
   "execution_count": 87,
   "metadata": {
    "collapsed": true
   },
   "outputs": [],
   "source": [
    "ep_url = \"http://comic.naver.com/webtoon/detail.nhn?titleId=662774&no=72&weekday=wed\""
   ]
  },
  {
   "cell_type": "code",
   "execution_count": 88,
   "metadata": {
    "collapsed": true
   },
   "outputs": [],
   "source": [
    "import requests\n",
    "html = requests.get(ep_url).text"
   ]
  },
  {
   "cell_type": "code",
   "execution_count": 89,
   "metadata": {
    "collapsed": false
   },
   "outputs": [
    {
     "data": {
      "text/plain": [
       "114926"
      ]
     },
     "execution_count": 89,
     "metadata": {},
     "output_type": "execute_result"
    }
   ],
   "source": [
    "len(html)"
   ]
  },
  {
   "cell_type": "code",
   "execution_count": 107,
   "metadata": {
    "collapsed": false
   },
   "outputs": [],
   "source": [
    "import os\n",
    "from bs4 import BeautifulSoup\n",
    "\n",
    "soup = BeautifulSoup(html, 'html.parser')"
   ]
  },
  {
   "cell_type": "code",
   "execution_count": 109,
   "metadata": {
    "collapsed": false
   },
   "outputs": [
    {
     "name": "stdout",
     "output_type": "stream",
     "text": [
      "이미 존재 : 20170110115840_6892e669d925f092b26dfa870455a08a_IMAG01_1.jpg\n",
      "이미 존재 : 20170110115840_6892e669d925f092b26dfa870455a08a_IMAG01_2.jpg\n",
      "이미 존재 : 20170110115840_6892e669d925f092b26dfa870455a08a_IMAG01_3.jpg\n",
      "이미 존재 : 20170110115840_6892e669d925f092b26dfa870455a08a_IMAG01_4.jpg\n",
      "이미 존재 : 20170110115840_6892e669d925f092b26dfa870455a08a_IMAG01_5.jpg\n",
      "이미 존재 : 20170110115840_6892e669d925f092b26dfa870455a08a_IMAG01_6.jpg\n",
      "이미 존재 : 20170110115840_6892e669d925f092b26dfa870455a08a_IMAG01_7.jpg\n",
      "이미 존재 : 20170110115840_6892e669d925f092b26dfa870455a08a_IMAG01_8.jpg\n",
      "이미 존재 : 20170110115840_6892e669d925f092b26dfa870455a08a_IMAG01_9.jpg\n",
      "이미 존재 : 20170110115840_6892e669d925f092b26dfa870455a08a_IMAG01_10.jpg\n",
      "이미 존재 : 20170110115840_6892e669d925f092b26dfa870455a08a_IMAG01_11.jpg\n",
      "이미 존재 : 20170110115840_6892e669d925f092b26dfa870455a08a_IMAG01_12.jpg\n",
      "이미 존재 : 20170110115840_6892e669d925f092b26dfa870455a08a_IMAG01_13.jpg\n",
      "이미 존재 : 20170110115840_6892e669d925f092b26dfa870455a08a_IMAG01_14.jpg\n",
      "이미 존재 : 20170110115840_6892e669d925f092b26dfa870455a08a_IMAG01_15.jpg\n",
      "이미 존재 : 20170110115840_6892e669d925f092b26dfa870455a08a_IMAG01_16.jpg\n",
      "이미 존재 : 20170110115840_6892e669d925f092b26dfa870455a08a_IMAG01_17.jpg\n",
      "이미 존재 : 20170110115840_6892e669d925f092b26dfa870455a08a_IMAG01_18.jpg\n",
      "이미 존재 : 20170110115840_6892e669d925f092b26dfa870455a08a_IMAG01_19.jpg\n",
      "이미 존재 : 20170110115840_6892e669d925f092b26dfa870455a08a_IMAG01_20.jpg\n",
      "이미 존재 : 20170110115840_6892e669d925f092b26dfa870455a08a_IMAG01_21.jpg\n",
      "이미 존재 : 20170110115840_6892e669d925f092b26dfa870455a08a_IMAG01_22.jpg\n",
      "이미 존재 : 20170110115840_6892e669d925f092b26dfa870455a08a_IMAG01_23.jpg\n",
      "이미 존재 : 20170110115840_6892e669d925f092b26dfa870455a08a_IMAG01_24.jpg\n",
      "이미 존재 : 20170110115840_6892e669d925f092b26dfa870455a08a_IMAG01_25.jpg\n",
      "이미 존재 : 20170110115840_6892e669d925f092b26dfa870455a08a_IMAG01_26.jpg\n",
      "이미 존재 : 20170110115840_6892e669d925f092b26dfa870455a08a_IMAG01_27.jpg\n",
      "이미 존재 : 20170110115840_6892e669d925f092b26dfa870455a08a_IMAG01_28.jpg\n",
      "이미 존재 : 20170110115840_6892e669d925f092b26dfa870455a08a_IMAG01_29.jpg\n",
      "이미 존재 : 20170110115840_6892e669d925f092b26dfa870455a08a_IMAG01_30.jpg\n",
      "이미 존재 : 20170110115840_6892e669d925f092b26dfa870455a08a_IMAG01_31.jpg\n",
      "이미 존재 : 20170110115840_6892e669d925f092b26dfa870455a08a_IMAG01_32.jpg\n",
      "이미 존재 : 20170110115840_6892e669d925f092b26dfa870455a08a_IMAG01_33.jpg\n",
      "이미 존재 : 20170110115840_6892e669d925f092b26dfa870455a08a_IMAG01_34.jpg\n",
      "이미 존재 : 20170110115840_6892e669d925f092b26dfa870455a08a_IMAG01_35.jpg\n",
      "이미 존재 : 20170110115840_6892e669d925f092b26dfa870455a08a_IMAG01_36.jpg\n",
      "이미 존재 : 20170110115840_6892e669d925f092b26dfa870455a08a_IMAG01_37.jpg\n",
      "이미 존재 : 20170110115840_6892e669d925f092b26dfa870455a08a_IMAG01_38.jpg\n",
      "이미 존재 : 20170110115840_6892e669d925f092b26dfa870455a08a_IMAG01_39.jpg\n",
      "이미 존재 : 20170110115840_6892e669d925f092b26dfa870455a08a_IMAG01_40.jpg\n",
      "이미 존재 : 20170110115840_6892e669d925f092b26dfa870455a08a_IMAG01_41.jpg\n",
      "이미 존재 : 20170110115840_6892e669d925f092b26dfa870455a08a_IMAG01_42.jpg\n",
      "이미 존재 : 20170110115840_6892e669d925f092b26dfa870455a08a_IMAG01_43.jpg\n",
      "이미 존재 : 20170110115840_6892e669d925f092b26dfa870455a08a_IMAG01_44.jpg\n",
      "이미 존재 : 20170110115840_6892e669d925f092b26dfa870455a08a_IMAG01_45.jpg\n",
      "이미 존재 : 20170110115840_6892e669d925f092b26dfa870455a08a_IMAG01_46.jpg\n",
      "이미 존재 : 20170110115840_6892e669d925f092b26dfa870455a08a_IMAG01_47.jpg\n",
      "이미 존재 : 20170110115840_6892e669d925f092b26dfa870455a08a_IMAG01_48.jpg\n",
      "이미 존재 : 20170110115840_6892e669d925f092b26dfa870455a08a_IMAG01_49.jpg\n",
      "이미 존재 : 20170110115840_6892e669d925f092b26dfa870455a08a_IMAG01_50.jpg\n",
      "이미 존재 : 20170110115840_6892e669d925f092b26dfa870455a08a_IMAG01_51.jpg\n",
      "이미 존재 : 20170110115840_6892e669d925f092b26dfa870455a08a_IMAG01_52.jpg\n",
      "이미 존재 : 20170110115840_6892e669d925f092b26dfa870455a08a_IMAG01_53.jpg\n",
      "이미 존재 : 20170110115840_6892e669d925f092b26dfa870455a08a_IMAG01_54.jpg\n",
      "이미 존재 : 20170110115840_6892e669d925f092b26dfa870455a08a_IMAG01_55.jpg\n",
      "이미 존재 : 20170110115840_6892e669d925f092b26dfa870455a08a_IMAG01_56.jpg\n",
      "이미 존재 : 20170110115840_6892e669d925f092b26dfa870455a08a_IMAG01_57.jpg\n",
      "이미 존재 : 20170110115840_6892e669d925f092b26dfa870455a08a_IMAG01_58.jpg\n",
      "이미 존재 : 20170110115840_6892e669d925f092b26dfa870455a08a_IMAG01_59.jpg\n",
      "이미 존재 : 20170110115840_6892e669d925f092b26dfa870455a08a_IMAG01_60.jpg\n",
      "이미 존재 : 20170110115840_6892e669d925f092b26dfa870455a08a_IMAG01_61.jpg\n",
      "이미 존재 : 20170110115840_6892e669d925f092b26dfa870455a08a_IMAG01_62.jpg\n",
      "이미 존재 : 20170110115840_6892e669d925f092b26dfa870455a08a_IMAG01_63.jpg\n",
      "이미 존재 : 20170110115840_6892e669d925f092b26dfa870455a08a_IMAG01_64.jpg\n",
      "이미 존재 : 20170110115840_6892e669d925f092b26dfa870455a08a_IMAG01_65.jpg\n",
      "이미 존재 : 20170110115840_6892e669d925f092b26dfa870455a08a_IMAG01_66.jpg\n",
      "이미 존재 : 20170110115840_6892e669d925f092b26dfa870455a08a_IMAG01_67.jpg\n",
      "이미 존재 : 20170110115840_6892e669d925f092b26dfa870455a08a_IMAG01_68.jpg\n",
      "이미 존재 : 20170110115840_6892e669d925f092b26dfa870455a08a_IMAG01_69.jpg\n",
      "이미 존재 : 20170110115840_6892e669d925f092b26dfa870455a08a_IMAG01_70.jpg\n",
      "이미 존재 : 20170110115840_6892e669d925f092b26dfa870455a08a_IMAG01_71.jpg\n",
      "이미 존재 : 20170110115840_6892e669d925f092b26dfa870455a08a_IMAG01_72.jpg\n"
     ]
    }
   ],
   "source": [
    "for idx, img_tag in enumerate(soup.select(\".wt_viewer img\"), 1):\n",
    "    img_url = img_tag['src']\n",
    "    \n",
    "    # ep_url, img_url\n",
    "    filename = os.path.basename(img_url)\n",
    "    filepath = os.path.join(\"data\", \"고수\", filename)  # 웹툰ID, EP ID, 이미지name\n",
    "    dirpath = os.path.dirname(filepath)\n",
    "    if not os.path.exists(dirpath):\n",
    "        os.makedirs(dirpath)\n",
    "    \n",
    "    if os.path.exists(filepath):\n",
    "        print('이미 존재 :', filename)\n",
    "    else:\n",
    "        print('다운받을 것이오 :', filename)\n",
    "        headers = {\n",
    "            'Referer': ep_url,\n",
    "            #'User-Agent': '',\n",
    "        }\n",
    "        # TODO: 이미지 캐싱을 적용할 수도 있음.\n",
    "        image_data = requests.get(img_url, headers=headers).content\n",
    "        with open(filepath, 'wb') as f:\n",
    "            f.write(image_data)\n"
   ]
  },
  {
   "cell_type": "code",
   "execution_count": 99,
   "metadata": {
    "collapsed": true
   },
   "outputs": [],
   "source": [
    "# 남은 과제\n",
    "#  - 이미지 캐싱\n",
    "#  - 에피소드 목록 크롤링\n",
    "#  - 이미지 합치기"
   ]
  },
  {
   "cell_type": "markdown",
   "metadata": {},
   "source": [
    "## URL에서 파일명 추출하기"
   ]
  },
  {
   "cell_type": "code",
   "execution_count": 102,
   "metadata": {
    "collapsed": true
   },
   "outputs": [],
   "source": [
    "url = \"http://imgcomic.naver.net/webtoon/662774/72/20170110115840_6892e669d925f092b26dfa870455a08a_IMAG01_1.jpg\""
   ]
  },
  {
   "cell_type": "code",
   "execution_count": 103,
   "metadata": {
    "collapsed": false
   },
   "outputs": [
    {
     "data": {
      "text/plain": [
       "['http:',\n",
       " '',\n",
       " 'imgcomic.naver.net',\n",
       " 'webtoon',\n",
       " '662774',\n",
       " '72',\n",
       " '20170110115840_6892e669d925f092b26dfa870455a08a_IMAG01_1.jpg']"
      ]
     },
     "execution_count": 103,
     "metadata": {},
     "output_type": "execute_result"
    }
   ],
   "source": [
    "url.split(\"/\")"
   ]
  },
  {
   "cell_type": "code",
   "execution_count": 104,
   "metadata": {
    "collapsed": false
   },
   "outputs": [
    {
     "data": {
      "text/plain": [
       "'20170110115840_6892e669d925f092b26dfa870455a08a_IMAG01_1.jpg'"
      ]
     },
     "execution_count": 104,
     "metadata": {},
     "output_type": "execute_result"
    }
   ],
   "source": [
    "url.split(\"/\")[-1]"
   ]
  },
  {
   "cell_type": "code",
   "execution_count": 105,
   "metadata": {
    "collapsed": true
   },
   "outputs": [],
   "source": [
    "import os"
   ]
  },
  {
   "cell_type": "code",
   "execution_count": 106,
   "metadata": {
    "collapsed": false
   },
   "outputs": [
    {
     "data": {
      "text/plain": [
       "'20170110115840_6892e669d925f092b26dfa870455a08a_IMAG01_1.jpg'"
      ]
     },
     "execution_count": 106,
     "metadata": {},
     "output_type": "execute_result"
    }
   ],
   "source": [
    "os.path.basename(url)"
   ]
  },
  {
   "cell_type": "code",
   "execution_count": null,
   "metadata": {
    "collapsed": true
   },
   "outputs": [],
   "source": []
  }
 ],
 "metadata": {
  "anaconda-cloud": {},
  "kernelspec": {
   "display_name": "Python [default]",
   "language": "python",
   "name": "python3"
  },
  "language_info": {
   "codemirror_mode": {
    "name": "ipython",
    "version": 3
   },
   "file_extension": ".py",
   "mimetype": "text/x-python",
   "name": "python",
   "nbconvert_exporter": "python",
   "pygments_lexer": "ipython3",
   "version": "3.5.2"
  }
 },
 "nbformat": 4,
 "nbformat_minor": 1
}
