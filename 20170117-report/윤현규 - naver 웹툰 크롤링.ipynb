{
 "cells": [
  {
   "cell_type": "code",
   "execution_count": 102,
   "metadata": {
    "collapsed": false
   },
   "outputs": [],
   "source": [
    "import requests\n",
    "import os\n",
    "from bs4 import BeautifulSoup\n",
    "\n",
    "ep_url = 'http://comic.naver.com/webtoon/list.nhn?titleId=679519&weekday=mon'\n",
    "html = requests.get(ep_url).text\n",
    "soup = BeautifulSoup(html, 'lxml')\n"
   ]
  },
  {
   "cell_type": "code",
   "execution_count": 103,
   "metadata": {
    "collapsed": true
   },
   "outputs": [],
   "source": [
    "list1 = soup.select('div h2')"
   ]
  },
  {
   "cell_type": "code",
   "execution_count": 104,
   "metadata": {
    "collapsed": false
   },
   "outputs": [
    {
     "data": {
      "text/plain": [
       "[<h2>\n",
       " \t\t\t        대학일기<span class=\"ico_cut\">컷툰</span><span class=\"wrt_nm\">\n",
       " \t\t\t\t\t\t\t자까</span>\n",
       " </h2>]"
      ]
     },
     "execution_count": 104,
     "metadata": {},
     "output_type": "execute_result"
    }
   ],
   "source": [
    "list1"
   ]
  },
  {
   "cell_type": "code",
   "execution_count": 105,
   "metadata": {
    "collapsed": true
   },
   "outputs": [],
   "source": [
    "list2 = soup.find_all('td', attrs={'class':'title'})"
   ]
  },
  {
   "cell_type": "code",
   "execution_count": 106,
   "metadata": {
    "collapsed": false
   },
   "outputs": [
    {
     "data": {
      "text/plain": [
       "[<td class=\"title\">\n",
       " <a href=\"/webtoon/detail.nhn?titleId=679519&amp;no=66&amp;weekday=mon\" onclick=\"clickcr(this,'lst.title','679519','66',event)\">66화 겨울 간식</a>\n",
       " </td>, <td class=\"title\">\n",
       " <a href=\"/webtoon/detail.nhn?titleId=679519&amp;no=65&amp;weekday=mon\" onclick=\"clickcr(this,'lst.title','679519','65',event)\">65화 탈색한다 (2)</a>\n",
       " </td>, <td class=\"title\">\n",
       " <a href=\"/webtoon/detail.nhn?titleId=679519&amp;no=64&amp;weekday=mon\" onclick=\"clickcr(this,'lst.title','679519','64',event)\">64화 탈색한다 (1)</a>\n",
       " </td>, <td class=\"title\">\n",
       " <a href=\"/webtoon/detail.nhn?titleId=679519&amp;no=63&amp;weekday=mon\" onclick=\"clickcr(this,'lst.title','679519','63',event)\">63화 고기굽는사람</a>\n",
       " </td>, <td class=\"title\">\n",
       " <a href=\"/webtoon/detail.nhn?titleId=679519&amp;no=62&amp;weekday=mon\" onclick=\"clickcr(this,'lst.title','679519','62',event)\">62화 새해니까 새해목표</a>\n",
       " </td>, <td class=\"title\">\n",
       " <a href=\"/webtoon/detail.nhn?titleId=679519&amp;no=61&amp;weekday=mon\" onclick=\"clickcr(this,'lst.title','679519','61',event)\">61화 굿바이 丙申年</a>\n",
       " </td>, <td class=\"title\">\n",
       " <a href=\"/webtoon/detail.nhn?titleId=679519&amp;no=60&amp;weekday=mon\" onclick=\"clickcr(this,'lst.title','679519','60',event)\">60화 메리크리스마스</a>\n",
       " </td>, <td class=\"title\">\n",
       " <a href=\"/webtoon/detail.nhn?titleId=679519&amp;no=59&amp;weekday=mon\" onclick=\"clickcr(this,'lst.title','679519','59',event)\">59화 종강하자</a>\n",
       " </td>, <td class=\"title\">\n",
       " <a href=\"/webtoon/detail.nhn?titleId=679519&amp;no=58&amp;weekday=mon\" onclick=\"clickcr(this,'lst.title','679519','58',event)\">58화 공부하기 싫어서 그리는 만화</a>\n",
       " </td>, <td class=\"title\">\n",
       " <a href=\"/webtoon/detail.nhn?titleId=679519&amp;no=57&amp;weekday=mon\" onclick=\"clickcr(this,'lst.title','679519','57',event)\">57화 강의평가</a>\n",
       " </td>]"
      ]
     },
     "execution_count": 106,
     "metadata": {},
     "output_type": "execute_result"
    }
   ],
   "source": [
    "list2"
   ]
  },
  {
   "cell_type": "code",
   "execution_count": 107,
   "metadata": {
    "collapsed": false
   },
   "outputs": [
    {
     "name": "stdout",
     "output_type": "stream",
     "text": [
      "66화 겨울 간식\n",
      "65화 탈색한다 (2)\n",
      "64화 탈색한다 (1)\n",
      "63화 고기굽는사람\n",
      "62화 새해니까 새해목표\n",
      "61화 굿바이 丙申年\n",
      "60화 메리크리스마스\n",
      "59화 종강하자\n",
      "58화 공부하기 싫어서 그리는 만화\n",
      "57화 강의평가\n"
     ]
    }
   ],
   "source": [
    "for title in list2:\n",
    "    text = title.text\n",
    "    text2 = text.replace('\\n', '')\n",
    "    print(text2)"
   ]
  },
  {
   "cell_type": "code",
   "execution_count": 108,
   "metadata": {
    "collapsed": true
   },
   "outputs": [],
   "source": [
    "main_url = 'http://comic.naver.com/webtoon/list.nhn?titleId=679519'\n",
    "main_html = requests.get(main_url).text\n",
    "main_soup = BeautifulSoup(main_html, 'lxml')"
   ]
  },
  {
   "cell_type": "code",
   "execution_count": 109,
   "metadata": {
    "collapsed": true
   },
   "outputs": [],
   "source": [
    "page_list = main_soup.find_all('a', {'class':'page'})"
   ]
  },
  {
   "cell_type": "code",
   "execution_count": 110,
   "metadata": {
    "collapsed": false
   },
   "outputs": [
    {
     "data": {
      "text/plain": [
       "6"
      ]
     },
     "execution_count": 110,
     "metadata": {},
     "output_type": "execute_result"
    }
   ],
   "source": [
    "len(page_list)"
   ]
  },
  {
   "cell_type": "code",
   "execution_count": 112,
   "metadata": {
    "collapsed": false
   },
   "outputs": [
    {
     "name": "stdout",
     "output_type": "stream",
     "text": [
      "대학일기\\66화 겨울 간식\\url\n",
      "다운받을 것이오 : inst_thumbnail_20170113122142.jpg\n",
      "대학일기\\65화 탈색한다 (2)\\url\n",
      "다운받을 것이오 : inst_thumbnail_20170111152303.jpg\n",
      "대학일기\\64화 탈색한다 (1)\\url\n",
      "다운받을 것이오 : inst_thumbnail_20170106142723.jpg\n",
      "대학일기\\63화 고기굽는사람\\url\n",
      "다운받을 것이오 : inst_thumbnail_20170104162759.jpg\n",
      "대학일기\\62화 새해니까 새해목표\\url\n",
      "다운받을 것이오 : inst_thumbnail_20161230115639.jpg\n",
      "대학일기\\61화 굿바이 丙申年\\url\n",
      "다운받을 것이오 : inst_thumbnail_20161228124245.jpg\n",
      "대학일기\\60화 메리크리스마스\\url\n",
      "다운받을 것이오 : inst_thumbnail_20161223144040.jpg\n",
      "대학일기\\59화 종강하자\\url\n",
      "다운받을 것이오 : inst_thumbnail_20161221121139.jpg\n",
      "대학일기\\58화 공부하기 싫어서 그리는 만화\\url\n",
      "다운받을 것이오 : inst_thumbnail_20161215200732.jpg\n",
      "대학일기\\57화 강의평가\\url\n",
      "다운받을 것이오 : inst_thumbnail_20161214111525.jpg\n",
      "대학일기\\56화 도를 믿으십니까\\url\n",
      "다운받을 것이오 : inst_thumbnail_20161208184442.jpg\n",
      "대학일기\\55화 카페\\url\n",
      "다운받을 것이오 : inst_thumbnail_20161207124437.jpg\n",
      "대학일기\\54화 쾌감\\url\n",
      "다운받을 것이오 : inst_thumbnail_20161201190614.jpg\n",
      "대학일기\\53화 시험기간 정해보자\\url\n",
      "다운받을 것이오 : inst_thumbnail_20161130122304.jpg\n",
      "대학일기\\52화 공부 안되는 이유\\url\n",
      "다운받을 것이오 : inst_thumbnail_20161125161341.jpg\n",
      "대학일기\\51화 먹을 데가 없어\\url\n",
      "다운받을 것이오 : inst_thumbnail_20161123124741.jpg\n",
      "대학일기\\50화 운전면허\\url\n",
      "다운받을 것이오 : inst_thumbnail_20161118142501.jpg\n",
      "대학일기\\49화 수능\\url\n",
      "다운받을 것이오 : inst_thumbnail_20161116122525.jpg\n",
      "대학일기\\48화 수업시간 4컷\\url\n",
      "다운받을 것이오 : inst_thumbnail_20161111152613.jpg\n",
      "대학일기\\47화 먹는게 약이다\\url\n",
      "다운받을 것이오 : inst_thumbnail_20161109123630.jpg\n",
      "대학일기\\46화 존못\\url\n",
      "다운받을 것이오 : inst_thumbnail_20161104163853.jpg\n",
      "대학일기\\45화 행복 별거 없다\\url\n",
      "다운받을 것이오 : inst_thumbnail_20161102121127.jpg\n",
      "대학일기\\44화 결석\\url\n",
      "다운받을 것이오 : inst_thumbnail_20161028153225.jpg\n",
      "대학일기\\43화 밤낮을 바꿔라\\url\n",
      "다운받을 것이오 : inst_thumbnail_20161026151350.jpg\n",
      "대학일기\\42화 암기\\url\n",
      "다운받을 것이오 : inst_thumbnail_20161021164656.jpg\n",
      "대학일기\\41화 통학이 짱이다\\url\n",
      "다운받을 것이오 : inst_thumbnail_20161019154507.jpg\n",
      "대학일기\\40화 도서관 올나잇\\url\n",
      "다운받을 것이오 : inst_thumbnail_20161014161035.jpg\n",
      "대학일기\\39화 장염(2)\\url\n",
      "다운받을 것이오 : inst_thumbnail_20161012140802.jpg\n",
      "대학일기\\38화 장염(1)\\url\n",
      "다운받을 것이오 : inst_thumbnail_20161007120957.jpg\n",
      "대학일기\\37화 설문과제\\url\n",
      "다운받을 것이오 : inst_thumbnail_20161005182443.jpg\n",
      "대학일기\\36화 교내축제 주점 (2)\\url\n",
      "다운받을 것이오 : inst_thumbnail_20160929192609.jpg\n",
      "대학일기\\35화 교내축제 주점 (1)\\url\n",
      "다운받을 것이오 : inst_thumbnail_20160928110504.jpg\n",
      "대학일기\\34화 감기\\url\n",
      "다운받을 것이오 : inst_thumbnail_20160923152917.jpg\n",
      "대학일기\\33화 아침한정 가을\\url\n",
      "다운받을 것이오 : inst_thumbnail_20160921180133.jpg\n",
      "대학일기\\32화 가을엔 독서를\\url\n",
      "다운받을 것이오 : inst_thumbnail_20160912201612.jpg\n",
      "대학일기\\31화 추석 연휴\\url\n",
      "다운받을 것이오 : inst_thumbnail_20160912163129.jpg\n",
      "대학일기\\30화 추석 미션임파서블\\url\n",
      "다운받을 것이오 : inst_thumbnail_20160909133048.jpg\n",
      "대학일기\\29화 처음 소주 먹던 날\\url\n",
      "다운받을 것이오 : inst_thumbnail_20160907110403.jpg\n",
      "대학일기\\28화 개강후의 행복\\url\n",
      "다운받을 것이오 : inst_thumbnail_20160902150855.jpg\n",
      "대학일기\\27화 중고책\\url\n",
      "다운받을 것이오 : inst_thumbnail_20160831113657.jpg\n",
      "대학일기\\26화 방학 다 끝났네\\url\n",
      "다운받을 것이오 : inst_thumbnail_20160826152406.jpg\n",
      "대학일기\\25화 토익\\url\n",
      "다운받을 것이오 : inst_thumbnail_20160824115120.jpg\n",
      "대학일기\\24화 에어컨 없이 여름나기\\url\n",
      "다운받을 것이오 : inst_thumbnail_20160819142209.jpg\n",
      "대학일기\\23화 무서운 이야기\\url\n",
      "다운받을 것이오 : inst_thumbnail_20160817105757.jpg\n",
      "대학일기\\22화 물욕을 채워라\\url\n",
      "다운받을 것이오 : inst_thumbnail_20160812144534.jpg\n",
      "대학일기\\21화 모기\\url\n",
      "다운받을 것이오 : inst_thumbnail_20160810121335.jpg\n",
      "대학일기\\20화 다이어트\\url\n",
      "다운받을 것이오 : inst_thumbnail_20160805144749.jpg\n",
      "대학일기\\19화 지하철 땀난다\\url\n",
      "다운받을 것이오 : inst_thumbnail_20160803104902.jpg\n",
      "대학일기\\18화 매운거 먹을거야\\url\n",
      "다운받을 것이오 : inst_thumbnail_20160729125129.jpg\n",
      "대학일기\\17화 성적\\url\n",
      "다운받을 것이오 : inst_thumbnail_20160727114301.jpg\n",
      "대학일기\\16화 여드름 짜는 만화\\url\n",
      "다운받을 것이오 : inst_thumbnail_20160722123606.jpg\n",
      "대학일기\\15화 뭐라도 하자\\url\n",
      "다운받을 것이오 : inst_thumbnail_20160720115545.jpg\n",
      "대학일기\\14화 아침먹자\\url\n",
      "다운받을 것이오 : inst_thumbnail_20160715182216.jpg\n",
      "대학일기\\13화 종강\\url\n",
      "다운받을 것이오 : inst_thumbnail_20160713102352.jpg\n",
      "대학일기\\12화 기말\\url\n",
      "다운받을 것이오 : inst_thumbnail_20160708115459.jpg\n",
      "대학일기\\11화 엠티\\url\n",
      "다운받을 것이오 : inst_thumbnail_20160706141037.jpg\n",
      "대학일기\\10화 배고플때 참는법\\url\n",
      "다운받을 것이오 : inst_thumbnail_20160630185840.jpg\n",
      "대학일기\\9화 전공책\\url\n",
      "다운받을 것이오 : inst_thumbnail_20160629103223.jpg\n",
      "대학일기\\8화 춘곤증 탓을 해 보자\\url\n",
      "다운받을 것이오 : inst_thumbnail_20160624115542.jpg\n",
      "대학일기\\7화 자필 리포트 연성\\url\n",
      "다운받을 것이오 : inst_thumbnail_20160622144133.jpg\n",
      "대학일기\\6화 벚꽃의 꽃말 중간고사\\url\n",
      "다운받을 것이오 : inst_thumbnail_20160616123835.jpg\n",
      "대학일기\\5화 대면식\\url\n",
      "다운받을 것이오 : inst_thumbnail_20160615112101.jpg\n",
      "대학일기\\4화 밥버거 체험기\\url\n",
      "다운받을 것이오 : inst_thumbnail_20160610185505.jpg\n",
      "대학일기\\3화 개강\\url\n",
      "다운받을 것이오 : inst_thumbnail_20160608144153.jpg\n",
      "대학일기\\2화 수강신청실패유형\\url\n",
      "다운받을 것이오 : inst_thumbnail_20160603143904.jpg\n",
      "대학일기\\1화 수강신청\\url\n",
      "다운받을 것이오 : inst_thumbnail_20160602101225.jpg\n"
     ]
    }
   ],
   "source": [
    "for page_number in range(1, len(page_list)+2):\n",
    "    \n",
    "    page_url = main_url + \"&page=\"+str(page_number)\n",
    "    page_html = requests.get(page_url).text\n",
    "    page_soup = BeautifulSoup(page_html, 'lxml')\n",
    "    \n",
    "    src_list = page_soup.select('tr td a img')\n",
    "    \n",
    "    for src_tag in src_list:\n",
    "        \n",
    "        img_url = src_tag['src']\n",
    "        title = src_tag['title']\n",
    "        sub_url = 'http://comic.naver.com' + src_tag.parent['href']\n",
    "        \n",
    "        filename = os.path.basename(img_url)\n",
    "        filepath = os.path.join('대학일기', title, filename)\n",
    "        dirpath = os.path.dirname(filepath)\n",
    "        \n",
    "        filepath2 = os.path.join(dirpath, 'url')\n",
    "        print(filepath2)\n",
    "        \n",
    "        if not os.path.exists(dirpath):\n",
    "            os.makedirs(dirpath)\n",
    "            \n",
    "        if os.path.exists(filepath):\n",
    "            print('이미 존재 :', filename)\n",
    "        else:\n",
    "            print('다운받을 것이오 :', filename)\n",
    "            \n",
    "            #headers = {  'Referer': main_url, 'User-Agent':'Chrome???',}\n",
    "            #image_data = requests.get(img_url, headers=headers).content\n",
    "            \n",
    "            image_data = requests.get(img_url).content\n",
    "            with open(filepath, 'wb') as f:\n",
    "                f.write(image_data)\n",
    "                \n",
    "            with open(filepath2+'.txt', 'wt', encoding='utf-8') as f:\n",
    "                f.write(sub_url)\n",
    "\n",
    "    "
   ]
  },
  {
   "cell_type": "code",
   "execution_count": null,
   "metadata": {
    "collapsed": true
   },
   "outputs": [],
   "source": []
  },
  {
   "cell_type": "code",
   "execution_count": null,
   "metadata": {
    "collapsed": true
   },
   "outputs": [],
   "source": []
  }
 ],
 "metadata": {
  "anaconda-cloud": {},
  "kernelspec": {
   "display_name": "Python [conda root]",
   "language": "python",
   "name": "conda-root-py"
  },
  "language_info": {
   "codemirror_mode": {
    "name": "ipython",
    "version": 3
   },
   "file_extension": ".py",
   "mimetype": "text/x-python",
   "name": "python",
   "nbconvert_exporter": "python",
   "pygments_lexer": "ipython3",
   "version": "3.5.2"
  }
 },
 "nbformat": 4,
 "nbformat_minor": 1
}
