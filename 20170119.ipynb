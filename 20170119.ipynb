{
 "cells": [
  {
   "cell_type": "markdown",
   "metadata": {},
   "source": [
    "# 행렬 곱"
   ]
  },
  {
   "cell_type": "code",
   "execution_count": 1,
   "metadata": {
    "collapsed": true
   },
   "outputs": [],
   "source": [
    "arr1 = [\n",
    "    [1, 2],\n",
    "    [3, 4],\n",
    "]"
   ]
  },
  {
   "cell_type": "code",
   "execution_count": 2,
   "metadata": {
    "collapsed": true
   },
   "outputs": [],
   "source": [
    "arr2 = [\n",
    "    [5, 6],\n",
    "    [7, 8],\n",
    "]"
   ]
  },
  {
   "cell_type": "code",
   "execution_count": 4,
   "metadata": {
    "collapsed": false
   },
   "outputs": [
    {
     "data": {
      "text/plain": [
       "[(5, 7), (6, 8)]"
      ]
     },
     "execution_count": 4,
     "metadata": {},
     "output_type": "execute_result"
    }
   ],
   "source": [
    "list(zip(*arr2))\n",
    "\n",
    "# zip([5, 6], [7, 8]) # generator"
   ]
  },
  {
   "cell_type": "code",
   "execution_count": 6,
   "metadata": {
    "collapsed": false
   },
   "outputs": [
    {
     "name": "stdout",
     "output_type": "stream",
     "text": [
      "a x\n",
      "b y\n",
      "c z\n",
      "a x\n",
      "b y\n",
      "c z\n",
      "----\n",
      "[['a', 'b', 'c'], ['x', 'y', 'z']]\n",
      "a x\n",
      "b y\n",
      "c z\n"
     ]
    }
   ],
   "source": [
    "mylist1 = ['a', 'b', 'c']\n",
    "mylist2 = ['x', 'y', 'z']\n",
    "\n",
    "for i in range(len(mylist1)):\n",
    "    v1, v2 = mylist1[i], mylist2[i]\n",
    "    print(v1, v2)\n",
    "\n",
    "for (v1, v2) in zip(mylist1, mylist2):\n",
    "    print(v1, v2)\n",
    "\n",
    "print('----')\n",
    "mylist = [mylist1, mylist2]\n",
    "print(mylist)\n",
    "\n",
    "for (v1, v2) in zip(*mylist):\n",
    "    print(v1, v2)"
   ]
  },
  {
   "cell_type": "code",
   "execution_count": 8,
   "metadata": {
    "collapsed": false
   },
   "outputs": [
    {
     "data": {
      "text/plain": [
       "[[19, 22], [43, 50]]"
      ]
     },
     "execution_count": 8,
     "metadata": {},
     "output_type": "execute_result"
    }
   ],
   "source": [
    "result_list = []\n",
    "for row1 in arr1:\n",
    "    row_list = []\n",
    "    for row2 in zip(*arr2):\n",
    "        result = sum(i*j for i, j in zip(row1, row2))\n",
    "        row_list.append(result)\n",
    "    result_list.append(row_list)\n",
    "result_list"
   ]
  },
  {
   "cell_type": "code",
   "execution_count": 14,
   "metadata": {
    "collapsed": false
   },
   "outputs": [
    {
     "data": {
      "text/plain": [
       "[[19, 22], [43, 50]]"
      ]
     },
     "execution_count": 14,
     "metadata": {},
     "output_type": "execute_result"
    }
   ],
   "source": [
    "[[sum(i*j for i, j in zip(row1, row2))\n",
    "      for row2 in zip(*arr2)]\n",
    "     for row1 in arr1]"
   ]
  },
  {
   "cell_type": "markdown",
   "metadata": {},
   "source": [
    "# 네이버 웹툰, 목록 크롤링"
   ]
  },
  {
   "cell_type": "code",
   "execution_count": 34,
   "metadata": {
    "collapsed": true
   },
   "outputs": [],
   "source": [
    "webtoon_url = \"http://comic.naver.com/webtoon/list.nhn\""
   ]
  },
  {
   "cell_type": "code",
   "execution_count": 35,
   "metadata": {
    "collapsed": true
   },
   "outputs": [],
   "source": [
    "# '&'.join('{}={}'.format(k, v) for k, v in params.items())"
   ]
  },
  {
   "cell_type": "code",
   "execution_count": 52,
   "metadata": {
    "collapsed": true
   },
   "outputs": [],
   "source": [
    "import requests\n",
    "from bs4 import BeautifulSoup\n",
    "from collections import OrderedDict\n",
    "from itertools import count\n",
    "from urllib.parse import urljoin\n",
    "\n",
    "def get_webtoon_ep_list(title_id):\n",
    "    # ep_dict = OrderedDict()\n",
    "    ep_list = []\n",
    "\n",
    "    for page in count(1):\n",
    "        params = {'titleId': title_id, 'page': page}\n",
    "        print(params)\n",
    "        html = requests.get(webtoon_url, params=params).text\n",
    "        \n",
    "        soup = BeautifulSoup(html, 'html.parser')\n",
    "\n",
    "        for a_tag in soup.select('.viewList tr a'):\n",
    "            img_tag = a_tag.find('img')\n",
    "            if img_tag is None:\n",
    "                continue\n",
    "            ep_title = img_tag['title']\n",
    "            ep_img_url = img_tag['src']\n",
    "            ep_url = urljoin(webtoon_url, a_tag['href'])\n",
    "            \n",
    "            #if ep_url in ep_dict:\n",
    "            #    return ep_dict\n",
    "            \n",
    "            if ep_url in ep_list:\n",
    "                return None\n",
    "            \n",
    "            '''\n",
    "            ep_dict[ep_url] = {\n",
    "                'title': ep_title,\n",
    "                'img_url': ep_img_url,\n",
    "            }\n",
    "            '''\n",
    "            \n",
    "            ep_list.append(ep_url)\n",
    "            yield {\n",
    "                'url': ep_url,\n",
    "                'title': ep_title,\n",
    "                'img_url': ep_img_url,\n",
    "            }\n"
   ]
  },
  {
   "cell_type": "code",
   "execution_count": 53,
   "metadata": {
    "collapsed": false
   },
   "outputs": [
    {
     "name": "stdout",
     "output_type": "stream",
     "text": [
      "{'titleId': 655746, 'page': 1}\n",
      "{'title': '시즌1 후기', 'url': 'http://comic.naver.com/webtoon/detail.nhn?titleId=655746&no=81&weekday=sun', 'img_url': 'http://thumb.comic.naver.net/webtoon/655746/81/inst_thumbnail_20161217121740.jpg'}\n",
      "{'title': 'Epilogue', 'url': 'http://comic.naver.com/webtoon/detail.nhn?titleId=655746&no=80&weekday=sun', 'img_url': 'http://thumb.comic.naver.net/webtoon/655746/80/inst_thumbnail_20161208184625.jpg'}\n",
      "{'title': '78화. Dragon 11.', 'url': 'http://comic.naver.com/webtoon/detail.nhn?titleId=655746&no=79&weekday=sun', 'img_url': 'http://thumb.comic.naver.net/webtoon/655746/79/inst_thumbnail_20161201195156.jpg'}\n",
      "{'title': '77화. Dragon 10.', 'url': 'http://comic.naver.com/webtoon/detail.nhn?titleId=655746&no=78&weekday=sun', 'img_url': 'http://thumb.comic.naver.net/webtoon/655746/78/inst_thumbnail_20161124192806.jpg'}\n",
      "{'title': '76화. Dragon 9.', 'url': 'http://comic.naver.com/webtoon/detail.nhn?titleId=655746&no=77&weekday=sun', 'img_url': 'http://thumb.comic.naver.net/webtoon/655746/77/inst_thumbnail_20161117180628.jpg'}\n",
      "{'title': '75화. Dragon 8.', 'url': 'http://comic.naver.com/webtoon/detail.nhn?titleId=655746&no=76&weekday=sun', 'img_url': 'http://thumb.comic.naver.net/webtoon/655746/76/inst_thumbnail_20161111165057.jpg'}\n",
      "{'title': '74화. Dragon 7.', 'url': 'http://comic.naver.com/webtoon/detail.nhn?titleId=655746&no=75&weekday=sun', 'img_url': 'http://thumb.comic.naver.net/webtoon/655746/75/inst_thumbnail_20161104122904.jpg'}\n",
      "{'title': '73화. Dragon 6.', 'url': 'http://comic.naver.com/webtoon/detail.nhn?titleId=655746&no=74&weekday=sun', 'img_url': 'http://thumb.comic.naver.net/webtoon/655746/74/inst_thumbnail_20161028142455.jpg'}\n",
      "{'title': '72화. Dragon 5.', 'url': 'http://comic.naver.com/webtoon/detail.nhn?titleId=655746&no=73&weekday=sun', 'img_url': 'http://thumb.comic.naver.net/webtoon/655746/73/inst_thumbnail_20161021153704.jpg'}\n",
      "{'title': '71화. Dragon 4.', 'url': 'http://comic.naver.com/webtoon/detail.nhn?titleId=655746&no=72&weekday=sun', 'img_url': 'http://thumb.comic.naver.net/webtoon/655746/72/inst_thumbnail_20161014164057.jpg'}\n",
      "{'titleId': 655746, 'page': 2}\n",
      "{'title': '70화. Return 4.', 'url': 'http://comic.naver.com/webtoon/detail.nhn?titleId=655746&no=71&weekday=sun', 'img_url': 'http://thumb.comic.naver.net/webtoon/655746/71/inst_thumbnail_20161007121250.jpg'}\n",
      "{'title': '69화. Return 3.', 'url': 'http://comic.naver.com/webtoon/detail.nhn?titleId=655746&no=70&weekday=sun', 'img_url': 'http://thumb.comic.naver.net/webtoon/655746/70/inst_thumbnail_20160930151946.jpg'}\n",
      "{'title': '68화. Return 2.', 'url': 'http://comic.naver.com/webtoon/detail.nhn?titleId=655746&no=69&weekday=sun', 'img_url': 'http://thumb.comic.naver.net/webtoon/655746/69/inst_thumbnail_20160923152028.jpg'}\n",
      "{'title': '67화. Return 1.', 'url': 'http://comic.naver.com/webtoon/detail.nhn?titleId=655746&no=68&weekday=sun', 'img_url': 'http://thumb.comic.naver.net/webtoon/655746/68/inst_thumbnail_20160913151312.jpg'}\n",
      "{'title': '66화. Black 5.', 'url': 'http://comic.naver.com/webtoon/detail.nhn?titleId=655746&no=67&weekday=sun', 'img_url': 'http://thumb.comic.naver.net/webtoon/655746/67/inst_thumbnail_20160909141721.jpg'}\n",
      "{'title': '65화. Black 4.', 'url': 'http://comic.naver.com/webtoon/detail.nhn?titleId=655746&no=66&weekday=sun', 'img_url': 'http://thumb.comic.naver.net/webtoon/655746/66/inst_thumbnail_20160902114439.jpg'}\n",
      "{'title': '64화. Black 3.', 'url': 'http://comic.naver.com/webtoon/detail.nhn?titleId=655746&no=65&weekday=sun', 'img_url': 'http://thumb.comic.naver.net/webtoon/655746/65/inst_thumbnail_20160826163317.jpg'}\n",
      "{'title': '63화. Black 2.', 'url': 'http://comic.naver.com/webtoon/detail.nhn?titleId=655746&no=64&weekday=sun', 'img_url': 'http://thumb.comic.naver.net/webtoon/655746/64/inst_thumbnail_20160819154746.jpg'}\n",
      "{'title': '62화. Black 1.', 'url': 'http://comic.naver.com/webtoon/detail.nhn?titleId=655746&no=63&weekday=sun', 'img_url': 'http://thumb.comic.naver.net/webtoon/655746/63/inst_thumbnail_20160812121551.jpg'}\n",
      "{'title': '61화. Dragon 3.', 'url': 'http://comic.naver.com/webtoon/detail.nhn?titleId=655746&no=62&weekday=sun', 'img_url': 'http://thumb.comic.naver.net/webtoon/655746/62/inst_thumbnail_20160805121637.jpg'}\n",
      "{'titleId': 655746, 'page': 3}\n",
      "{'title': '60화. Dragon 2.', 'url': 'http://comic.naver.com/webtoon/detail.nhn?titleId=655746&no=61&weekday=sun', 'img_url': 'http://thumb.comic.naver.net/webtoon/655746/61/inst_thumbnail_20160729145157.jpg'}\n",
      "{'title': '59화. Dragon 1.', 'url': 'http://comic.naver.com/webtoon/detail.nhn?titleId=655746&no=60&weekday=sun', 'img_url': 'http://thumb.comic.naver.net/webtoon/655746/60/inst_thumbnail_20160722150441.jpg'}\n",
      "{'title': '58화. War 5.', 'url': 'http://comic.naver.com/webtoon/detail.nhn?titleId=655746&no=59&weekday=sun', 'img_url': 'http://thumb.comic.naver.net/webtoon/655746/59/inst_thumbnail_20160715182252.jpg'}\n",
      "{'title': '57화. War 4.', 'url': 'http://comic.naver.com/webtoon/detail.nhn?titleId=655746&no=58&weekday=sun', 'img_url': 'http://thumb.comic.naver.net/webtoon/655746/58/inst_thumbnail_20160708151809.jpg'}\n",
      "{'title': '56화. War 3.', 'url': 'http://comic.naver.com/webtoon/detail.nhn?titleId=655746&no=57&weekday=sun', 'img_url': 'http://thumb.comic.naver.net/webtoon/655746/57/inst_thumbnail_20160630163753.jpg'}\n",
      "{'title': '55화. War 2.', 'url': 'http://comic.naver.com/webtoon/detail.nhn?titleId=655746&no=56&weekday=sun', 'img_url': 'http://thumb.comic.naver.net/webtoon/655746/56/inst_thumbnail_20160624154433.jpg'}\n",
      "{'title': '54화. War 1.', 'url': 'http://comic.naver.com/webtoon/detail.nhn?titleId=655746&no=55&weekday=sun', 'img_url': 'http://thumb.comic.naver.net/webtoon/655746/55/inst_thumbnail_20160616203814.jpg'}\n",
      "{'title': '53화. Dream 6.', 'url': 'http://comic.naver.com/webtoon/detail.nhn?titleId=655746&no=54&weekday=sun', 'img_url': 'http://thumb.comic.naver.net/webtoon/655746/54/inst_thumbnail_20160610115404.jpg'}\n",
      "{'title': '52화. Dream 5.', 'url': 'http://comic.naver.com/webtoon/detail.nhn?titleId=655746&no=53&weekday=sun', 'img_url': 'http://thumb.comic.naver.net/webtoon/655746/53/inst_thumbnail_20160603122118.jpg'}\n",
      "{'title': '51화. Dream 4.', 'url': 'http://comic.naver.com/webtoon/detail.nhn?titleId=655746&no=52&weekday=sun', 'img_url': 'http://thumb.comic.naver.net/webtoon/655746/52/inst_thumbnail_20160527174048.jpg'}\n",
      "{'titleId': 655746, 'page': 4}\n",
      "{'title': '50화. Dream 3.', 'url': 'http://comic.naver.com/webtoon/detail.nhn?titleId=655746&no=51&weekday=sun', 'img_url': 'http://thumb.comic.naver.net/webtoon/655746/51/inst_thumbnail_20160520174825.jpg'}\n",
      "{'title': '49화. Dream 2.', 'url': 'http://comic.naver.com/webtoon/detail.nhn?titleId=655746&no=50&weekday=sun', 'img_url': 'http://thumb.comic.naver.net/webtoon/655746/50/inst_thumbnail_20160513122152.jpg'}\n",
      "{'title': '48화. Dream 1.', 'url': 'http://comic.naver.com/webtoon/detail.nhn?titleId=655746&no=49&weekday=sun', 'img_url': 'http://thumb.comic.naver.net/webtoon/655746/49/inst_thumbnail_20160504113605.jpg'}\n",
      "{'title': '47화. Revenge 12.', 'url': 'http://comic.naver.com/webtoon/detail.nhn?titleId=655746&no=48&weekday=sun', 'img_url': 'http://thumb.comic.naver.net/webtoon/655746/48/inst_thumbnail_20160429120859.jpg'}\n",
      "{'title': '46화. Revenge 11.', 'url': 'http://comic.naver.com/webtoon/detail.nhn?titleId=655746&no=47&weekday=sun', 'img_url': 'http://thumb.comic.naver.net/webtoon/655746/47/inst_thumbnail_20160422101746.jpg'}\n",
      "{'title': '45화. Revenge 10.', 'url': 'http://comic.naver.com/webtoon/detail.nhn?titleId=655746&no=46&weekday=sun', 'img_url': 'http://thumb.comic.naver.net/webtoon/655746/46/inst_thumbnail_20160415144331.jpg'}\n",
      "{'title': '44화. Revenge 9.', 'url': 'http://comic.naver.com/webtoon/detail.nhn?titleId=655746&no=45&weekday=sun', 'img_url': 'http://thumb.comic.naver.net/webtoon/655746/45/inst_thumbnail_20160407201727.jpg'}\n",
      "{'title': '43화. Revenge 8.', 'url': 'http://comic.naver.com/webtoon/detail.nhn?titleId=655746&no=44&weekday=sun', 'img_url': 'http://thumb.comic.naver.net/webtoon/655746/44/inst_thumbnail_20160401114045.jpg'}\n",
      "{'title': '42화. Revenge 7.', 'url': 'http://comic.naver.com/webtoon/detail.nhn?titleId=655746&no=43&weekday=sun', 'img_url': 'http://thumb.comic.naver.net/webtoon/655746/43/inst_thumbnail_20160325150728.jpg'}\n",
      "{'title': '41화. Revenge 6.', 'url': 'http://comic.naver.com/webtoon/detail.nhn?titleId=655746&no=42&weekday=sun', 'img_url': 'http://thumb.comic.naver.net/webtoon/655746/42/inst_thumbnail_20160318141416.jpg'}\n",
      "{'titleId': 655746, 'page': 5}\n",
      "{'title': '40화. Revenge 5.', 'url': 'http://comic.naver.com/webtoon/detail.nhn?titleId=655746&no=41&weekday=sun', 'img_url': 'http://thumb.comic.naver.net/webtoon/655746/41/inst_thumbnail_20160311113318.jpg'}\n",
      "{'title': '39화. Revenge 4.', 'url': 'http://comic.naver.com/webtoon/detail.nhn?titleId=655746&no=40&weekday=sun', 'img_url': 'http://thumb.comic.naver.net/webtoon/655746/40/inst_thumbnail_20160304152927.jpg'}\n",
      "{'title': '38화. Revenge 3.', 'url': 'http://comic.naver.com/webtoon/detail.nhn?titleId=655746&no=39&weekday=sun', 'img_url': 'http://thumb.comic.naver.net/webtoon/655746/39/inst_thumbnail_20160226112919.jpg'}\n",
      "{'title': '37화. Revenge 2.', 'url': 'http://comic.naver.com/webtoon/detail.nhn?titleId=655746&no=38&weekday=sun', 'img_url': 'http://thumb.comic.naver.net/webtoon/655746/38/inst_thumbnail_20160219115753.jpg'}\n",
      "{'title': '36화. Revenge 1.', 'url': 'http://comic.naver.com/webtoon/detail.nhn?titleId=655746&no=37&weekday=sun', 'img_url': 'http://thumb.comic.naver.net/webtoon/655746/37/inst_thumbnail_20160212155852.jpg'}\n",
      "{'title': '35화. Death 3.', 'url': 'http://comic.naver.com/webtoon/detail.nhn?titleId=655746&no=36&weekday=sun', 'img_url': 'http://thumb.comic.naver.net/webtoon/655746/36/inst_thumbnail_20160205102514.jpg'}\n",
      "{'title': '34화. Death 2.', 'url': 'http://comic.naver.com/webtoon/detail.nhn?titleId=655746&no=35&weekday=sun', 'img_url': 'http://thumb.comic.naver.net/webtoon/655746/35/inst_thumbnail_20160129110852.jpg'}\n",
      "{'title': '33화. Death 1.', 'url': 'http://comic.naver.com/webtoon/detail.nhn?titleId=655746&no=34&weekday=sun', 'img_url': 'http://thumb.comic.naver.net/webtoon/655746/34/inst_thumbnail_20160122111817.jpg'}\n",
      "{'title': '32화. Steel Rainbow 7.', 'url': 'http://comic.naver.com/webtoon/detail.nhn?titleId=655746&no=33&weekday=sun', 'img_url': 'http://thumb.comic.naver.net/webtoon/655746/33/inst_thumbnail_20160115115034.jpg'}\n",
      "{'title': '31화. Steel Rainbow 6.', 'url': 'http://comic.naver.com/webtoon/detail.nhn?titleId=655746&no=32&weekday=sun', 'img_url': 'http://thumb.comic.naver.net/webtoon/655746/32/inst_thumbnail_20160108122105.jpg'}\n",
      "{'titleId': 655746, 'page': 6}\n",
      "{'title': '30화. Curse 4.', 'url': 'http://comic.naver.com/webtoon/detail.nhn?titleId=655746&no=31&weekday=sun', 'img_url': 'http://thumb.comic.naver.net/webtoon/655746/31/inst_thumbnail_20151231141401.jpg'}\n",
      "{'title': '29화. Curse 3.', 'url': 'http://comic.naver.com/webtoon/detail.nhn?titleId=655746&no=30&weekday=sun', 'img_url': 'http://thumb.comic.naver.net/webtoon/655746/30/inst_thumbnail_20151224120730.jpg'}\n",
      "{'title': '28화. Curse 2.', 'url': 'http://comic.naver.com/webtoon/detail.nhn?titleId=655746&no=29&weekday=sun', 'img_url': 'http://thumb.comic.naver.net/webtoon/655746/29/inst_thumbnail_20151218114124.jpg'}\n",
      "{'title': '27화. Curse 1.', 'url': 'http://comic.naver.com/webtoon/detail.nhn?titleId=655746&no=28&weekday=sun', 'img_url': 'http://thumb.comic.naver.net/webtoon/655746/28/inst_thumbnail_20151211125906.jpg'}\n",
      "{'title': '26화. Steel Rainbow 5.', 'url': 'http://comic.naver.com/webtoon/detail.nhn?titleId=655746&no=27&weekday=sun', 'img_url': 'http://thumb.comic.naver.net/webtoon/655746/27/inst_thumbnail_20151204140314.jpg'}\n",
      "{'title': '25화. Steel Rainbow 4.', 'url': 'http://comic.naver.com/webtoon/detail.nhn?titleId=655746&no=26&weekday=sun', 'img_url': 'http://thumb.comic.naver.net/webtoon/655746/26/inst_thumbnail_20151127115415.jpg'}\n",
      "{'title': \"24화. I'm Your Father 3.\", 'url': 'http://comic.naver.com/webtoon/detail.nhn?titleId=655746&no=25&weekday=sun', 'img_url': 'http://thumb.comic.naver.net/webtoon/655746/25/inst_thumbnail_20151119201852.jpg'}\n",
      "{'title': \"23화. I'm Your Father 2.\", 'url': 'http://comic.naver.com/webtoon/detail.nhn?titleId=655746&no=24&weekday=sun', 'img_url': 'http://thumb.comic.naver.net/webtoon/655746/24/inst_thumbnail_20151113112545.jpg'}\n",
      "{'title': \"22화. I'm Your Father 1.\", 'url': 'http://comic.naver.com/webtoon/detail.nhn?titleId=655746&no=23&weekday=sun', 'img_url': 'http://thumb.comic.naver.net/webtoon/655746/23/inst_thumbnail_20151106111321.jpg'}\n",
      "{'title': '21화. Contact 3.', 'url': 'http://comic.naver.com/webtoon/detail.nhn?titleId=655746&no=22&weekday=sun', 'img_url': 'http://thumb.comic.naver.net/webtoon/655746/22/inst_thumbnail_20151030142516.jpg'}\n",
      "{'titleId': 655746, 'page': 7}\n",
      "{'title': '20화. Contact 2.', 'url': 'http://comic.naver.com/webtoon/detail.nhn?titleId=655746&no=21&weekday=sun', 'img_url': 'http://thumb.comic.naver.net/webtoon/655746/21/inst_thumbnail_20151023145540.jpg'}\n",
      "{'title': '19화. Contact 1.', 'url': 'http://comic.naver.com/webtoon/detail.nhn?titleId=655746&no=20&weekday=sun', 'img_url': 'http://thumb.comic.naver.net/webtoon/655746/20/inst_thumbnail_20151015170133.jpg'}\n",
      "{'title': '18화. Nova 2.', 'url': 'http://comic.naver.com/webtoon/detail.nhn?titleId=655746&no=19&weekday=sun', 'img_url': 'http://thumb.comic.naver.net/webtoon/655746/19/inst_thumbnail_20151008144124.jpg'}\n",
      "{'title': '17화. Nova 1.', 'url': 'http://comic.naver.com/webtoon/detail.nhn?titleId=655746&no=18&weekday=sun', 'img_url': 'http://thumb.comic.naver.net/webtoon/655746/18/inst_thumbnail_20151002114025.jpg'}\n",
      "{'title': '16화. Steel Rainbow 3.', 'url': 'http://comic.naver.com/webtoon/detail.nhn?titleId=655746&no=17&weekday=sun', 'img_url': 'http://thumb.comic.naver.net/webtoon/655746/17/inst_thumbnail_20150924154659.jpg'}\n",
      "{'title': '15화. Steel Rainbow 2.', 'url': 'http://comic.naver.com/webtoon/detail.nhn?titleId=655746&no=16&weekday=sun', 'img_url': 'http://thumb.comic.naver.net/webtoon/655746/16/inst_thumbnail_20150917202417.jpg'}\n",
      "{'title': '14화. Steel Rainbow 1.', 'url': 'http://comic.naver.com/webtoon/detail.nhn?titleId=655746&no=15&weekday=sun', 'img_url': 'http://thumb.comic.naver.net/webtoon/655746/15/inst_thumbnail_20150911144001.jpg'}\n",
      "{'title': '13화. Undead 2.', 'url': 'http://comic.naver.com/webtoon/detail.nhn?titleId=655746&no=14&weekday=sun', 'img_url': 'http://thumb.comic.naver.net/webtoon/655746/14/inst_thumbnail_20150904140316.jpg'}\n",
      "{'title': '12화. Undead 1.', 'url': 'http://comic.naver.com/webtoon/detail.nhn?titleId=655746&no=13&weekday=sun', 'img_url': 'http://thumb.comic.naver.net/webtoon/655746/13/inst_thumbnail_20150828161708.jpg'}\n",
      "{'title': '11화. Rival 4.', 'url': 'http://comic.naver.com/webtoon/detail.nhn?titleId=655746&no=12&weekday=sun', 'img_url': 'http://thumb.comic.naver.net/webtoon/655746/12/inst_thumbnail_20150821120507.jpg'}\n",
      "{'titleId': 655746, 'page': 8}\n",
      "{'title': '10화. Rival 3.', 'url': 'http://comic.naver.com/webtoon/detail.nhn?titleId=655746&no=11&weekday=sun', 'img_url': 'http://thumb.comic.naver.net/webtoon/655746/11/inst_thumbnail_20150813141224.jpg'}\n",
      "{'title': '9화. Rival 2.', 'url': 'http://comic.naver.com/webtoon/detail.nhn?titleId=655746&no=10&weekday=sun', 'img_url': 'http://thumb.comic.naver.net/webtoon/655746/10/inst_thumbnail_20150807113825.jpg'}\n",
      "{'title': '8화. Rival 1.', 'url': 'http://comic.naver.com/webtoon/detail.nhn?titleId=655746&no=9&weekday=sun', 'img_url': 'http://thumb.comic.naver.net/webtoon/655746/9/inst_thumbnail_20150731135650.jpg'}\n",
      "{'title': '7화. Polymorph 3.', 'url': 'http://comic.naver.com/webtoon/detail.nhn?titleId=655746&no=8&weekday=sun', 'img_url': 'http://thumb.comic.naver.net/webtoon/655746/8/inst_thumbnail_20150724122251.jpg'}\n",
      "{'title': '6화. Polymorph 2.', 'url': 'http://comic.naver.com/webtoon/detail.nhn?titleId=655746&no=7&weekday=sun', 'img_url': 'http://thumb.comic.naver.net/webtoon/655746/7/inst_thumbnail_20150717142839.jpg'}\n",
      "{'title': '5화. Polymorph 1.', 'url': 'http://comic.naver.com/webtoon/detail.nhn?titleId=655746&no=6&weekday=sun', 'img_url': 'http://thumb.comic.naver.net/webtoon/655746/6/inst_thumbnail_20150709193936.jpg'}\n",
      "{'title': '4화. Honeymoon 3.', 'url': 'http://comic.naver.com/webtoon/detail.nhn?titleId=655746&no=5&weekday=sun', 'img_url': 'http://thumb.comic.naver.net/webtoon/655746/5/inst_thumbnail_20150703153419.jpg'}\n",
      "{'title': '3화. Honeymoon 2.', 'url': 'http://comic.naver.com/webtoon/detail.nhn?titleId=655746&no=4&weekday=sun', 'img_url': 'http://thumb.comic.naver.net/webtoon/655746/4/inst_thumbnail_20150626162901.jpg'}\n",
      "{'title': '2화. Honeymoon 1.', 'url': 'http://comic.naver.com/webtoon/detail.nhn?titleId=655746&no=3&weekday=sun', 'img_url': 'http://thumb.comic.naver.net/webtoon/655746/3/inst_thumbnail_20150619153352.jpg'}\n",
      "{'title': '1화. Invisibility.', 'url': 'http://comic.naver.com/webtoon/detail.nhn?titleId=655746&no=2&weekday=sun', 'img_url': 'http://thumb.comic.naver.net/webtoon/655746/2/inst_thumbnail_20150612163004.jpg'}\n",
      "{'titleId': 655746, 'page': 9}\n",
      "{'title': '프롤로그', 'url': 'http://comic.naver.com/webtoon/detail.nhn?titleId=655746&no=1&weekday=sun', 'img_url': 'http://thumb.comic.naver.net/webtoon/655746/1/inst_thumbnail_20150606170709.jpg'}\n",
      "{'titleId': 655746, 'page': 10}\n"
     ]
    }
   ],
   "source": [
    "title_id = 655746  # 마법스크롤상인 지오\n",
    "for ep in get_webtoon_ep_list(title_id):\n",
    "    print(ep)"
   ]
  },
  {
   "cell_type": "markdown",
   "metadata": {},
   "source": [
    "# 네이버 웹툰, 특정 에피소드 다운로드"
   ]
  },
  {
   "cell_type": "code",
   "execution_count": 60,
   "metadata": {
    "collapsed": true
   },
   "outputs": [],
   "source": [
    "ep_url = \"http://comic.naver.com/webtoon/detail.nhn\"\n",
    "title_id = 655746\n",
    "no = 79\n",
    "params = {'titleId': title_id, 'no': no}"
   ]
  },
  {
   "cell_type": "code",
   "execution_count": 68,
   "metadata": {
    "collapsed": true
   },
   "outputs": [],
   "source": [
    "import os\n",
    "import requests\n",
    "from bs4 import BeautifulSoup\n",
    "from PIL import Image"
   ]
  },
  {
   "cell_type": "code",
   "execution_count": 69,
   "metadata": {
    "collapsed": true
   },
   "outputs": [],
   "source": [
    "html = requests.get(ep_url, params=params).text\n",
    "soup = BeautifulSoup(html, 'html.parser')"
   ]
  },
  {
   "cell_type": "code",
   "execution_count": 74,
   "metadata": {
    "collapsed": false
   },
   "outputs": [
    {
     "name": "stdout",
     "output_type": "stream",
     "text": [
      "data/655746/79/20161201195201_0e05c0d20addc0e979d79763426a6984_IMAG01_1.jpg\n",
      "data/655746/79/20161201195201_0e05c0d20addc0e979d79763426a6984_IMAG01_2.jpg\n",
      "data/655746/79/20161201195201_0e05c0d20addc0e979d79763426a6984_IMAG01_3.jpg\n",
      "data/655746/79/20161201195201_0e05c0d20addc0e979d79763426a6984_IMAG01_4.jpg\n",
      "data/655746/79/20161201195201_0e05c0d20addc0e979d79763426a6984_IMAG01_5.jpg\n",
      "data/655746/79/20161201195201_0e05c0d20addc0e979d79763426a6984_IMAG01_6.jpg\n",
      "data/655746/79/20161201195201_0e05c0d20addc0e979d79763426a6984_IMAG01_7.jpg\n",
      "data/655746/79/20161201195201_0e05c0d20addc0e979d79763426a6984_IMAG01_8.jpg\n",
      "data/655746/79/20161201195201_0e05c0d20addc0e979d79763426a6984_IMAG01_9.jpg\n",
      "data/655746/79/20161201195201_0e05c0d20addc0e979d79763426a6984_IMAG01_10.jpg\n",
      "data/655746/79/20161201195201_0e05c0d20addc0e979d79763426a6984_IMAG01_11.jpg\n",
      "data/655746/79/20161201195201_0e05c0d20addc0e979d79763426a6984_IMAG01_12.jpg\n",
      "data/655746/79/20161201195201_0e05c0d20addc0e979d79763426a6984_IMAG01_13.jpg\n",
      "data/655746/79/20161201195201_0e05c0d20addc0e979d79763426a6984_IMAG01_14.jpg\n",
      "data/655746/79/20161201195201_0e05c0d20addc0e979d79763426a6984_IMAG01_15.jpg\n",
      "data/655746/79/20161201195201_0e05c0d20addc0e979d79763426a6984_IMAG01_16.jpg\n",
      "data/655746/79/20161201195201_0e05c0d20addc0e979d79763426a6984_IMAG01_17.jpg\n",
      "data/655746/79/20161201195201_0e05c0d20addc0e979d79763426a6984_IMAG01_18.jpg\n",
      "data/655746/79/20161201195201_0e05c0d20addc0e979d79763426a6984_IMAG01_19.jpg\n",
      "data/655746/79/20161201195201_0e05c0d20addc0e979d79763426a6984_IMAG01_20.jpg\n",
      "data/655746/79/20161201195201_0e05c0d20addc0e979d79763426a6984_IMAG01_21.jpg\n",
      "data/655746/79/20161201195201_0e05c0d20addc0e979d79763426a6984_IMAG01_22.jpg\n",
      "data/655746/79/20161201195201_0e05c0d20addc0e979d79763426a6984_IMAG01_23.jpg\n",
      "data/655746/79/20161201195201_0e05c0d20addc0e979d79763426a6984_IMAG01_24.jpg\n",
      "data/655746/79/20161201195201_0e05c0d20addc0e979d79763426a6984_IMAG01_25.jpg\n",
      "data/655746/79/20161201195201_0e05c0d20addc0e979d79763426a6984_IMAG01_26.jpg\n",
      "data/655746/79/20161201195201_0e05c0d20addc0e979d79763426a6984_IMAG01_27.jpg\n",
      "data/655746/79/20161201195201_0e05c0d20addc0e979d79763426a6984_IMAG01_28.jpg\n",
      "data/655746/79/20161201195201_0e05c0d20addc0e979d79763426a6984_IMAG01_29.jpg\n",
      "data/655746/79/20161201195201_0e05c0d20addc0e979d79763426a6984_IMAG01_30.jpg\n",
      "data/655746/79/20161201195201_0e05c0d20addc0e979d79763426a6984_IMAG01_31.jpg\n",
      "data/655746/79/20161201195201_0e05c0d20addc0e979d79763426a6984_IMAG01_32.jpg\n",
      "data/655746/79/20161201195201_0e05c0d20addc0e979d79763426a6984_IMAG01_33.jpg\n",
      "data/655746/79/20161201195201_0e05c0d20addc0e979d79763426a6984_IMAG01_34.jpg\n",
      "data/655746/79/20161201195201_0e05c0d20addc0e979d79763426a6984_IMAG01_35.jpg\n",
      "data/655746/79/20161201195201_0e05c0d20addc0e979d79763426a6984_IMAG01_36.jpg\n",
      "data/655746/79/20161201195201_0e05c0d20addc0e979d79763426a6984_IMAG01_37.jpg\n",
      "data/655746/79/20161201195201_0e05c0d20addc0e979d79763426a6984_IMAG01_38.jpg\n",
      "data/655746/79/20161201195201_0e05c0d20addc0e979d79763426a6984_IMAG01_39.jpg\n",
      "data/655746/79/20161201195201_0e05c0d20addc0e979d79763426a6984_IMAG01_40.jpg\n",
      "data/655746/79/20161201195201_0e05c0d20addc0e979d79763426a6984_IMAG01_41.jpg\n",
      "data/655746/79/20161201195201_0e05c0d20addc0e979d79763426a6984_IMAG01_42.jpg\n",
      "data/655746/79/20161201195201_0e05c0d20addc0e979d79763426a6984_IMAG01_43.jpg\n",
      "data/655746/79/20161201195201_0e05c0d20addc0e979d79763426a6984_IMAG01_44.jpg\n",
      "data/655746/79/20161201195201_0e05c0d20addc0e979d79763426a6984_IMAG01_45.jpg\n"
     ]
    }
   ],
   "source": [
    "im_list = []\n",
    "\n",
    "for img_tag in soup.select('.wt_viewer img'):\n",
    "    img_url = img_tag['src']\n",
    "    file_name = os.path.basename(img_url)\n",
    "    file_path = os.path.join('data', str(title_id), str(no), file_name)\n",
    "    dir_path = os.path.dirname(file_path)\n",
    "    if not os.path.exists(dir_path):\n",
    "        os.makedirs(dir_path)\n",
    "\n",
    "    if not os.path.exists(file_path):\n",
    "        headers = {'Referer': ep_url}\n",
    "        img_data = requests.get(img_url, headers=headers).content\n",
    "        with open(file_path, 'wb') as f:\n",
    "            f.write(img_data)\n",
    "    \n",
    "    print(file_path)\n",
    "    im = Image.open(file_path)\n",
    "    im_list.append(im)"
   ]
  },
  {
   "cell_type": "code",
   "execution_count": 78,
   "metadata": {
    "collapsed": false
   },
   "outputs": [],
   "source": [
    "canvas_width = max(im.size[0] for im in im_list)"
   ]
  },
  {
   "cell_type": "code",
   "execution_count": 81,
   "metadata": {
    "collapsed": true
   },
   "outputs": [],
   "source": [
    "canvas_height = min(65000 ,sum(im.size[1] for im in im_list))"
   ]
  },
  {
   "cell_type": "code",
   "execution_count": 82,
   "metadata": {
    "collapsed": false
   },
   "outputs": [
    {
     "data": {
      "text/plain": [
       "(690, 65000)"
      ]
     },
     "execution_count": 82,
     "metadata": {},
     "output_type": "execute_result"
    }
   ],
   "source": [
    "canvas_width, canvas_height"
   ]
  },
  {
   "cell_type": "code",
   "execution_count": 84,
   "metadata": {
    "collapsed": false
   },
   "outputs": [],
   "source": [
    "canvas = Image.new('RGB', (canvas_width, canvas_height))"
   ]
  },
  {
   "cell_type": "code",
   "execution_count": 93,
   "metadata": {
    "collapsed": true
   },
   "outputs": [],
   "source": [
    "top = 0\n",
    "for im in im_list:\n",
    "    canvas.paste(im, (0, top))\n",
    "    top += canvas.size[1]\n",
    "    if top > canvas.size[1]:\n",
    "        break"
   ]
  },
  {
   "cell_type": "code",
   "execution_count": 94,
   "metadata": {
    "collapsed": true
   },
   "outputs": [],
   "source": [
    "canvas.show()"
   ]
  },
  {
   "cell_type": "code",
   "execution_count": 95,
   "metadata": {
    "collapsed": false
   },
   "outputs": [],
   "source": [
    "canvas_name = '{}-{}.jpg'.format(title_id, no)\n",
    "canvas.save(canvas_name)"
   ]
  },
  {
   "cell_type": "code",
   "execution_count": null,
   "metadata": {
    "collapsed": true
   },
   "outputs": [],
   "source": []
  }
 ],
 "metadata": {
  "anaconda-cloud": {},
  "kernelspec": {
   "display_name": "Python [default]",
   "language": "python",
   "name": "python3"
  },
  "language_info": {
   "codemirror_mode": {
    "name": "ipython",
    "version": 3
   },
   "file_extension": ".py",
   "mimetype": "text/x-python",
   "name": "python",
   "nbconvert_exporter": "python",
   "pygments_lexer": "ipython3",
   "version": "3.5.2"
  }
 },
 "nbformat": 4,
 "nbformat_minor": 1
}
